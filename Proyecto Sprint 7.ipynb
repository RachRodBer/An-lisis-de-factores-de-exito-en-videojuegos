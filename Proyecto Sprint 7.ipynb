{
 "cells": [
  {
   "cell_type": "markdown",
   "metadata": {},
   "source": [
    "¡Hola!\n",
    "\n",
    "Mi nombre es Tonatiuh Cruz. Me complace revisar tu proyecto hoy.\n",
    "\n",
    "Al identificar cualquier error inicialmente, simplemente los destacaré. Te animo a localizar y abordar los problemas de forma independiente como parte de tu preparación para un rol como data-scientist. En un entorno profesional, tu líder de equipo seguiría un enfoque similar. Si encuentras la tarea desafiante, proporcionaré una pista más específica en la próxima iteración.\n",
    "\n",
    "Encontrarás mis comentarios a continuación - **por favor no los muevas, modifiques o elimines**.\n",
    "\n",
    "Puedes encontrar mis comentarios en cajas verdes, amarillas o rojas como esta:\n",
    "\n",
    "<div class=\"alert alert-block alert-success\">\n",
    "<b>Comentario del revisor</b> <a class=\"tocSkip\"></a>\n",
    "\n",
    "Éxito. Todo está hecho correctamente.\n",
    "</div>\n",
    "\n",
    "<div class=\"alert alert-block alert-warning\">\n",
    "<b>Comentario del revisor</b> <a class=\"tocSkip\"></a>\n",
    "\n",
    "Observaciones. Algunas recomendaciones.\n",
    "</div>\n",
    "\n",
    "<div class=\"alert alert-block alert-danger\">\n",
    "<b>Comentario del revisor</b> <a class=\"tocSkip\"></a>\n",
    "\n",
    "Necesita corrección. El bloque requiere algunas correcciones. El trabajo no puede ser aceptado con comentarios en rojo.\n",
    "</div>\n",
    "\n",
    "Puedes responderme utilizando esto:\n",
    "\n",
    "<div class=\"alert alert-block alert-info\">\n",
    "<b>Respuesta del estudiante.</b> <a class=\"tocSkip\"></a>\n",
    "</div>"
   ]
  },
  {
   "cell_type": "markdown",
   "metadata": {},
   "source": [
    "<div class=\"alert alert-block alert-warning\">\n",
    "<b>Comentario del revisor</b> <a class=\"tocSkip\"></a>\n",
    "\n",
    "¡Hola! Recuerda que para los ejercicio de análisis de datos es necesario desarrollar la introducción, objetivo y etapas de análisis. Esto es crucial para cualquier proyecto, ya que establece una guía clara sobre los pasos a seguir. Tener estos elementos bien definidos desde el principio nos permite trabajar de manera más organizada y eficiente. En un futuro lo podrías complementar con una tabla de contenido.\n",
    "</div>"
   ]
  },
  {
   "cell_type": "markdown",
   "metadata": {},
   "source": [
    "<div class=\"alert alert-block alert-info\">\n",
    " Se añadieron la introducción, el objetivo y las etapas de análisis. Sin embargo, aún no he aprendido a crear una tabla de contenido."
   ]
  },
  {
   "cell_type": "markdown",
   "metadata": {},
   "source": [
    "<div class=\"alert alert-block alert-info\">\n",
    "<b>Comentario del revisor</b> <a class=\"tocSkip\"></a>\n",
    "\n",
    "Hola! Claro, para agregar una tabla de contenido en un Jupyter Notebook de manera rápida, primero asegúrate de tener instalada la extensión jupyter_contrib_nbextensions. Activa la extensión Table of Contents (2) desde la pestaña \"Nbextensions\" en la página de inicio de Jupyter Notebook. Una vez habilitada, podrás ver y personalizar la tabla de contenido desde el menú View. La tabla se actualizará automáticamente según añadas o modifiques encabezados en tu notebook, asegurándote de mantenerla siempre actualizada y útil para la navegación.\n",
    "</div>"
   ]
  },
  {
   "cell_type": "markdown",
   "metadata": {},
   "source": [
    "\n",
    "   \n",
    "    \n",
    "# Análisis de Datos para la Estrategia de Ventas de Ice Company en 2017\n",
    "\n",
    "\n"
   ]
  },
  {
   "cell_type": "markdown",
   "metadata": {},
   "source": [
    "Introducción:\n",
    "\n",
    "En este proyecto, trabajamos para la tienda online Ice, la cual vende videojuegos a nivel mundial. Tenemos información de ventas por regiones (en millones de dólares), reseñas de usuarios y críticos, géneros de juegos y plataformas como Xbox, PlayStation, entre otras. Estos datos nos ayudarán a determinar qué factores influyen en el éxito de un videojuego, permitiendo a Ice detectar proyectos prometedores y planificar campañas publicitarias más efectivas para 2017. \n",
    "\n",
    "Objetivo:\n",
    "\n",
    "El propósito principal del análisis es descubrir los factores que determinan el éxito de un videojuego, ya sea mediante las reseñas de usuarios y críticos, las plataformas en las que se juegan, los géneros, o las clasificaciones de la ESRB. Con esta información, Ice podrá optimizar sus estrategias de marketing, centrándose en juegos con mayor potencial de éxito y aumentando así sus ventas en 2017.\n",
    "\n",
    "Etapas del Análisis:\n",
    "\n",
    "Exploración de Datos:  En esta fase inicial, revisamos las características del dataset y realizamos una limpieza de datos para eliminar valores nulos o inconsistencias. Esto nos permite trabajar con un conjunto de datos más preciso y confiable. \n",
    "\n",
    "Análisis Descriptivo: Se identifican patrones generales en los datos, como los géneros más populares, las plataformas más rentables y la correlación entre las calificaciones de usuarios y críticos y el éxito comercial de los videojuegos.\n",
    "\n",
    "Comparación entre Plataformas: Se lleva a cabo un análisis detallado de las diferencias entre plataformas (Xbox, PlayStation, PC, etc.), tanto en términos de calificaciones como de ventas, para comprender cuál es más rentable y por qué.\n",
    "\n",
    "Evaluación de Géneros y Clasificaciones ESRB: Se analiza qué géneros son los más exitosos en términos de ventas y cómo las clasificaciones de la ESRB (como \"Teen\" o \"Mature\") influyen en el rendimiento de ventas en distintas regiones.\n",
    "\n",
    "Pruebas de Hipótesis: Se aplican pruebas estadísticas para comparar las calificaciones y ventas entre diferentes plataformas y géneros, evaluando si las diferencias observadas son estadísticamente significativas.\n",
    "\n",
    "\n",
    "\n",
    "Conclusiones y Recomendaciones:\n",
    "\n",
    "A partir de los resultados del análisis, se proporcionan recomendaciones estratégicas para que Ice optimice sus campañas publicitarias y enfoque sus esfuerzos en los proyectos con mayor potencial de éxito en 2017.\n",
    "\n"
   ]
  },
  {
   "cell_type": "markdown",
   "metadata": {},
   "source": [
    "<div style=\"background-color: lightblue; padding: 10px; border-radius: 5px;\">\n",
    "    \n",
    "Primero, importaremos las librerías necesarias para desarrollar este proyecto. A continuación, realizaremos un análisis preliminar de la información para identificar y corregir cualquier dato que requiera limpieza, asegurando así su correcto uso."
   ]
  },
  {
   "cell_type": "code",
   "execution_count": 51,
   "metadata": {
    "tags": [
     "e5c1f0c2-db9f-43a0-99b9-4875c52427e8"
    ]
   },
   "outputs": [],
   "source": [
    "import pandas as pd\n",
    "import numpy as np\n",
    "import matplotlib.pyplot as plt\n",
    "import seaborn as sns \n",
    "from scipy.stats import ttest_ind\n",
    "from scipy.stats import levene\n"
   ]
  },
  {
   "cell_type": "code",
   "execution_count": 2,
   "metadata": {},
   "outputs": [],
   "source": [
    "games_data = pd.read_csv('/datasets/games.csv')"
   ]
  },
  {
   "cell_type": "markdown",
   "metadata": {},
   "source": [
    "\n",
    "<div class=\"alert alert-block alert-success\">\n",
    "<b>Comentario del revisor:</b> <a class=\"tocSkip\"></a>\n",
    "    \n",
    "Has realizado un excelente trabajo al importar los datos y las bibliotecas necesarias.\n",
    "\n",
    "</div>"
   ]
  },
  {
   "cell_type": "code",
   "execution_count": 3,
   "metadata": {},
   "outputs": [
    {
     "name": "stdout",
     "output_type": "stream",
     "text": [
      "<class 'pandas.core.frame.DataFrame'>\n",
      "RangeIndex: 16715 entries, 0 to 16714\n",
      "Data columns (total 11 columns):\n",
      " #   Column           Non-Null Count  Dtype  \n",
      "---  ------           --------------  -----  \n",
      " 0   Name             16713 non-null  object \n",
      " 1   Platform         16715 non-null  object \n",
      " 2   Year_of_Release  16446 non-null  float64\n",
      " 3   Genre            16713 non-null  object \n",
      " 4   NA_sales         16715 non-null  float64\n",
      " 5   EU_sales         16715 non-null  float64\n",
      " 6   JP_sales         16715 non-null  float64\n",
      " 7   Other_sales      16715 non-null  float64\n",
      " 8   Critic_Score     8137 non-null   float64\n",
      " 9   User_Score       10014 non-null  object \n",
      " 10  Rating           9949 non-null   object \n",
      "dtypes: float64(6), object(5)\n",
      "memory usage: 1.4+ MB\n"
     ]
    }
   ],
   "source": [
    "games_data.info()"
   ]
  },
  {
   "cell_type": "code",
   "execution_count": 4,
   "metadata": {},
   "outputs": [
    {
     "data": {
      "text/html": [
       "<div>\n",
       "<style scoped>\n",
       "    .dataframe tbody tr th:only-of-type {\n",
       "        vertical-align: middle;\n",
       "    }\n",
       "\n",
       "    .dataframe tbody tr th {\n",
       "        vertical-align: top;\n",
       "    }\n",
       "\n",
       "    .dataframe thead th {\n",
       "        text-align: right;\n",
       "    }\n",
       "</style>\n",
       "<table border=\"1\" class=\"dataframe\">\n",
       "  <thead>\n",
       "    <tr style=\"text-align: right;\">\n",
       "      <th></th>\n",
       "      <th>Name</th>\n",
       "      <th>Platform</th>\n",
       "      <th>Year_of_Release</th>\n",
       "      <th>Genre</th>\n",
       "      <th>NA_sales</th>\n",
       "      <th>EU_sales</th>\n",
       "      <th>JP_sales</th>\n",
       "      <th>Other_sales</th>\n",
       "      <th>Critic_Score</th>\n",
       "      <th>User_Score</th>\n",
       "      <th>Rating</th>\n",
       "    </tr>\n",
       "  </thead>\n",
       "  <tbody>\n",
       "    <tr>\n",
       "      <th>0</th>\n",
       "      <td>Wii Sports</td>\n",
       "      <td>Wii</td>\n",
       "      <td>2006.0</td>\n",
       "      <td>Sports</td>\n",
       "      <td>41.36</td>\n",
       "      <td>28.96</td>\n",
       "      <td>3.77</td>\n",
       "      <td>8.45</td>\n",
       "      <td>76.0</td>\n",
       "      <td>8</td>\n",
       "      <td>E</td>\n",
       "    </tr>\n",
       "    <tr>\n",
       "      <th>1</th>\n",
       "      <td>Super Mario Bros.</td>\n",
       "      <td>NES</td>\n",
       "      <td>1985.0</td>\n",
       "      <td>Platform</td>\n",
       "      <td>29.08</td>\n",
       "      <td>3.58</td>\n",
       "      <td>6.81</td>\n",
       "      <td>0.77</td>\n",
       "      <td>NaN</td>\n",
       "      <td>NaN</td>\n",
       "      <td>NaN</td>\n",
       "    </tr>\n",
       "    <tr>\n",
       "      <th>2</th>\n",
       "      <td>Mario Kart Wii</td>\n",
       "      <td>Wii</td>\n",
       "      <td>2008.0</td>\n",
       "      <td>Racing</td>\n",
       "      <td>15.68</td>\n",
       "      <td>12.76</td>\n",
       "      <td>3.79</td>\n",
       "      <td>3.29</td>\n",
       "      <td>82.0</td>\n",
       "      <td>8.3</td>\n",
       "      <td>E</td>\n",
       "    </tr>\n",
       "    <tr>\n",
       "      <th>3</th>\n",
       "      <td>Wii Sports Resort</td>\n",
       "      <td>Wii</td>\n",
       "      <td>2009.0</td>\n",
       "      <td>Sports</td>\n",
       "      <td>15.61</td>\n",
       "      <td>10.93</td>\n",
       "      <td>3.28</td>\n",
       "      <td>2.95</td>\n",
       "      <td>80.0</td>\n",
       "      <td>8</td>\n",
       "      <td>E</td>\n",
       "    </tr>\n",
       "    <tr>\n",
       "      <th>4</th>\n",
       "      <td>Pokemon Red/Pokemon Blue</td>\n",
       "      <td>GB</td>\n",
       "      <td>1996.0</td>\n",
       "      <td>Role-Playing</td>\n",
       "      <td>11.27</td>\n",
       "      <td>8.89</td>\n",
       "      <td>10.22</td>\n",
       "      <td>1.00</td>\n",
       "      <td>NaN</td>\n",
       "      <td>NaN</td>\n",
       "      <td>NaN</td>\n",
       "    </tr>\n",
       "  </tbody>\n",
       "</table>\n",
       "</div>"
      ],
      "text/plain": [
       "                       Name Platform  Year_of_Release         Genre  NA_sales  \\\n",
       "0                Wii Sports      Wii           2006.0        Sports     41.36   \n",
       "1         Super Mario Bros.      NES           1985.0      Platform     29.08   \n",
       "2            Mario Kart Wii      Wii           2008.0        Racing     15.68   \n",
       "3         Wii Sports Resort      Wii           2009.0        Sports     15.61   \n",
       "4  Pokemon Red/Pokemon Blue       GB           1996.0  Role-Playing     11.27   \n",
       "\n",
       "   EU_sales  JP_sales  Other_sales  Critic_Score User_Score Rating  \n",
       "0     28.96      3.77         8.45          76.0          8      E  \n",
       "1      3.58      6.81         0.77           NaN        NaN    NaN  \n",
       "2     12.76      3.79         3.29          82.0        8.3      E  \n",
       "3     10.93      3.28         2.95          80.0          8      E  \n",
       "4      8.89     10.22         1.00           NaN        NaN    NaN  "
      ]
     },
     "execution_count": 4,
     "metadata": {},
     "output_type": "execute_result"
    }
   ],
   "source": [
    "games_data.head()"
   ]
  },
  {
   "cell_type": "code",
   "execution_count": 5,
   "metadata": {},
   "outputs": [
    {
     "data": {
      "text/html": [
       "<div>\n",
       "<style scoped>\n",
       "    .dataframe tbody tr th:only-of-type {\n",
       "        vertical-align: middle;\n",
       "    }\n",
       "\n",
       "    .dataframe tbody tr th {\n",
       "        vertical-align: top;\n",
       "    }\n",
       "\n",
       "    .dataframe thead th {\n",
       "        text-align: right;\n",
       "    }\n",
       "</style>\n",
       "<table border=\"1\" class=\"dataframe\">\n",
       "  <thead>\n",
       "    <tr style=\"text-align: right;\">\n",
       "      <th></th>\n",
       "      <th>Year_of_Release</th>\n",
       "      <th>NA_sales</th>\n",
       "      <th>EU_sales</th>\n",
       "      <th>JP_sales</th>\n",
       "      <th>Other_sales</th>\n",
       "      <th>Critic_Score</th>\n",
       "    </tr>\n",
       "  </thead>\n",
       "  <tbody>\n",
       "    <tr>\n",
       "      <th>count</th>\n",
       "      <td>16446.000000</td>\n",
       "      <td>16715.000000</td>\n",
       "      <td>16715.000000</td>\n",
       "      <td>16715.000000</td>\n",
       "      <td>16715.000000</td>\n",
       "      <td>8137.000000</td>\n",
       "    </tr>\n",
       "    <tr>\n",
       "      <th>mean</th>\n",
       "      <td>2006.484616</td>\n",
       "      <td>0.263377</td>\n",
       "      <td>0.145060</td>\n",
       "      <td>0.077617</td>\n",
       "      <td>0.047342</td>\n",
       "      <td>68.967679</td>\n",
       "    </tr>\n",
       "    <tr>\n",
       "      <th>std</th>\n",
       "      <td>5.877050</td>\n",
       "      <td>0.813604</td>\n",
       "      <td>0.503339</td>\n",
       "      <td>0.308853</td>\n",
       "      <td>0.186731</td>\n",
       "      <td>13.938165</td>\n",
       "    </tr>\n",
       "    <tr>\n",
       "      <th>min</th>\n",
       "      <td>1980.000000</td>\n",
       "      <td>0.000000</td>\n",
       "      <td>0.000000</td>\n",
       "      <td>0.000000</td>\n",
       "      <td>0.000000</td>\n",
       "      <td>13.000000</td>\n",
       "    </tr>\n",
       "    <tr>\n",
       "      <th>25%</th>\n",
       "      <td>2003.000000</td>\n",
       "      <td>0.000000</td>\n",
       "      <td>0.000000</td>\n",
       "      <td>0.000000</td>\n",
       "      <td>0.000000</td>\n",
       "      <td>60.000000</td>\n",
       "    </tr>\n",
       "    <tr>\n",
       "      <th>50%</th>\n",
       "      <td>2007.000000</td>\n",
       "      <td>0.080000</td>\n",
       "      <td>0.020000</td>\n",
       "      <td>0.000000</td>\n",
       "      <td>0.010000</td>\n",
       "      <td>71.000000</td>\n",
       "    </tr>\n",
       "    <tr>\n",
       "      <th>75%</th>\n",
       "      <td>2010.000000</td>\n",
       "      <td>0.240000</td>\n",
       "      <td>0.110000</td>\n",
       "      <td>0.040000</td>\n",
       "      <td>0.030000</td>\n",
       "      <td>79.000000</td>\n",
       "    </tr>\n",
       "    <tr>\n",
       "      <th>max</th>\n",
       "      <td>2016.000000</td>\n",
       "      <td>41.360000</td>\n",
       "      <td>28.960000</td>\n",
       "      <td>10.220000</td>\n",
       "      <td>10.570000</td>\n",
       "      <td>98.000000</td>\n",
       "    </tr>\n",
       "  </tbody>\n",
       "</table>\n",
       "</div>"
      ],
      "text/plain": [
       "       Year_of_Release      NA_sales      EU_sales      JP_sales  \\\n",
       "count     16446.000000  16715.000000  16715.000000  16715.000000   \n",
       "mean       2006.484616      0.263377      0.145060      0.077617   \n",
       "std           5.877050      0.813604      0.503339      0.308853   \n",
       "min        1980.000000      0.000000      0.000000      0.000000   \n",
       "25%        2003.000000      0.000000      0.000000      0.000000   \n",
       "50%        2007.000000      0.080000      0.020000      0.000000   \n",
       "75%        2010.000000      0.240000      0.110000      0.040000   \n",
       "max        2016.000000     41.360000     28.960000     10.220000   \n",
       "\n",
       "        Other_sales  Critic_Score  \n",
       "count  16715.000000   8137.000000  \n",
       "mean       0.047342     68.967679  \n",
       "std        0.186731     13.938165  \n",
       "min        0.000000     13.000000  \n",
       "25%        0.000000     60.000000  \n",
       "50%        0.010000     71.000000  \n",
       "75%        0.030000     79.000000  \n",
       "max       10.570000     98.000000  "
      ]
     },
     "execution_count": 5,
     "metadata": {},
     "output_type": "execute_result"
    }
   ],
   "source": [
    "games_data.describe()"
   ]
  },
  {
   "cell_type": "code",
   "execution_count": 6,
   "metadata": {},
   "outputs": [
    {
     "data": {
      "text/plain": [
       "Name                  2\n",
       "Platform              0\n",
       "Year_of_Release     269\n",
       "Genre                 2\n",
       "NA_sales              0\n",
       "EU_sales              0\n",
       "JP_sales              0\n",
       "Other_sales           0\n",
       "Critic_Score       8578\n",
       "User_Score         6701\n",
       "Rating             6766\n",
       "dtype: int64"
      ]
     },
     "execution_count": 6,
     "metadata": {},
     "output_type": "execute_result"
    }
   ],
   "source": [
    "total_null = games_data.isna().sum()\n",
    "total_null"
   ]
  },
  {
   "cell_type": "code",
   "execution_count": 7,
   "metadata": {},
   "outputs": [
    {
     "data": {
      "text/html": [
       "<div>\n",
       "<style scoped>\n",
       "    .dataframe tbody tr th:only-of-type {\n",
       "        vertical-align: middle;\n",
       "    }\n",
       "\n",
       "    .dataframe tbody tr th {\n",
       "        vertical-align: top;\n",
       "    }\n",
       "\n",
       "    .dataframe thead th {\n",
       "        text-align: right;\n",
       "    }\n",
       "</style>\n",
       "<table border=\"1\" class=\"dataframe\">\n",
       "  <thead>\n",
       "    <tr style=\"text-align: right;\">\n",
       "      <th></th>\n",
       "      <th>name</th>\n",
       "      <th>platform</th>\n",
       "      <th>year_of_release</th>\n",
       "      <th>genre</th>\n",
       "      <th>na_sales</th>\n",
       "      <th>eu_sales</th>\n",
       "      <th>jp_sales</th>\n",
       "      <th>other_sales</th>\n",
       "      <th>critic_score</th>\n",
       "      <th>user_score</th>\n",
       "      <th>rating</th>\n",
       "    </tr>\n",
       "  </thead>\n",
       "  <tbody>\n",
       "    <tr>\n",
       "      <th>0</th>\n",
       "      <td>Wii Sports</td>\n",
       "      <td>Wii</td>\n",
       "      <td>2006.0</td>\n",
       "      <td>Sports</td>\n",
       "      <td>41.36</td>\n",
       "      <td>28.96</td>\n",
       "      <td>3.77</td>\n",
       "      <td>8.45</td>\n",
       "      <td>76.0</td>\n",
       "      <td>8</td>\n",
       "      <td>E</td>\n",
       "    </tr>\n",
       "    <tr>\n",
       "      <th>1</th>\n",
       "      <td>Super Mario Bros.</td>\n",
       "      <td>NES</td>\n",
       "      <td>1985.0</td>\n",
       "      <td>Platform</td>\n",
       "      <td>29.08</td>\n",
       "      <td>3.58</td>\n",
       "      <td>6.81</td>\n",
       "      <td>0.77</td>\n",
       "      <td>NaN</td>\n",
       "      <td>NaN</td>\n",
       "      <td>NaN</td>\n",
       "    </tr>\n",
       "    <tr>\n",
       "      <th>2</th>\n",
       "      <td>Mario Kart Wii</td>\n",
       "      <td>Wii</td>\n",
       "      <td>2008.0</td>\n",
       "      <td>Racing</td>\n",
       "      <td>15.68</td>\n",
       "      <td>12.76</td>\n",
       "      <td>3.79</td>\n",
       "      <td>3.29</td>\n",
       "      <td>82.0</td>\n",
       "      <td>8.3</td>\n",
       "      <td>E</td>\n",
       "    </tr>\n",
       "    <tr>\n",
       "      <th>3</th>\n",
       "      <td>Wii Sports Resort</td>\n",
       "      <td>Wii</td>\n",
       "      <td>2009.0</td>\n",
       "      <td>Sports</td>\n",
       "      <td>15.61</td>\n",
       "      <td>10.93</td>\n",
       "      <td>3.28</td>\n",
       "      <td>2.95</td>\n",
       "      <td>80.0</td>\n",
       "      <td>8</td>\n",
       "      <td>E</td>\n",
       "    </tr>\n",
       "    <tr>\n",
       "      <th>4</th>\n",
       "      <td>Pokemon Red/Pokemon Blue</td>\n",
       "      <td>GB</td>\n",
       "      <td>1996.0</td>\n",
       "      <td>Role-Playing</td>\n",
       "      <td>11.27</td>\n",
       "      <td>8.89</td>\n",
       "      <td>10.22</td>\n",
       "      <td>1.00</td>\n",
       "      <td>NaN</td>\n",
       "      <td>NaN</td>\n",
       "      <td>NaN</td>\n",
       "    </tr>\n",
       "    <tr>\n",
       "      <th>...</th>\n",
       "      <td>...</td>\n",
       "      <td>...</td>\n",
       "      <td>...</td>\n",
       "      <td>...</td>\n",
       "      <td>...</td>\n",
       "      <td>...</td>\n",
       "      <td>...</td>\n",
       "      <td>...</td>\n",
       "      <td>...</td>\n",
       "      <td>...</td>\n",
       "      <td>...</td>\n",
       "    </tr>\n",
       "    <tr>\n",
       "      <th>16710</th>\n",
       "      <td>Samurai Warriors: Sanada Maru</td>\n",
       "      <td>PS3</td>\n",
       "      <td>2016.0</td>\n",
       "      <td>Action</td>\n",
       "      <td>0.00</td>\n",
       "      <td>0.00</td>\n",
       "      <td>0.01</td>\n",
       "      <td>0.00</td>\n",
       "      <td>NaN</td>\n",
       "      <td>NaN</td>\n",
       "      <td>NaN</td>\n",
       "    </tr>\n",
       "    <tr>\n",
       "      <th>16711</th>\n",
       "      <td>LMA Manager 2007</td>\n",
       "      <td>X360</td>\n",
       "      <td>2006.0</td>\n",
       "      <td>Sports</td>\n",
       "      <td>0.00</td>\n",
       "      <td>0.01</td>\n",
       "      <td>0.00</td>\n",
       "      <td>0.00</td>\n",
       "      <td>NaN</td>\n",
       "      <td>NaN</td>\n",
       "      <td>NaN</td>\n",
       "    </tr>\n",
       "    <tr>\n",
       "      <th>16712</th>\n",
       "      <td>Haitaka no Psychedelica</td>\n",
       "      <td>PSV</td>\n",
       "      <td>2016.0</td>\n",
       "      <td>Adventure</td>\n",
       "      <td>0.00</td>\n",
       "      <td>0.00</td>\n",
       "      <td>0.01</td>\n",
       "      <td>0.00</td>\n",
       "      <td>NaN</td>\n",
       "      <td>NaN</td>\n",
       "      <td>NaN</td>\n",
       "    </tr>\n",
       "    <tr>\n",
       "      <th>16713</th>\n",
       "      <td>Spirits &amp; Spells</td>\n",
       "      <td>GBA</td>\n",
       "      <td>2003.0</td>\n",
       "      <td>Platform</td>\n",
       "      <td>0.01</td>\n",
       "      <td>0.00</td>\n",
       "      <td>0.00</td>\n",
       "      <td>0.00</td>\n",
       "      <td>NaN</td>\n",
       "      <td>NaN</td>\n",
       "      <td>NaN</td>\n",
       "    </tr>\n",
       "    <tr>\n",
       "      <th>16714</th>\n",
       "      <td>Winning Post 8 2016</td>\n",
       "      <td>PSV</td>\n",
       "      <td>2016.0</td>\n",
       "      <td>Simulation</td>\n",
       "      <td>0.00</td>\n",
       "      <td>0.00</td>\n",
       "      <td>0.01</td>\n",
       "      <td>0.00</td>\n",
       "      <td>NaN</td>\n",
       "      <td>NaN</td>\n",
       "      <td>NaN</td>\n",
       "    </tr>\n",
       "  </tbody>\n",
       "</table>\n",
       "<p>16715 rows × 11 columns</p>\n",
       "</div>"
      ],
      "text/plain": [
       "                                name platform  year_of_release         genre  \\\n",
       "0                         Wii Sports      Wii           2006.0        Sports   \n",
       "1                  Super Mario Bros.      NES           1985.0      Platform   \n",
       "2                     Mario Kart Wii      Wii           2008.0        Racing   \n",
       "3                  Wii Sports Resort      Wii           2009.0        Sports   \n",
       "4           Pokemon Red/Pokemon Blue       GB           1996.0  Role-Playing   \n",
       "...                              ...      ...              ...           ...   \n",
       "16710  Samurai Warriors: Sanada Maru      PS3           2016.0        Action   \n",
       "16711               LMA Manager 2007     X360           2006.0        Sports   \n",
       "16712        Haitaka no Psychedelica      PSV           2016.0     Adventure   \n",
       "16713               Spirits & Spells      GBA           2003.0      Platform   \n",
       "16714            Winning Post 8 2016      PSV           2016.0    Simulation   \n",
       "\n",
       "       na_sales  eu_sales  jp_sales  other_sales  critic_score user_score  \\\n",
       "0         41.36     28.96      3.77         8.45          76.0          8   \n",
       "1         29.08      3.58      6.81         0.77           NaN        NaN   \n",
       "2         15.68     12.76      3.79         3.29          82.0        8.3   \n",
       "3         15.61     10.93      3.28         2.95          80.0          8   \n",
       "4         11.27      8.89     10.22         1.00           NaN        NaN   \n",
       "...         ...       ...       ...          ...           ...        ...   \n",
       "16710      0.00      0.00      0.01         0.00           NaN        NaN   \n",
       "16711      0.00      0.01      0.00         0.00           NaN        NaN   \n",
       "16712      0.00      0.00      0.01         0.00           NaN        NaN   \n",
       "16713      0.01      0.00      0.00         0.00           NaN        NaN   \n",
       "16714      0.00      0.00      0.01         0.00           NaN        NaN   \n",
       "\n",
       "      rating  \n",
       "0          E  \n",
       "1        NaN  \n",
       "2          E  \n",
       "3          E  \n",
       "4        NaN  \n",
       "...      ...  \n",
       "16710    NaN  \n",
       "16711    NaN  \n",
       "16712    NaN  \n",
       "16713    NaN  \n",
       "16714    NaN  \n",
       "\n",
       "[16715 rows x 11 columns]"
      ]
     },
     "execution_count": 7,
     "metadata": {},
     "output_type": "execute_result"
    }
   ],
   "source": [
    "# Colocamos todos los títulos en minúsculas\n",
    "games_data.columns = games_data.columns.str.lower()\n",
    "games_data"
   ]
  },
  {
   "cell_type": "code",
   "execution_count": 8,
   "metadata": {},
   "outputs": [
    {
     "name": "stdout",
     "output_type": "stream",
     "text": [
      "<class 'pandas.core.frame.DataFrame'>\n",
      "RangeIndex: 16715 entries, 0 to 16714\n",
      "Data columns (total 11 columns):\n",
      " #   Column           Non-Null Count  Dtype  \n",
      "---  ------           --------------  -----  \n",
      " 0   name             16713 non-null  object \n",
      " 1   platform         16715 non-null  object \n",
      " 2   year_of_release  16715 non-null  int64  \n",
      " 3   genre            16713 non-null  object \n",
      " 4   na_sales         16715 non-null  float64\n",
      " 5   eu_sales         16715 non-null  float64\n",
      " 6   jp_sales         16715 non-null  float64\n",
      " 7   other_sales      16715 non-null  float64\n",
      " 8   critic_score     8137 non-null   float64\n",
      " 9   user_score       10014 non-null  object \n",
      " 10  rating           9949 non-null   object \n",
      "dtypes: float64(5), int64(1), object(5)\n",
      "memory usage: 1.4+ MB\n"
     ]
    }
   ],
   "source": [
    "#Rellenamos los datos ausente de year_of_release con 0 para que no tengamos datos ausentes y los convertimos en enteros\n",
    "games_data['year_of_release'] = games_data['year_of_release'].fillna(0).astype('int')\n",
    "games_data.info()"
   ]
  },
  {
   "cell_type": "markdown",
   "metadata": {},
   "source": [
    "<div class=\"alert alert-block alert-info\">\n",
    "    <b>Comentario del revisor:</b> <a class=\"tocSkip\"></a>\n",
    "    \n",
    "En ocasiones podemos completar los valores faltantes con información recaba mediante una investigación. Es muy común que cuando trabajamos con datos en la vida real, mucho de estos vengan con valores nulos que en ocasiones tendremos que completar con proxys\n",
    "</div>"
   ]
  },
  {
   "cell_type": "code",
   "execution_count": 9,
   "metadata": {},
   "outputs": [
    {
     "data": {
      "text/html": [
       "<div>\n",
       "<style scoped>\n",
       "    .dataframe tbody tr th:only-of-type {\n",
       "        vertical-align: middle;\n",
       "    }\n",
       "\n",
       "    .dataframe tbody tr th {\n",
       "        vertical-align: top;\n",
       "    }\n",
       "\n",
       "    .dataframe thead th {\n",
       "        text-align: right;\n",
       "    }\n",
       "</style>\n",
       "<table border=\"1\" class=\"dataframe\">\n",
       "  <thead>\n",
       "    <tr style=\"text-align: right;\">\n",
       "      <th></th>\n",
       "      <th>name</th>\n",
       "      <th>platform</th>\n",
       "      <th>year_of_release</th>\n",
       "      <th>genre</th>\n",
       "      <th>na_sales</th>\n",
       "      <th>eu_sales</th>\n",
       "      <th>jp_sales</th>\n",
       "      <th>other_sales</th>\n",
       "      <th>critic_score</th>\n",
       "      <th>user_score</th>\n",
       "      <th>rating</th>\n",
       "    </tr>\n",
       "  </thead>\n",
       "  <tbody>\n",
       "    <tr>\n",
       "      <th>119</th>\n",
       "      <td>Zumba Fitness</td>\n",
       "      <td>Wii</td>\n",
       "      <td>2010</td>\n",
       "      <td>Sports</td>\n",
       "      <td>3.45</td>\n",
       "      <td>2.59</td>\n",
       "      <td>0.0</td>\n",
       "      <td>0.66</td>\n",
       "      <td>NaN</td>\n",
       "      <td>tbd</td>\n",
       "      <td>E</td>\n",
       "    </tr>\n",
       "    <tr>\n",
       "      <th>301</th>\n",
       "      <td>Namco Museum: 50th Anniversary</td>\n",
       "      <td>PS2</td>\n",
       "      <td>2005</td>\n",
       "      <td>Misc</td>\n",
       "      <td>2.08</td>\n",
       "      <td>1.35</td>\n",
       "      <td>0.0</td>\n",
       "      <td>0.54</td>\n",
       "      <td>61.0</td>\n",
       "      <td>tbd</td>\n",
       "      <td>E10+</td>\n",
       "    </tr>\n",
       "    <tr>\n",
       "      <th>520</th>\n",
       "      <td>Zumba Fitness 2</td>\n",
       "      <td>Wii</td>\n",
       "      <td>2011</td>\n",
       "      <td>Sports</td>\n",
       "      <td>1.51</td>\n",
       "      <td>1.03</td>\n",
       "      <td>0.0</td>\n",
       "      <td>0.27</td>\n",
       "      <td>NaN</td>\n",
       "      <td>tbd</td>\n",
       "      <td>T</td>\n",
       "    </tr>\n",
       "    <tr>\n",
       "      <th>645</th>\n",
       "      <td>uDraw Studio</td>\n",
       "      <td>Wii</td>\n",
       "      <td>2010</td>\n",
       "      <td>Misc</td>\n",
       "      <td>1.65</td>\n",
       "      <td>0.57</td>\n",
       "      <td>0.0</td>\n",
       "      <td>0.20</td>\n",
       "      <td>71.0</td>\n",
       "      <td>tbd</td>\n",
       "      <td>E</td>\n",
       "    </tr>\n",
       "    <tr>\n",
       "      <th>657</th>\n",
       "      <td>Frogger's Adventures: Temple of the Frog</td>\n",
       "      <td>GBA</td>\n",
       "      <td>0</td>\n",
       "      <td>Adventure</td>\n",
       "      <td>2.15</td>\n",
       "      <td>0.18</td>\n",
       "      <td>0.0</td>\n",
       "      <td>0.07</td>\n",
       "      <td>73.0</td>\n",
       "      <td>tbd</td>\n",
       "      <td>E</td>\n",
       "    </tr>\n",
       "    <tr>\n",
       "      <th>...</th>\n",
       "      <td>...</td>\n",
       "      <td>...</td>\n",
       "      <td>...</td>\n",
       "      <td>...</td>\n",
       "      <td>...</td>\n",
       "      <td>...</td>\n",
       "      <td>...</td>\n",
       "      <td>...</td>\n",
       "      <td>...</td>\n",
       "      <td>...</td>\n",
       "      <td>...</td>\n",
       "    </tr>\n",
       "    <tr>\n",
       "      <th>16695</th>\n",
       "      <td>Planet Monsters</td>\n",
       "      <td>GBA</td>\n",
       "      <td>2001</td>\n",
       "      <td>Action</td>\n",
       "      <td>0.01</td>\n",
       "      <td>0.00</td>\n",
       "      <td>0.0</td>\n",
       "      <td>0.00</td>\n",
       "      <td>67.0</td>\n",
       "      <td>tbd</td>\n",
       "      <td>E</td>\n",
       "    </tr>\n",
       "    <tr>\n",
       "      <th>16697</th>\n",
       "      <td>Bust-A-Move 3000</td>\n",
       "      <td>GC</td>\n",
       "      <td>2003</td>\n",
       "      <td>Puzzle</td>\n",
       "      <td>0.01</td>\n",
       "      <td>0.00</td>\n",
       "      <td>0.0</td>\n",
       "      <td>0.00</td>\n",
       "      <td>53.0</td>\n",
       "      <td>tbd</td>\n",
       "      <td>E</td>\n",
       "    </tr>\n",
       "    <tr>\n",
       "      <th>16698</th>\n",
       "      <td>Mega Brain Boost</td>\n",
       "      <td>DS</td>\n",
       "      <td>2008</td>\n",
       "      <td>Puzzle</td>\n",
       "      <td>0.01</td>\n",
       "      <td>0.00</td>\n",
       "      <td>0.0</td>\n",
       "      <td>0.00</td>\n",
       "      <td>48.0</td>\n",
       "      <td>tbd</td>\n",
       "      <td>E</td>\n",
       "    </tr>\n",
       "    <tr>\n",
       "      <th>16704</th>\n",
       "      <td>Plushees</td>\n",
       "      <td>DS</td>\n",
       "      <td>2008</td>\n",
       "      <td>Simulation</td>\n",
       "      <td>0.01</td>\n",
       "      <td>0.00</td>\n",
       "      <td>0.0</td>\n",
       "      <td>0.00</td>\n",
       "      <td>NaN</td>\n",
       "      <td>tbd</td>\n",
       "      <td>E</td>\n",
       "    </tr>\n",
       "    <tr>\n",
       "      <th>16706</th>\n",
       "      <td>Men in Black II: Alien Escape</td>\n",
       "      <td>GC</td>\n",
       "      <td>2003</td>\n",
       "      <td>Shooter</td>\n",
       "      <td>0.01</td>\n",
       "      <td>0.00</td>\n",
       "      <td>0.0</td>\n",
       "      <td>0.00</td>\n",
       "      <td>NaN</td>\n",
       "      <td>tbd</td>\n",
       "      <td>T</td>\n",
       "    </tr>\n",
       "  </tbody>\n",
       "</table>\n",
       "<p>2424 rows × 11 columns</p>\n",
       "</div>"
      ],
      "text/plain": [
       "                                           name platform  year_of_release  \\\n",
       "119                               Zumba Fitness      Wii             2010   \n",
       "301              Namco Museum: 50th Anniversary      PS2             2005   \n",
       "520                             Zumba Fitness 2      Wii             2011   \n",
       "645                                uDraw Studio      Wii             2010   \n",
       "657    Frogger's Adventures: Temple of the Frog      GBA                0   \n",
       "...                                         ...      ...              ...   \n",
       "16695                           Planet Monsters      GBA             2001   \n",
       "16697                          Bust-A-Move 3000       GC             2003   \n",
       "16698                          Mega Brain Boost       DS             2008   \n",
       "16704                                  Plushees       DS             2008   \n",
       "16706             Men in Black II: Alien Escape       GC             2003   \n",
       "\n",
       "            genre  na_sales  eu_sales  jp_sales  other_sales  critic_score  \\\n",
       "119        Sports      3.45      2.59       0.0         0.66           NaN   \n",
       "301          Misc      2.08      1.35       0.0         0.54          61.0   \n",
       "520        Sports      1.51      1.03       0.0         0.27           NaN   \n",
       "645          Misc      1.65      0.57       0.0         0.20          71.0   \n",
       "657     Adventure      2.15      0.18       0.0         0.07          73.0   \n",
       "...           ...       ...       ...       ...          ...           ...   \n",
       "16695      Action      0.01      0.00       0.0         0.00          67.0   \n",
       "16697      Puzzle      0.01      0.00       0.0         0.00          53.0   \n",
       "16698      Puzzle      0.01      0.00       0.0         0.00          48.0   \n",
       "16704  Simulation      0.01      0.00       0.0         0.00           NaN   \n",
       "16706     Shooter      0.01      0.00       0.0         0.00           NaN   \n",
       "\n",
       "      user_score rating  \n",
       "119          tbd      E  \n",
       "301          tbd   E10+  \n",
       "520          tbd      T  \n",
       "645          tbd      E  \n",
       "657          tbd      E  \n",
       "...          ...    ...  \n",
       "16695        tbd      E  \n",
       "16697        tbd      E  \n",
       "16698        tbd      E  \n",
       "16704        tbd      E  \n",
       "16706        tbd      T  \n",
       "\n",
       "[2424 rows x 11 columns]"
      ]
     },
     "execution_count": 9,
     "metadata": {},
     "output_type": "execute_result"
    }
   ],
   "source": [
    "# Filtramos las filas donde 'user_score' es \"tbd\", lo que indica que la puntuación de usuario aún no está determinada.\n",
    "games_data.query('user_score == \"tbd\"')"
   ]
  },
  {
   "cell_type": "code",
   "execution_count": 10,
   "metadata": {},
   "outputs": [
    {
     "data": {
      "text/plain": [
       "0        8.0\n",
       "1        NaN\n",
       "2        8.3\n",
       "3        8.0\n",
       "4        NaN\n",
       "        ... \n",
       "16710    NaN\n",
       "16711    NaN\n",
       "16712    NaN\n",
       "16713    NaN\n",
       "16714    NaN\n",
       "Name: user_score, Length: 16715, dtype: float64"
      ]
     },
     "execution_count": 10,
     "metadata": {},
     "output_type": "execute_result"
    }
   ],
   "source": [
    "# Reemplazamos los valores \"tbd\" en 'user_score' con NaN para indicar que no están disponibles,\n",
    "# luego convertimos la columna 'user_score' a tipo float para facilitar el análisis numérico.\n",
    "\n",
    "games_data.loc[games_data['user_score'] == 'tbd', 'user_score'] = np.nan \n",
    "games_data['user_score'] = games_data['user_score'].astype('float')\n",
    "games_data['user_score']"
   ]
  },
  {
   "cell_type": "code",
   "execution_count": 11,
   "metadata": {},
   "outputs": [
    {
     "data": {
      "text/plain": [
       "array(['E', nan, 'M', 'T', 'E10+', 'K-A', 'AO', 'EC', 'RP'], dtype=object)"
      ]
     },
     "execution_count": 11,
     "metadata": {},
     "output_type": "execute_result"
    }
   ],
   "source": [
    "# Obtenemos los valores únicos en la columna 'rating' para revisar las diferentes clasificaciones de los videojuegos.\n",
    "\n",
    "games_data['rating'].unique()"
   ]
  },
  {
   "cell_type": "markdown",
   "metadata": {},
   "source": [
    "<div style=\"background-color: lightblue; padding: 10px; border-radius: 5px;\">\n",
    "Como hemos observado, existían inconsistencias en los datos, como la mezcla de minúsculas y mayúsculas, la presencia de valores nulos y algunos datos almacenados en formatos incorrectos. Hemos corregido estos errores para evitar posibles problemas en el análisis.\n",
    "\n",
    "Ahora, procederemos con el análisis de las ventas totales y otros aspectos relevantes para identificar patrones de comportamiento, entender las tendencias del mercado, y proporcionar recomendaciones que optimicen las estrategias de ventas de la empresa en 2017."
   ]
  },
  {
   "cell_type": "code",
   "execution_count": 12,
   "metadata": {},
   "outputs": [
    {
     "data": {
      "text/plain": [
       "0        82.54\n",
       "1        40.24\n",
       "2        35.52\n",
       "3        32.77\n",
       "4        31.38\n",
       "         ...  \n",
       "16710     0.01\n",
       "16711     0.01\n",
       "16712     0.01\n",
       "16713     0.01\n",
       "16714     0.01\n",
       "Name: total_sales, Length: 16715, dtype: float64"
      ]
     },
     "execution_count": 12,
     "metadata": {},
     "output_type": "execute_result"
    }
   ],
   "source": [
    "# Calculamos las ventas totales sumando las ventas en Norteamérica, Europa, Japón y otras regiones, \n",
    "# y creamos la columna 'total_sales' para almacenar los resultados.\n",
    "\n",
    "games_data['total_sales'] = games_data [['na_sales', 'eu_sales', 'jp_sales', 'other_sales']].sum(axis=1)\n",
    "games_data['total_sales']"
   ]
  },
  {
   "cell_type": "markdown",
   "metadata": {},
   "source": [
    "<div class=\"alert alert-block alert-success\">\n",
    "<b>Comentario del revisor:</b> <a class=\"tocSkip\"></a>\n",
    "    \n",
    "Hola! Muy buen trabajo en la sección, ajustaste los nombres de las columnas a minúsculas con el uso de la función str.lower(), cambiaste el tipo de variable de dos de las variables de la base de datosmuy buen trabajo con la suma de todas las ventas. \n",
    "    \n",
    "   \n",
    "\n",
    "</div>"
   ]
  },
  {
   "cell_type": "markdown",
   "metadata": {},
   "source": [
    "<div class=\"alert alert-block alert-danger\">\n",
    "    <b>Comentario del revisor:</b> <a class=\"tocSkip\"></a>\n",
    "    \n",
    "Solamente para terminar de complementar el análisis te recomiendo verificar si las variables de score de crititicos y ususarios  se deben de hacer algún ajuste. Por ejemplo completar los valores nulos\n",
    "</div>"
   ]
  },
  {
   "cell_type": "markdown",
   "metadata": {},
   "source": [
    "<div class=\"alert alert-block alert-info\">\n",
    "No consideré adecuado imputar los datos nulos en las calificaciones de críticos y usuarios, ya que asignar un valor como 0 o un promedio podría sesgar los resultados. Nuestro objetivo es analizar únicamente los datos disponibles, ya que estos son suficientes para evaluar si existe alguna correlación significativa. Además, trabajar solo con los valores existentes nos permitirá determinar de manera más precisa si las reseñas tienen un impacto real en las ventas."
   ]
  },
  {
   "cell_type": "markdown",
   "metadata": {},
   "source": [
    "\n",
    "<div class=\"alert alert-block alert-success\">\n",
    "<b>Comentario del revisor:</b> <a class=\"tocSkip\"></a>\n",
    "    \n",
    "Gran trabajo con los ajustes!\n",
    "\n",
    "</div>"
   ]
  },
  {
   "cell_type": "code",
   "execution_count": 13,
   "metadata": {},
   "outputs": [
    {
     "data": {
      "text/html": [
       "<div>\n",
       "<style scoped>\n",
       "    .dataframe tbody tr th:only-of-type {\n",
       "        vertical-align: middle;\n",
       "    }\n",
       "\n",
       "    .dataframe tbody tr th {\n",
       "        vertical-align: top;\n",
       "    }\n",
       "\n",
       "    .dataframe thead th {\n",
       "        text-align: right;\n",
       "    }\n",
       "</style>\n",
       "<table border=\"1\" class=\"dataframe\">\n",
       "  <thead>\n",
       "    <tr style=\"text-align: right;\">\n",
       "      <th></th>\n",
       "      <th>name</th>\n",
       "      <th>platform</th>\n",
       "      <th>year_of_release</th>\n",
       "      <th>genre</th>\n",
       "      <th>na_sales</th>\n",
       "      <th>eu_sales</th>\n",
       "      <th>jp_sales</th>\n",
       "      <th>other_sales</th>\n",
       "      <th>critic_score</th>\n",
       "      <th>user_score</th>\n",
       "      <th>rating</th>\n",
       "      <th>total_sales</th>\n",
       "    </tr>\n",
       "  </thead>\n",
       "  <tbody>\n",
       "    <tr>\n",
       "      <th>0</th>\n",
       "      <td>Wii Sports</td>\n",
       "      <td>Wii</td>\n",
       "      <td>2006</td>\n",
       "      <td>Sports</td>\n",
       "      <td>41.36</td>\n",
       "      <td>28.96</td>\n",
       "      <td>3.77</td>\n",
       "      <td>8.45</td>\n",
       "      <td>76.0</td>\n",
       "      <td>8.0</td>\n",
       "      <td>E</td>\n",
       "      <td>82.54</td>\n",
       "    </tr>\n",
       "    <tr>\n",
       "      <th>1</th>\n",
       "      <td>Super Mario Bros.</td>\n",
       "      <td>NES</td>\n",
       "      <td>1985</td>\n",
       "      <td>Platform</td>\n",
       "      <td>29.08</td>\n",
       "      <td>3.58</td>\n",
       "      <td>6.81</td>\n",
       "      <td>0.77</td>\n",
       "      <td>NaN</td>\n",
       "      <td>NaN</td>\n",
       "      <td>NaN</td>\n",
       "      <td>40.24</td>\n",
       "    </tr>\n",
       "    <tr>\n",
       "      <th>2</th>\n",
       "      <td>Mario Kart Wii</td>\n",
       "      <td>Wii</td>\n",
       "      <td>2008</td>\n",
       "      <td>Racing</td>\n",
       "      <td>15.68</td>\n",
       "      <td>12.76</td>\n",
       "      <td>3.79</td>\n",
       "      <td>3.29</td>\n",
       "      <td>82.0</td>\n",
       "      <td>8.3</td>\n",
       "      <td>E</td>\n",
       "      <td>35.52</td>\n",
       "    </tr>\n",
       "    <tr>\n",
       "      <th>3</th>\n",
       "      <td>Wii Sports Resort</td>\n",
       "      <td>Wii</td>\n",
       "      <td>2009</td>\n",
       "      <td>Sports</td>\n",
       "      <td>15.61</td>\n",
       "      <td>10.93</td>\n",
       "      <td>3.28</td>\n",
       "      <td>2.95</td>\n",
       "      <td>80.0</td>\n",
       "      <td>8.0</td>\n",
       "      <td>E</td>\n",
       "      <td>32.77</td>\n",
       "    </tr>\n",
       "    <tr>\n",
       "      <th>4</th>\n",
       "      <td>Pokemon Red/Pokemon Blue</td>\n",
       "      <td>GB</td>\n",
       "      <td>1996</td>\n",
       "      <td>Role-Playing</td>\n",
       "      <td>11.27</td>\n",
       "      <td>8.89</td>\n",
       "      <td>10.22</td>\n",
       "      <td>1.00</td>\n",
       "      <td>NaN</td>\n",
       "      <td>NaN</td>\n",
       "      <td>NaN</td>\n",
       "      <td>31.38</td>\n",
       "    </tr>\n",
       "  </tbody>\n",
       "</table>\n",
       "</div>"
      ],
      "text/plain": [
       "                       name platform  year_of_release         genre  na_sales  \\\n",
       "0                Wii Sports      Wii             2006        Sports     41.36   \n",
       "1         Super Mario Bros.      NES             1985      Platform     29.08   \n",
       "2            Mario Kart Wii      Wii             2008        Racing     15.68   \n",
       "3         Wii Sports Resort      Wii             2009        Sports     15.61   \n",
       "4  Pokemon Red/Pokemon Blue       GB             1996  Role-Playing     11.27   \n",
       "\n",
       "   eu_sales  jp_sales  other_sales  critic_score  user_score rating  \\\n",
       "0     28.96      3.77         8.45          76.0         8.0      E   \n",
       "1      3.58      6.81         0.77           NaN         NaN    NaN   \n",
       "2     12.76      3.79         3.29          82.0         8.3      E   \n",
       "3     10.93      3.28         2.95          80.0         8.0      E   \n",
       "4      8.89     10.22         1.00           NaN         NaN    NaN   \n",
       "\n",
       "   total_sales  \n",
       "0        82.54  \n",
       "1        40.24  \n",
       "2        35.52  \n",
       "3        32.77  \n",
       "4        31.38  "
      ]
     },
     "execution_count": 13,
     "metadata": {},
     "output_type": "execute_result"
    }
   ],
   "source": [
    "# Obtenemos los 5 videojuegos con las mayores ventas totales utilizando la columna 'total_sales'.\n",
    "\n",
    "games_data.nlargest(5, ['total_sales'])"
   ]
  },
  {
   "cell_type": "code",
   "execution_count": 14,
   "metadata": {},
   "outputs": [
    {
     "data": {
      "text/html": [
       "<div>\n",
       "<style scoped>\n",
       "    .dataframe tbody tr th:only-of-type {\n",
       "        vertical-align: middle;\n",
       "    }\n",
       "\n",
       "    .dataframe tbody tr th {\n",
       "        vertical-align: top;\n",
       "    }\n",
       "\n",
       "    .dataframe thead th {\n",
       "        text-align: right;\n",
       "    }\n",
       "</style>\n",
       "<table border=\"1\" class=\"dataframe\">\n",
       "  <thead>\n",
       "    <tr style=\"text-align: right;\">\n",
       "      <th></th>\n",
       "      <th>year_of_release</th>\n",
       "      <th>name</th>\n",
       "    </tr>\n",
       "  </thead>\n",
       "  <tbody>\n",
       "    <tr>\n",
       "      <th>0</th>\n",
       "      <td>2008</td>\n",
       "      <td>1427</td>\n",
       "    </tr>\n",
       "    <tr>\n",
       "      <th>1</th>\n",
       "      <td>2009</td>\n",
       "      <td>1426</td>\n",
       "    </tr>\n",
       "    <tr>\n",
       "      <th>2</th>\n",
       "      <td>2010</td>\n",
       "      <td>1255</td>\n",
       "    </tr>\n",
       "    <tr>\n",
       "      <th>3</th>\n",
       "      <td>2007</td>\n",
       "      <td>1197</td>\n",
       "    </tr>\n",
       "    <tr>\n",
       "      <th>4</th>\n",
       "      <td>2011</td>\n",
       "      <td>1136</td>\n",
       "    </tr>\n",
       "    <tr>\n",
       "      <th>5</th>\n",
       "      <td>2006</td>\n",
       "      <td>1006</td>\n",
       "    </tr>\n",
       "    <tr>\n",
       "      <th>6</th>\n",
       "      <td>2005</td>\n",
       "      <td>939</td>\n",
       "    </tr>\n",
       "    <tr>\n",
       "      <th>7</th>\n",
       "      <td>2002</td>\n",
       "      <td>829</td>\n",
       "    </tr>\n",
       "    <tr>\n",
       "      <th>8</th>\n",
       "      <td>2003</td>\n",
       "      <td>775</td>\n",
       "    </tr>\n",
       "    <tr>\n",
       "      <th>9</th>\n",
       "      <td>2004</td>\n",
       "      <td>762</td>\n",
       "    </tr>\n",
       "    <tr>\n",
       "      <th>10</th>\n",
       "      <td>2012</td>\n",
       "      <td>653</td>\n",
       "    </tr>\n",
       "    <tr>\n",
       "      <th>11</th>\n",
       "      <td>2015</td>\n",
       "      <td>606</td>\n",
       "    </tr>\n",
       "    <tr>\n",
       "      <th>12</th>\n",
       "      <td>2014</td>\n",
       "      <td>581</td>\n",
       "    </tr>\n",
       "    <tr>\n",
       "      <th>13</th>\n",
       "      <td>2013</td>\n",
       "      <td>544</td>\n",
       "    </tr>\n",
       "    <tr>\n",
       "      <th>14</th>\n",
       "      <td>2016</td>\n",
       "      <td>502</td>\n",
       "    </tr>\n",
       "    <tr>\n",
       "      <th>15</th>\n",
       "      <td>2001</td>\n",
       "      <td>482</td>\n",
       "    </tr>\n",
       "    <tr>\n",
       "      <th>16</th>\n",
       "      <td>1998</td>\n",
       "      <td>379</td>\n",
       "    </tr>\n",
       "    <tr>\n",
       "      <th>17</th>\n",
       "      <td>2000</td>\n",
       "      <td>350</td>\n",
       "    </tr>\n",
       "    <tr>\n",
       "      <th>18</th>\n",
       "      <td>1999</td>\n",
       "      <td>338</td>\n",
       "    </tr>\n",
       "    <tr>\n",
       "      <th>19</th>\n",
       "      <td>1997</td>\n",
       "      <td>289</td>\n",
       "    </tr>\n",
       "    <tr>\n",
       "      <th>21</th>\n",
       "      <td>1996</td>\n",
       "      <td>263</td>\n",
       "    </tr>\n",
       "    <tr>\n",
       "      <th>22</th>\n",
       "      <td>1995</td>\n",
       "      <td>219</td>\n",
       "    </tr>\n",
       "    <tr>\n",
       "      <th>23</th>\n",
       "      <td>1994</td>\n",
       "      <td>121</td>\n",
       "    </tr>\n",
       "    <tr>\n",
       "      <th>24</th>\n",
       "      <td>1993</td>\n",
       "      <td>60</td>\n",
       "    </tr>\n",
       "    <tr>\n",
       "      <th>25</th>\n",
       "      <td>1981</td>\n",
       "      <td>46</td>\n",
       "    </tr>\n",
       "    <tr>\n",
       "      <th>26</th>\n",
       "      <td>1992</td>\n",
       "      <td>43</td>\n",
       "    </tr>\n",
       "    <tr>\n",
       "      <th>27</th>\n",
       "      <td>1991</td>\n",
       "      <td>41</td>\n",
       "    </tr>\n",
       "    <tr>\n",
       "      <th>28</th>\n",
       "      <td>1982</td>\n",
       "      <td>36</td>\n",
       "    </tr>\n",
       "    <tr>\n",
       "      <th>29</th>\n",
       "      <td>1986</td>\n",
       "      <td>21</td>\n",
       "    </tr>\n",
       "    <tr>\n",
       "      <th>30</th>\n",
       "      <td>1989</td>\n",
       "      <td>17</td>\n",
       "    </tr>\n",
       "    <tr>\n",
       "      <th>31</th>\n",
       "      <td>1983</td>\n",
       "      <td>17</td>\n",
       "    </tr>\n",
       "    <tr>\n",
       "      <th>32</th>\n",
       "      <td>1987</td>\n",
       "      <td>16</td>\n",
       "    </tr>\n",
       "    <tr>\n",
       "      <th>33</th>\n",
       "      <td>1990</td>\n",
       "      <td>16</td>\n",
       "    </tr>\n",
       "    <tr>\n",
       "      <th>34</th>\n",
       "      <td>1988</td>\n",
       "      <td>15</td>\n",
       "    </tr>\n",
       "    <tr>\n",
       "      <th>35</th>\n",
       "      <td>1985</td>\n",
       "      <td>14</td>\n",
       "    </tr>\n",
       "    <tr>\n",
       "      <th>36</th>\n",
       "      <td>1984</td>\n",
       "      <td>14</td>\n",
       "    </tr>\n",
       "    <tr>\n",
       "      <th>37</th>\n",
       "      <td>1980</td>\n",
       "      <td>9</td>\n",
       "    </tr>\n",
       "  </tbody>\n",
       "</table>\n",
       "</div>"
      ],
      "text/plain": [
       "    year_of_release  name\n",
       "0              2008  1427\n",
       "1              2009  1426\n",
       "2              2010  1255\n",
       "3              2007  1197\n",
       "4              2011  1136\n",
       "5              2006  1006\n",
       "6              2005   939\n",
       "7              2002   829\n",
       "8              2003   775\n",
       "9              2004   762\n",
       "10             2012   653\n",
       "11             2015   606\n",
       "12             2014   581\n",
       "13             2013   544\n",
       "14             2016   502\n",
       "15             2001   482\n",
       "16             1998   379\n",
       "17             2000   350\n",
       "18             1999   338\n",
       "19             1997   289\n",
       "21             1996   263\n",
       "22             1995   219\n",
       "23             1994   121\n",
       "24             1993    60\n",
       "25             1981    46\n",
       "26             1992    43\n",
       "27             1991    41\n",
       "28             1982    36\n",
       "29             1986    21\n",
       "30             1989    17\n",
       "31             1983    17\n",
       "32             1987    16\n",
       "33             1990    16\n",
       "34             1988    15\n",
       "35             1985    14\n",
       "36             1984    14\n",
       "37             1980     9"
      ]
     },
     "execution_count": 14,
     "metadata": {},
     "output_type": "execute_result"
    }
   ],
   "source": [
    "# Agrupamos los datos por el año de lanzamiento y contamos el número de videojuegos lanzados cada año.\n",
    "# Luego ordenamos los resultados de mayor a menor y eliminamos los registros donde 'year_of_release' es 0.\n",
    "\n",
    "analisis_years = games_data.groupby('year_of_release')['name'].count().sort_values(ascending=False).reset_index()\n",
    "analisis_years = analisis_years[analisis_years['year_of_release'] != 0]\n",
    "analisis_years"
   ]
  },
  {
   "cell_type": "code",
   "execution_count": 15,
   "metadata": {},
   "outputs": [
    {
     "data": {
      "image/png": "[encoded data removed]",
      "text/plain": [
       "<Figure size 1000x500 with 1 Axes>"
      ]
     },
     "metadata": {},
     "output_type": "display_data"
    }
   ],
   "source": [
    "fig, ax = plt.subplots(figsize=(10,5))\n",
    "ax.vlines(x = analisis_years.year_of_release, ymin = 0, ymax = analisis_years.name)\n",
    "ax.set_title('Lanzamiento de juegos por año')\n",
    "ax.set_xticks(analisis_years.year_of_release)\n",
    "ax.set_xticklabels(analisis_years.year_of_release, rotation = 90)\n",
    "plt.show()"
   ]
  },
  {
   "cell_type": "code",
   "execution_count": 16,
   "metadata": {},
   "outputs": [
    {
     "data": {
      "text/html": [
       "<div>\n",
       "<style scoped>\n",
       "    .dataframe tbody tr th:only-of-type {\n",
       "        vertical-align: middle;\n",
       "    }\n",
       "\n",
       "    .dataframe tbody tr th {\n",
       "        vertical-align: top;\n",
       "    }\n",
       "\n",
       "    .dataframe thead th {\n",
       "        text-align: right;\n",
       "    }\n",
       "</style>\n",
       "<table border=\"1\" class=\"dataframe\">\n",
       "  <thead>\n",
       "    <tr style=\"text-align: right;\">\n",
       "      <th></th>\n",
       "      <th>platform</th>\n",
       "      <th>total_sales</th>\n",
       "    </tr>\n",
       "  </thead>\n",
       "  <tbody>\n",
       "    <tr>\n",
       "      <th>0</th>\n",
       "      <td>PS2</td>\n",
       "      <td>1255.77</td>\n",
       "    </tr>\n",
       "    <tr>\n",
       "      <th>1</th>\n",
       "      <td>X360</td>\n",
       "      <td>971.42</td>\n",
       "    </tr>\n",
       "    <tr>\n",
       "      <th>2</th>\n",
       "      <td>PS3</td>\n",
       "      <td>939.65</td>\n",
       "    </tr>\n",
       "    <tr>\n",
       "      <th>3</th>\n",
       "      <td>Wii</td>\n",
       "      <td>907.51</td>\n",
       "    </tr>\n",
       "    <tr>\n",
       "      <th>4</th>\n",
       "      <td>DS</td>\n",
       "      <td>806.12</td>\n",
       "    </tr>\n",
       "    <tr>\n",
       "      <th>5</th>\n",
       "      <td>PS</td>\n",
       "      <td>730.86</td>\n",
       "    </tr>\n",
       "    <tr>\n",
       "      <th>6</th>\n",
       "      <td>GBA</td>\n",
       "      <td>317.85</td>\n",
       "    </tr>\n",
       "  </tbody>\n",
       "</table>\n",
       "</div>"
      ],
      "text/plain": [
       "  platform  total_sales\n",
       "0      PS2      1255.77\n",
       "1     X360       971.42\n",
       "2      PS3       939.65\n",
       "3      Wii       907.51\n",
       "4       DS       806.12\n",
       "5       PS       730.86\n",
       "6      GBA       317.85"
      ]
     },
     "execution_count": 16,
     "metadata": {},
     "output_type": "execute_result"
    }
   ],
   "source": [
    "# Agrupamos los datos por plataforma y sumamos las ventas totales para cada una.\n",
    "# Luego ordenamos las plataformas de mayor a menor en función de las ventas totales y reiniciamos el índice.\n",
    "\n",
    "df_ventas_por_plataforma = games_data.groupby('platform')['total_sales'].sum().sort_values(ascending = False).reset_index()\n",
    "df_ventas_por_plataforma.head(7)"
   ]
  },
  {
   "cell_type": "code",
   "execution_count": 17,
   "metadata": {},
   "outputs": [
    {
     "data": {
      "text/html": [
       "<div>\n",
       "<style scoped>\n",
       "    .dataframe tbody tr th:only-of-type {\n",
       "        vertical-align: middle;\n",
       "    }\n",
       "\n",
       "    .dataframe tbody tr th {\n",
       "        vertical-align: top;\n",
       "    }\n",
       "\n",
       "    .dataframe thead th {\n",
       "        text-align: right;\n",
       "    }\n",
       "</style>\n",
       "<table border=\"1\" class=\"dataframe\">\n",
       "  <thead>\n",
       "    <tr style=\"text-align: right;\">\n",
       "      <th></th>\n",
       "      <th>platform</th>\n",
       "      <th>total_sales</th>\n",
       "      <th>z_score</th>\n",
       "    </tr>\n",
       "  </thead>\n",
       "  <tbody>\n",
       "    <tr>\n",
       "      <th>0</th>\n",
       "      <td>PS2</td>\n",
       "      <td>1255.77</td>\n",
       "      <td>2.780807</td>\n",
       "    </tr>\n",
       "    <tr>\n",
       "      <th>1</th>\n",
       "      <td>X360</td>\n",
       "      <td>971.42</td>\n",
       "      <td>1.964085</td>\n",
       "    </tr>\n",
       "    <tr>\n",
       "      <th>2</th>\n",
       "      <td>PS3</td>\n",
       "      <td>939.65</td>\n",
       "      <td>1.872834</td>\n",
       "    </tr>\n",
       "    <tr>\n",
       "      <th>3</th>\n",
       "      <td>Wii</td>\n",
       "      <td>907.51</td>\n",
       "      <td>1.780520</td>\n",
       "    </tr>\n",
       "    <tr>\n",
       "      <th>4</th>\n",
       "      <td>DS</td>\n",
       "      <td>806.12</td>\n",
       "      <td>1.489304</td>\n",
       "    </tr>\n",
       "    <tr>\n",
       "      <th>5</th>\n",
       "      <td>PS</td>\n",
       "      <td>730.86</td>\n",
       "      <td>1.273139</td>\n",
       "    </tr>\n",
       "    <tr>\n",
       "      <th>6</th>\n",
       "      <td>GBA</td>\n",
       "      <td>317.85</td>\n",
       "      <td>0.086875</td>\n",
       "    </tr>\n",
       "    <tr>\n",
       "      <th>7</th>\n",
       "      <td>PS4</td>\n",
       "      <td>314.14</td>\n",
       "      <td>0.076219</td>\n",
       "    </tr>\n",
       "    <tr>\n",
       "      <th>8</th>\n",
       "      <td>PSP</td>\n",
       "      <td>294.05</td>\n",
       "      <td>0.018516</td>\n",
       "    </tr>\n",
       "    <tr>\n",
       "      <th>9</th>\n",
       "      <td>PC</td>\n",
       "      <td>259.52</td>\n",
       "      <td>-0.080663</td>\n",
       "    </tr>\n",
       "    <tr>\n",
       "      <th>10</th>\n",
       "      <td>3DS</td>\n",
       "      <td>259.00</td>\n",
       "      <td>-0.082156</td>\n",
       "    </tr>\n",
       "    <tr>\n",
       "      <th>11</th>\n",
       "      <td>XB</td>\n",
       "      <td>257.74</td>\n",
       "      <td>-0.085775</td>\n",
       "    </tr>\n",
       "    <tr>\n",
       "      <th>12</th>\n",
       "      <td>GB</td>\n",
       "      <td>255.46</td>\n",
       "      <td>-0.092324</td>\n",
       "    </tr>\n",
       "    <tr>\n",
       "      <th>13</th>\n",
       "      <td>NES</td>\n",
       "      <td>251.05</td>\n",
       "      <td>-0.104991</td>\n",
       "    </tr>\n",
       "    <tr>\n",
       "      <th>14</th>\n",
       "      <td>N64</td>\n",
       "      <td>218.68</td>\n",
       "      <td>-0.197965</td>\n",
       "    </tr>\n",
       "    <tr>\n",
       "      <th>15</th>\n",
       "      <td>SNES</td>\n",
       "      <td>200.04</td>\n",
       "      <td>-0.251504</td>\n",
       "    </tr>\n",
       "    <tr>\n",
       "      <th>16</th>\n",
       "      <td>GC</td>\n",
       "      <td>198.93</td>\n",
       "      <td>-0.254692</td>\n",
       "    </tr>\n",
       "    <tr>\n",
       "      <th>17</th>\n",
       "      <td>XOne</td>\n",
       "      <td>159.32</td>\n",
       "      <td>-0.368461</td>\n",
       "    </tr>\n",
       "    <tr>\n",
       "      <th>18</th>\n",
       "      <td>2600</td>\n",
       "      <td>96.98</td>\n",
       "      <td>-0.547517</td>\n",
       "    </tr>\n",
       "    <tr>\n",
       "      <th>19</th>\n",
       "      <td>WiiU</td>\n",
       "      <td>82.19</td>\n",
       "      <td>-0.589997</td>\n",
       "    </tr>\n",
       "    <tr>\n",
       "      <th>20</th>\n",
       "      <td>PSV</td>\n",
       "      <td>54.07</td>\n",
       "      <td>-0.670765</td>\n",
       "    </tr>\n",
       "    <tr>\n",
       "      <th>21</th>\n",
       "      <td>SAT</td>\n",
       "      <td>33.59</td>\n",
       "      <td>-0.729588</td>\n",
       "    </tr>\n",
       "    <tr>\n",
       "      <th>22</th>\n",
       "      <td>GEN</td>\n",
       "      <td>30.77</td>\n",
       "      <td>-0.737688</td>\n",
       "    </tr>\n",
       "    <tr>\n",
       "      <th>23</th>\n",
       "      <td>DC</td>\n",
       "      <td>15.95</td>\n",
       "      <td>-0.780254</td>\n",
       "    </tr>\n",
       "    <tr>\n",
       "      <th>24</th>\n",
       "      <td>SCD</td>\n",
       "      <td>1.86</td>\n",
       "      <td>-0.820724</td>\n",
       "    </tr>\n",
       "    <tr>\n",
       "      <th>25</th>\n",
       "      <td>NG</td>\n",
       "      <td>1.44</td>\n",
       "      <td>-0.821931</td>\n",
       "    </tr>\n",
       "    <tr>\n",
       "      <th>26</th>\n",
       "      <td>WS</td>\n",
       "      <td>1.42</td>\n",
       "      <td>-0.821988</td>\n",
       "    </tr>\n",
       "    <tr>\n",
       "      <th>27</th>\n",
       "      <td>TG16</td>\n",
       "      <td>0.16</td>\n",
       "      <td>-0.825607</td>\n",
       "    </tr>\n",
       "    <tr>\n",
       "      <th>28</th>\n",
       "      <td>3DO</td>\n",
       "      <td>0.10</td>\n",
       "      <td>-0.825779</td>\n",
       "    </tr>\n",
       "    <tr>\n",
       "      <th>29</th>\n",
       "      <td>GG</td>\n",
       "      <td>0.04</td>\n",
       "      <td>-0.825952</td>\n",
       "    </tr>\n",
       "    <tr>\n",
       "      <th>30</th>\n",
       "      <td>PCFX</td>\n",
       "      <td>0.03</td>\n",
       "      <td>-0.825980</td>\n",
       "    </tr>\n",
       "  </tbody>\n",
       "</table>\n",
       "</div>"
      ],
      "text/plain": [
       "   platform  total_sales   z_score\n",
       "0       PS2      1255.77  2.780807\n",
       "1      X360       971.42  1.964085\n",
       "2       PS3       939.65  1.872834\n",
       "3       Wii       907.51  1.780520\n",
       "4        DS       806.12  1.489304\n",
       "5        PS       730.86  1.273139\n",
       "6       GBA       317.85  0.086875\n",
       "7       PS4       314.14  0.076219\n",
       "8       PSP       294.05  0.018516\n",
       "9        PC       259.52 -0.080663\n",
       "10      3DS       259.00 -0.082156\n",
       "11       XB       257.74 -0.085775\n",
       "12       GB       255.46 -0.092324\n",
       "13      NES       251.05 -0.104991\n",
       "14      N64       218.68 -0.197965\n",
       "15     SNES       200.04 -0.251504\n",
       "16       GC       198.93 -0.254692\n",
       "17     XOne       159.32 -0.368461\n",
       "18     2600        96.98 -0.547517\n",
       "19     WiiU        82.19 -0.589997\n",
       "20      PSV        54.07 -0.670765\n",
       "21      SAT        33.59 -0.729588\n",
       "22      GEN        30.77 -0.737688\n",
       "23       DC        15.95 -0.780254\n",
       "24      SCD         1.86 -0.820724\n",
       "25       NG         1.44 -0.821931\n",
       "26       WS         1.42 -0.821988\n",
       "27     TG16         0.16 -0.825607\n",
       "28      3DO         0.10 -0.825779\n",
       "29       GG         0.04 -0.825952\n",
       "30     PCFX         0.03 -0.825980"
      ]
     },
     "execution_count": 17,
     "metadata": {},
     "output_type": "execute_result"
    }
   ],
   "source": [
    "# Calculamos el puntaje z para las ventas totales de cada plataforma, que mide la desviación estándar de las ventas respecto a la media,\n",
    "# para identificar qué tan lejos se encuentran las ventas de cada plataforma de la media general.\n",
    "\n",
    "df_ventas_por_plataforma['z_score'] = (df_ventas_por_plataforma['total_sales'] - df_ventas_por_plataforma['total_sales'].mean())/df_ventas_por_plataforma['total_sales'].std()\n",
    "df_ventas_por_plataforma"
   ]
  },
  {
   "cell_type": "code",
   "execution_count": 18,
   "metadata": {},
   "outputs": [
    {
     "data": {
      "text/html": [
       "<div>\n",
       "<style scoped>\n",
       "    .dataframe tbody tr th:only-of-type {\n",
       "        vertical-align: middle;\n",
       "    }\n",
       "\n",
       "    .dataframe tbody tr th {\n",
       "        vertical-align: top;\n",
       "    }\n",
       "\n",
       "    .dataframe thead th {\n",
       "        text-align: right;\n",
       "    }\n",
       "</style>\n",
       "<table border=\"1\" class=\"dataframe\">\n",
       "  <thead>\n",
       "    <tr style=\"text-align: right;\">\n",
       "      <th></th>\n",
       "      <th>platform</th>\n",
       "      <th>total_sales</th>\n",
       "      <th>z_score</th>\n",
       "      <th>color</th>\n",
       "    </tr>\n",
       "  </thead>\n",
       "  <tbody>\n",
       "    <tr>\n",
       "      <th>27</th>\n",
       "      <td>TG16</td>\n",
       "      <td>0.16</td>\n",
       "      <td>-0.825607</td>\n",
       "      <td>red</td>\n",
       "    </tr>\n",
       "    <tr>\n",
       "      <th>19</th>\n",
       "      <td>WiiU</td>\n",
       "      <td>82.19</td>\n",
       "      <td>-0.589997</td>\n",
       "      <td>red</td>\n",
       "    </tr>\n",
       "    <tr>\n",
       "      <th>28</th>\n",
       "      <td>3DO</td>\n",
       "      <td>0.10</td>\n",
       "      <td>-0.825779</td>\n",
       "      <td>red</td>\n",
       "    </tr>\n",
       "    <tr>\n",
       "      <th>12</th>\n",
       "      <td>GB</td>\n",
       "      <td>255.46</td>\n",
       "      <td>-0.092324</td>\n",
       "      <td>red</td>\n",
       "    </tr>\n",
       "    <tr>\n",
       "      <th>10</th>\n",
       "      <td>3DS</td>\n",
       "      <td>259.00</td>\n",
       "      <td>-0.082156</td>\n",
       "      <td>red</td>\n",
       "    </tr>\n",
       "  </tbody>\n",
       "</table>\n",
       "</div>"
      ],
      "text/plain": [
       "   platform  total_sales   z_score color\n",
       "27     TG16         0.16 -0.825607   red\n",
       "19     WiiU        82.19 -0.589997   red\n",
       "28      3DO         0.10 -0.825779   red\n",
       "12       GB       255.46 -0.092324   red\n",
       "10      3DS       259.00 -0.082156   red"
      ]
     },
     "execution_count": 18,
     "metadata": {},
     "output_type": "execute_result"
    }
   ],
   "source": [
    "# Asignamos un color a cada plataforma basado en su puntaje z: rojo para ventas por debajo de la media (z < 0) \n",
    "# y verde para plataformas con ventas por encima de la media (z >= 0).\n",
    "\n",
    "df_ventas_por_plataforma['color'] = ['red' if ventas_z < 0 else 'green' for ventas_z in df_ventas_por_plataforma['z_score']]\n",
    "df_ventas_por_plataforma.sample(5)"
   ]
  },
  {
   "cell_type": "code",
   "execution_count": 19,
   "metadata": {},
   "outputs": [
    {
     "data": {
      "image/png": "[encoded data removed]",
      "text/plain": [
       "<Figure size 640x480 with 1 Axes>"
      ]
     },
     "metadata": {},
     "output_type": "display_data"
    }
   ],
   "source": [
    "plt.figure()\n",
    "plt.hlines( \n",
    "    y = df_ventas_por_plataforma.platform, xmin = 0, xmax = df_ventas_por_plataforma.z_score,\n",
    "    color = df_ventas_por_plataforma.color, linewidth = 10, alpha = 0.5)\n",
    "plt.ylabel('Platform')\n",
    "plt.xlabel('Z score')\n",
    "plt.title('Rentabilidad por plataforma')\n",
    "plt.show()"
   ]
  },
  {
   "cell_type": "markdown",
   "metadata": {},
   "source": [
    "<div style=\"background-color: lightblue; padding: 10px; border-radius: 5px;\">\n",
    "Las tablas y la gráfica proporcionan una visión clara de las plataformas más rentables, destacando cuáles tienen mayores ingresos. Esta visualización facilita la identificación de las plataformas con mejor desempeño en términos de ventas, las cuales son: PS2, X360, PS3, Wii, DS, PS, GBA, PS4 Y PSP."
   ]
  },
  {
   "cell_type": "markdown",
   "metadata": {},
   "source": [
    "A continuación, nos enfocaremos en los datos más relevantes para nuestro análisis, seleccionando únicamente la información a partir de 2013."
   ]
  },
  {
   "cell_type": "code",
   "execution_count": 20,
   "metadata": {},
   "outputs": [],
   "source": [
    "# Filtramos el conjunto de datos para incluir solo los videojuegos lanzados a partir de 2013, creando un nuevo DataFrame.\n",
    "\n",
    "games_data_clean = games_data.query('year_of_release >= 2013')"
   ]
  },
  {
   "cell_type": "code",
   "execution_count": 21,
   "metadata": {},
   "outputs": [
    {
     "data": {
      "text/html": [
       "<div>\n",
       "<style scoped>\n",
       "    .dataframe tbody tr th:only-of-type {\n",
       "        vertical-align: middle;\n",
       "    }\n",
       "\n",
       "    .dataframe tbody tr th {\n",
       "        vertical-align: top;\n",
       "    }\n",
       "\n",
       "    .dataframe thead th {\n",
       "        text-align: right;\n",
       "    }\n",
       "</style>\n",
       "<table border=\"1\" class=\"dataframe\">\n",
       "  <thead>\n",
       "    <tr style=\"text-align: right;\">\n",
       "      <th>platform</th>\n",
       "      <th>3DS</th>\n",
       "      <th>DS</th>\n",
       "      <th>PC</th>\n",
       "      <th>PS3</th>\n",
       "      <th>PS4</th>\n",
       "      <th>PSP</th>\n",
       "      <th>PSV</th>\n",
       "      <th>Wii</th>\n",
       "      <th>WiiU</th>\n",
       "      <th>X360</th>\n",
       "      <th>XOne</th>\n",
       "    </tr>\n",
       "    <tr>\n",
       "      <th>year_of_release</th>\n",
       "      <th></th>\n",
       "      <th></th>\n",
       "      <th></th>\n",
       "      <th></th>\n",
       "      <th></th>\n",
       "      <th></th>\n",
       "      <th></th>\n",
       "      <th></th>\n",
       "      <th></th>\n",
       "      <th></th>\n",
       "      <th></th>\n",
       "    </tr>\n",
       "  </thead>\n",
       "  <tbody>\n",
       "    <tr>\n",
       "      <th>2013</th>\n",
       "      <td>56.57</td>\n",
       "      <td>1.54</td>\n",
       "      <td>12.38</td>\n",
       "      <td>113.25</td>\n",
       "      <td>25.99</td>\n",
       "      <td>3.14</td>\n",
       "      <td>10.59</td>\n",
       "      <td>8.59</td>\n",
       "      <td>21.65</td>\n",
       "      <td>88.58</td>\n",
       "      <td>18.96</td>\n",
       "    </tr>\n",
       "    <tr>\n",
       "      <th>2014</th>\n",
       "      <td>43.76</td>\n",
       "      <td>0.00</td>\n",
       "      <td>13.28</td>\n",
       "      <td>47.76</td>\n",
       "      <td>100.00</td>\n",
       "      <td>0.24</td>\n",
       "      <td>11.90</td>\n",
       "      <td>3.75</td>\n",
       "      <td>22.03</td>\n",
       "      <td>34.74</td>\n",
       "      <td>54.07</td>\n",
       "    </tr>\n",
       "    <tr>\n",
       "      <th>2015</th>\n",
       "      <td>27.78</td>\n",
       "      <td>0.00</td>\n",
       "      <td>8.52</td>\n",
       "      <td>16.82</td>\n",
       "      <td>118.90</td>\n",
       "      <td>0.12</td>\n",
       "      <td>6.25</td>\n",
       "      <td>1.14</td>\n",
       "      <td>16.35</td>\n",
       "      <td>11.96</td>\n",
       "      <td>60.14</td>\n",
       "    </tr>\n",
       "    <tr>\n",
       "      <th>2016</th>\n",
       "      <td>15.14</td>\n",
       "      <td>0.00</td>\n",
       "      <td>5.25</td>\n",
       "      <td>3.60</td>\n",
       "      <td>69.25</td>\n",
       "      <td>0.00</td>\n",
       "      <td>4.25</td>\n",
       "      <td>0.18</td>\n",
       "      <td>4.60</td>\n",
       "      <td>1.52</td>\n",
       "      <td>26.15</td>\n",
       "    </tr>\n",
       "  </tbody>\n",
       "</table>\n",
       "</div>"
      ],
      "text/plain": [
       "platform           3DS    DS     PC     PS3     PS4   PSP    PSV   Wii   WiiU  \\\n",
       "year_of_release                                                                 \n",
       "2013             56.57  1.54  12.38  113.25   25.99  3.14  10.59  8.59  21.65   \n",
       "2014             43.76  0.00  13.28   47.76  100.00  0.24  11.90  3.75  22.03   \n",
       "2015             27.78  0.00   8.52   16.82  118.90  0.12   6.25  1.14  16.35   \n",
       "2016             15.14  0.00   5.25    3.60   69.25  0.00   4.25  0.18   4.60   \n",
       "\n",
       "platform          X360   XOne  \n",
       "year_of_release                \n",
       "2013             88.58  18.96  \n",
       "2014             34.74  54.07  \n",
       "2015             11.96  60.14  \n",
       "2016              1.52  26.15  "
      ]
     },
     "execution_count": 21,
     "metadata": {},
     "output_type": "execute_result"
    }
   ],
   "source": [
    "# Creamos una tabla dinámica que muestra las ventas totales por plataforma y año de lanzamiento.\n",
    "# Usamos 'year_of_release' como índice y 'platform' como columnas, sumando las ventas totales para cada combinación.\n",
    "# Rellenamos los valores nulos con 0 para asegurar la integridad de la tabla.\n",
    "\n",
    "df_tiempo_de_vida = pd.pivot_table(games_data_clean, index='year_of_release', columns = 'platform', values = 'total_sales', aggfunc='sum').fillna(0)\n",
    "df_tiempo_de_vida"
   ]
  },
  {
   "cell_type": "code",
   "execution_count": 22,
   "metadata": {},
   "outputs": [
    {
     "data": {
      "image/png": "[encoded data removed]",
      "text/plain": [
       "<Figure size 640x480 with 1 Axes>"
      ]
     },
     "metadata": {},
     "output_type": "display_data"
    }
   ],
   "source": [
    "sns.lineplot(data = df_tiempo_de_vida)\n",
    "plt.ylabel('Rentabilidad')\n",
    "plt.xlabel('Year')\n",
    "plt.title('Tiempo de vida de las plataformas')\n",
    "plt.show()"
   ]
  },
  {
   "cell_type": "code",
   "execution_count": 23,
   "metadata": {},
   "outputs": [
    {
     "data": {
      "image/png": "[encoded data removed]",
      "text/plain": [
       "<Figure size 1200x600 with 1 Axes>"
      ]
     },
     "metadata": {},
     "output_type": "display_data"
    }
   ],
   "source": [
    "# Convertir df_tiempo_de_vida de formato ancho a largo para mostrar diagrama de caja\n",
    "df_long = df_tiempo_de_vida.reset_index().melt(id_vars='year_of_release', var_name='platform', value_name='total_sales')\n",
    "\n",
    "plt.figure(figsize=(12, 6))\n",
    "sns.boxplot(x='platform', y='total_sales', data=df_long)\n",
    "plt.title('Ventas Globales de Juegos por Plataforma')\n",
    "plt.xlabel('Plataforma')\n",
    "plt.ylabel('Ventas Totales')\n",
    "plt.xticks(rotation=90)\n",
    "plt.show()\n"
   ]
  },
  {
   "cell_type": "code",
   "execution_count": 24,
   "metadata": {},
   "outputs": [
    {
     "data": {
      "text/html": [
       "<div>\n",
       "<style scoped>\n",
       "    .dataframe tbody tr th:only-of-type {\n",
       "        vertical-align: middle;\n",
       "    }\n",
       "\n",
       "    .dataframe tbody tr th {\n",
       "        vertical-align: top;\n",
       "    }\n",
       "\n",
       "    .dataframe thead th {\n",
       "        text-align: right;\n",
       "    }\n",
       "</style>\n",
       "<table border=\"1\" class=\"dataframe\">\n",
       "  <thead>\n",
       "    <tr style=\"text-align: right;\">\n",
       "      <th>platform</th>\n",
       "      <th>3DS</th>\n",
       "      <th>DS</th>\n",
       "      <th>PC</th>\n",
       "      <th>PS3</th>\n",
       "      <th>PS4</th>\n",
       "      <th>PSP</th>\n",
       "      <th>PSV</th>\n",
       "      <th>Wii</th>\n",
       "      <th>WiiU</th>\n",
       "      <th>X360</th>\n",
       "      <th>XOne</th>\n",
       "    </tr>\n",
       "    <tr>\n",
       "      <th>year_of_release</th>\n",
       "      <th></th>\n",
       "      <th></th>\n",
       "      <th></th>\n",
       "      <th></th>\n",
       "      <th></th>\n",
       "      <th></th>\n",
       "      <th></th>\n",
       "      <th></th>\n",
       "      <th></th>\n",
       "      <th></th>\n",
       "      <th></th>\n",
       "    </tr>\n",
       "  </thead>\n",
       "  <tbody>\n",
       "    <tr>\n",
       "      <th>2013</th>\n",
       "      <td>56.57</td>\n",
       "      <td>1.54</td>\n",
       "      <td>12.38</td>\n",
       "      <td>113.25</td>\n",
       "      <td>25.99</td>\n",
       "      <td>3.14</td>\n",
       "      <td>10.59</td>\n",
       "      <td>8.59</td>\n",
       "      <td>21.65</td>\n",
       "      <td>88.58</td>\n",
       "      <td>18.96</td>\n",
       "    </tr>\n",
       "    <tr>\n",
       "      <th>2014</th>\n",
       "      <td>43.76</td>\n",
       "      <td>0.00</td>\n",
       "      <td>13.28</td>\n",
       "      <td>47.76</td>\n",
       "      <td>100.00</td>\n",
       "      <td>0.24</td>\n",
       "      <td>11.90</td>\n",
       "      <td>3.75</td>\n",
       "      <td>22.03</td>\n",
       "      <td>34.74</td>\n",
       "      <td>54.07</td>\n",
       "    </tr>\n",
       "    <tr>\n",
       "      <th>2015</th>\n",
       "      <td>27.78</td>\n",
       "      <td>0.00</td>\n",
       "      <td>8.52</td>\n",
       "      <td>16.82</td>\n",
       "      <td>118.90</td>\n",
       "      <td>0.12</td>\n",
       "      <td>6.25</td>\n",
       "      <td>1.14</td>\n",
       "      <td>16.35</td>\n",
       "      <td>11.96</td>\n",
       "      <td>60.14</td>\n",
       "    </tr>\n",
       "    <tr>\n",
       "      <th>2016</th>\n",
       "      <td>15.14</td>\n",
       "      <td>0.00</td>\n",
       "      <td>5.25</td>\n",
       "      <td>3.60</td>\n",
       "      <td>69.25</td>\n",
       "      <td>0.00</td>\n",
       "      <td>4.25</td>\n",
       "      <td>0.18</td>\n",
       "      <td>4.60</td>\n",
       "      <td>1.52</td>\n",
       "      <td>26.15</td>\n",
       "    </tr>\n",
       "  </tbody>\n",
       "</table>\n",
       "</div>"
      ],
      "text/plain": [
       "platform           3DS    DS     PC     PS3     PS4   PSP    PSV   Wii   WiiU  \\\n",
       "year_of_release                                                                 \n",
       "2013             56.57  1.54  12.38  113.25   25.99  3.14  10.59  8.59  21.65   \n",
       "2014             43.76  0.00  13.28   47.76  100.00  0.24  11.90  3.75  22.03   \n",
       "2015             27.78  0.00   8.52   16.82  118.90  0.12   6.25  1.14  16.35   \n",
       "2016             15.14  0.00   5.25    3.60   69.25  0.00   4.25  0.18   4.60   \n",
       "\n",
       "platform          X360   XOne  \n",
       "year_of_release                \n",
       "2013             88.58  18.96  \n",
       "2014             34.74  54.07  \n",
       "2015             11.96  60.14  \n",
       "2016              1.52  26.15  "
      ]
     },
     "execution_count": 24,
     "metadata": {},
     "output_type": "execute_result"
    }
   ],
   "source": [
    "# Vamos a analizar la información de ventas de las plataformas 'DS' y 'PSP' \n",
    "# debido a que en la gráfica anterior presentaron outliers.\n",
    "df_tiempo_de_vida "
   ]
  },
  {
   "cell_type": "markdown",
   "metadata": {},
   "source": [
    "Como se puede observar, los datos de ventas para las plataformas DS y PSP son prácticamente nulos, lo que hace que un análisis detallado de estas plataformas no sea relevante. Es probable que estas plataformas sean consideradas obsoletas o que su ciclo de vida haya concluido, lo que explica su escasa presencia en los datos."
   ]
  },
  {
   "cell_type": "code",
   "execution_count": 25,
   "metadata": {},
   "outputs": [
    {
     "data": {
      "text/html": [
       "<div>\n",
       "<style scoped>\n",
       "    .dataframe tbody tr th:only-of-type {\n",
       "        vertical-align: middle;\n",
       "    }\n",
       "\n",
       "    .dataframe tbody tr th {\n",
       "        vertical-align: top;\n",
       "    }\n",
       "\n",
       "    .dataframe thead th {\n",
       "        text-align: right;\n",
       "    }\n",
       "</style>\n",
       "<table border=\"1\" class=\"dataframe\">\n",
       "  <thead>\n",
       "    <tr style=\"text-align: right;\">\n",
       "      <th></th>\n",
       "      <th>name</th>\n",
       "      <th>platform</th>\n",
       "      <th>year_of_release</th>\n",
       "      <th>genre</th>\n",
       "      <th>na_sales</th>\n",
       "      <th>eu_sales</th>\n",
       "      <th>jp_sales</th>\n",
       "      <th>other_sales</th>\n",
       "      <th>critic_score</th>\n",
       "      <th>user_score</th>\n",
       "      <th>rating</th>\n",
       "      <th>total_sales</th>\n",
       "    </tr>\n",
       "  </thead>\n",
       "  <tbody>\n",
       "    <tr>\n",
       "      <th>16</th>\n",
       "      <td>Grand Theft Auto V</td>\n",
       "      <td>PS3</td>\n",
       "      <td>2013</td>\n",
       "      <td>Action</td>\n",
       "      <td>7.02</td>\n",
       "      <td>9.09</td>\n",
       "      <td>0.98</td>\n",
       "      <td>3.96</td>\n",
       "      <td>97.0</td>\n",
       "      <td>8.2</td>\n",
       "      <td>M</td>\n",
       "      <td>21.05</td>\n",
       "    </tr>\n",
       "    <tr>\n",
       "      <th>23</th>\n",
       "      <td>Grand Theft Auto V</td>\n",
       "      <td>X360</td>\n",
       "      <td>2013</td>\n",
       "      <td>Action</td>\n",
       "      <td>9.66</td>\n",
       "      <td>5.14</td>\n",
       "      <td>0.06</td>\n",
       "      <td>1.41</td>\n",
       "      <td>97.0</td>\n",
       "      <td>8.1</td>\n",
       "      <td>M</td>\n",
       "      <td>16.27</td>\n",
       "    </tr>\n",
       "    <tr>\n",
       "      <th>31</th>\n",
       "      <td>Call of Duty: Black Ops 3</td>\n",
       "      <td>PS4</td>\n",
       "      <td>2015</td>\n",
       "      <td>Shooter</td>\n",
       "      <td>6.03</td>\n",
       "      <td>5.86</td>\n",
       "      <td>0.36</td>\n",
       "      <td>2.38</td>\n",
       "      <td>NaN</td>\n",
       "      <td>NaN</td>\n",
       "      <td>NaN</td>\n",
       "      <td>14.63</td>\n",
       "    </tr>\n",
       "    <tr>\n",
       "      <th>33</th>\n",
       "      <td>Pokemon X/Pokemon Y</td>\n",
       "      <td>3DS</td>\n",
       "      <td>2013</td>\n",
       "      <td>Role-Playing</td>\n",
       "      <td>5.28</td>\n",
       "      <td>4.19</td>\n",
       "      <td>4.35</td>\n",
       "      <td>0.78</td>\n",
       "      <td>NaN</td>\n",
       "      <td>NaN</td>\n",
       "      <td>NaN</td>\n",
       "      <td>14.60</td>\n",
       "    </tr>\n",
       "    <tr>\n",
       "      <th>42</th>\n",
       "      <td>Grand Theft Auto V</td>\n",
       "      <td>PS4</td>\n",
       "      <td>2014</td>\n",
       "      <td>Action</td>\n",
       "      <td>3.96</td>\n",
       "      <td>6.31</td>\n",
       "      <td>0.38</td>\n",
       "      <td>1.97</td>\n",
       "      <td>97.0</td>\n",
       "      <td>8.3</td>\n",
       "      <td>M</td>\n",
       "      <td>12.62</td>\n",
       "    </tr>\n",
       "  </tbody>\n",
       "</table>\n",
       "</div>"
      ],
      "text/plain": [
       "                         name platform  year_of_release         genre  \\\n",
       "16         Grand Theft Auto V      PS3             2013        Action   \n",
       "23         Grand Theft Auto V     X360             2013        Action   \n",
       "31  Call of Duty: Black Ops 3      PS4             2015       Shooter   \n",
       "33        Pokemon X/Pokemon Y      3DS             2013  Role-Playing   \n",
       "42         Grand Theft Auto V      PS4             2014        Action   \n",
       "\n",
       "    na_sales  eu_sales  jp_sales  other_sales  critic_score  user_score  \\\n",
       "16      7.02      9.09      0.98         3.96          97.0         8.2   \n",
       "23      9.66      5.14      0.06         1.41          97.0         8.1   \n",
       "31      6.03      5.86      0.36         2.38           NaN         NaN   \n",
       "33      5.28      4.19      4.35         0.78           NaN         NaN   \n",
       "42      3.96      6.31      0.38         1.97          97.0         8.3   \n",
       "\n",
       "   rating  total_sales  \n",
       "16      M        21.05  \n",
       "23      M        16.27  \n",
       "31    NaN        14.63  \n",
       "33    NaN        14.60  \n",
       "42      M        12.62  "
      ]
     },
     "execution_count": 25,
     "metadata": {},
     "output_type": "execute_result"
    }
   ],
   "source": [
    "# Eliminamos plataformas ds y psp\n",
    "games_data_clean = games_data_clean[~games_data_clean['platform'].isin(['DS', 'PSP'])]\n",
    "games_data_clean.head()"
   ]
  },
  {
   "cell_type": "markdown",
   "metadata": {},
   "source": [
    "<div class=\"alert alert-block alert-warning\">\n",
    "    <b>Comentario del revisor</b> <a class=\"tocSkip\"></a>\n",
    "    \n",
    "Rcuerda que los graficos de box-plot nos ayudan a identificar outliers que posteriomente en el desarrollo de las pruebas de hipótesis nos servirían eliminar para que no puedan sesgar nuestros resultados. \n",
    "</div>"
   ]
  },
  {
   "cell_type": "markdown",
   "metadata": {},
   "source": [
    "<div class=\"alert alert-block alert-info\">\n",
    "Debido a lo mencionado anteriormente, se decidió eliminar esas plataformas DS y PSP del DataFrame games_data_clean, ya que su baja representación no aporta información relevante para el análisis."
   ]
  },
  {
   "cell_type": "markdown",
   "metadata": {},
   "source": [
    "<div class=\"alert alert-block alert-success\">\n",
    "<b>Comentario del revisor:</b> <a class=\"tocSkip\"></a>\n",
    "    \n",
    "Gran trabajo con los ajustes!\n",
    "\n",
    "</div>"
   ]
  },
  {
   "cell_type": "code",
   "execution_count": 26,
   "metadata": {},
   "outputs": [
    {
     "data": {
      "text/html": [
       "<div>\n",
       "<style scoped>\n",
       "    .dataframe tbody tr th:only-of-type {\n",
       "        vertical-align: middle;\n",
       "    }\n",
       "\n",
       "    .dataframe tbody tr th {\n",
       "        vertical-align: top;\n",
       "    }\n",
       "\n",
       "    .dataframe thead th {\n",
       "        text-align: right;\n",
       "    }\n",
       "</style>\n",
       "<table border=\"1\" class=\"dataframe\">\n",
       "  <thead>\n",
       "    <tr style=\"text-align: right;\">\n",
       "      <th></th>\n",
       "      <th>name</th>\n",
       "      <th>platform</th>\n",
       "      <th>year_of_release</th>\n",
       "      <th>genre</th>\n",
       "      <th>na_sales</th>\n",
       "      <th>eu_sales</th>\n",
       "      <th>jp_sales</th>\n",
       "      <th>other_sales</th>\n",
       "      <th>critic_score</th>\n",
       "      <th>user_score</th>\n",
       "      <th>rating</th>\n",
       "      <th>total_sales</th>\n",
       "    </tr>\n",
       "  </thead>\n",
       "  <tbody>\n",
       "    <tr>\n",
       "      <th>31</th>\n",
       "      <td>Call of Duty: Black Ops 3</td>\n",
       "      <td>PS4</td>\n",
       "      <td>2015</td>\n",
       "      <td>Shooter</td>\n",
       "      <td>6.03</td>\n",
       "      <td>5.86</td>\n",
       "      <td>0.36</td>\n",
       "      <td>2.38</td>\n",
       "      <td>NaN</td>\n",
       "      <td>NaN</td>\n",
       "      <td>NaN</td>\n",
       "      <td>14.63</td>\n",
       "    </tr>\n",
       "    <tr>\n",
       "      <th>42</th>\n",
       "      <td>Grand Theft Auto V</td>\n",
       "      <td>PS4</td>\n",
       "      <td>2014</td>\n",
       "      <td>Action</td>\n",
       "      <td>3.96</td>\n",
       "      <td>6.31</td>\n",
       "      <td>0.38</td>\n",
       "      <td>1.97</td>\n",
       "      <td>97.0</td>\n",
       "      <td>8.3</td>\n",
       "      <td>M</td>\n",
       "      <td>12.62</td>\n",
       "    </tr>\n",
       "    <tr>\n",
       "      <th>77</th>\n",
       "      <td>FIFA 16</td>\n",
       "      <td>PS4</td>\n",
       "      <td>2015</td>\n",
       "      <td>Sports</td>\n",
       "      <td>1.12</td>\n",
       "      <td>6.12</td>\n",
       "      <td>0.06</td>\n",
       "      <td>1.28</td>\n",
       "      <td>82.0</td>\n",
       "      <td>4.3</td>\n",
       "      <td>E</td>\n",
       "      <td>8.58</td>\n",
       "    </tr>\n",
       "    <tr>\n",
       "      <th>87</th>\n",
       "      <td>Star Wars Battlefront (2015)</td>\n",
       "      <td>PS4</td>\n",
       "      <td>2015</td>\n",
       "      <td>Shooter</td>\n",
       "      <td>2.99</td>\n",
       "      <td>3.49</td>\n",
       "      <td>0.22</td>\n",
       "      <td>1.28</td>\n",
       "      <td>NaN</td>\n",
       "      <td>NaN</td>\n",
       "      <td>NaN</td>\n",
       "      <td>7.98</td>\n",
       "    </tr>\n",
       "    <tr>\n",
       "      <th>92</th>\n",
       "      <td>Call of Duty: Advanced Warfare</td>\n",
       "      <td>PS4</td>\n",
       "      <td>2014</td>\n",
       "      <td>Shooter</td>\n",
       "      <td>2.81</td>\n",
       "      <td>3.48</td>\n",
       "      <td>0.14</td>\n",
       "      <td>1.23</td>\n",
       "      <td>83.0</td>\n",
       "      <td>5.7</td>\n",
       "      <td>M</td>\n",
       "      <td>7.66</td>\n",
       "    </tr>\n",
       "  </tbody>\n",
       "</table>\n",
       "</div>"
      ],
      "text/plain": [
       "                              name platform  year_of_release    genre  \\\n",
       "31       Call of Duty: Black Ops 3      PS4             2015  Shooter   \n",
       "42              Grand Theft Auto V      PS4             2014   Action   \n",
       "77                         FIFA 16      PS4             2015   Sports   \n",
       "87    Star Wars Battlefront (2015)      PS4             2015  Shooter   \n",
       "92  Call of Duty: Advanced Warfare      PS4             2014  Shooter   \n",
       "\n",
       "    na_sales  eu_sales  jp_sales  other_sales  critic_score  user_score  \\\n",
       "31      6.03      5.86      0.36         2.38           NaN         NaN   \n",
       "42      3.96      6.31      0.38         1.97          97.0         8.3   \n",
       "77      1.12      6.12      0.06         1.28          82.0         4.3   \n",
       "87      2.99      3.49      0.22         1.28           NaN         NaN   \n",
       "92      2.81      3.48      0.14         1.23          83.0         5.7   \n",
       "\n",
       "   rating  total_sales  \n",
       "31    NaN        14.63  \n",
       "42      M        12.62  \n",
       "77      E         8.58  \n",
       "87    NaN         7.98  \n",
       "92      M         7.66  "
      ]
     },
     "execution_count": 26,
     "metadata": {},
     "output_type": "execute_result"
    }
   ],
   "source": [
    "# Procedemos a filtrar los datos para PS4 que es la plataforma aparentemente más rentable.\n",
    "ps4_data = games_data_clean[games_data_clean['platform'] == 'PS4']\n",
    "ps4_data.head()"
   ]
  },
  {
   "cell_type": "markdown",
   "metadata": {},
   "source": [
    "Analizaremos cómo las reseñas de usuarios y profesionales influyen en las ventas. Para ello, crearemos gráficos y calcularemos correlaciones que nos permitan comprender mejor la relación entre las puntuaciones y el desempeño en ventas."
   ]
  },
  {
   "cell_type": "code",
   "execution_count": 27,
   "metadata": {},
   "outputs": [
    {
     "data": {
      "image/png": "[encoded data removed]",
      "text/plain": [
       "<Figure size 1000x400 with 2 Axes>"
      ]
     },
     "metadata": {},
     "output_type": "display_data"
    }
   ],
   "source": [
    "# Gráfico de dispersión para las reseñas de usuarios vs. ventas\n",
    "plt.figure(figsize=(10, 4))\n",
    "\n",
    "plt.subplot(1, 2, 1)\n",
    "sns.scatterplot(x='user_score', y='total_sales', data=ps4_data)\n",
    "plt.title('Reseñas de Usuarios vs Ventas (PS4)')\n",
    "plt.xlabel('Reseñas de Usuarios')\n",
    "plt.ylabel('Ventas Totales')\n",
    "\n",
    "# Gráfico de dispersión para las reseñas de profesionales vs. ventas\n",
    "plt.subplot(1, 2, 2)\n",
    "sns.scatterplot(x='critic_score', y='total_sales', data=ps4_data)\n",
    "plt.title('Reseñas de Profesionales vs Ventas (PS4)')\n",
    "plt.xlabel('Reseñas de Profesionales')\n",
    "plt.ylabel('Ventas Totales')\n",
    "\n",
    "\n",
    "plt.tight_layout()\n",
    "plt.show()"
   ]
  },
  {
   "cell_type": "markdown",
   "metadata": {},
   "source": [
    "<div class=\"alert alert-block alert-success\">\n",
    "    <b>Comentario del revisor</b> <a class=\"tocSkip\"></a>\n",
    "    \n",
    "Muy buen trabajo con el análisis de la relación estre las scores y las ventas. \n",
    "</div>"
   ]
  },
  {
   "cell_type": "code",
   "execution_count": 28,
   "metadata": {},
   "outputs": [
    {
     "name": "stdout",
     "output_type": "stream",
     "text": [
      "Correlación entre reseñas de usuarios y ventas: -0.03\n",
      "Correlación entre reseñas de profesionales y ventas: 0.41\n"
     ]
    }
   ],
   "source": [
    "# Correlación entre reseñas de usuarios y ventas\n",
    "correlation_user_score = ps4_data['user_score'].corr(ps4_data['total_sales'])\n",
    "\n",
    "# Correlación entre reseñas de profesionales y ventas\n",
    "correlation_critic_score = ps4_data['critic_score'].corr(ps4_data['total_sales'])\n",
    "\n",
    "print(f\"Correlación entre reseñas de usuarios y ventas: {correlation_user_score:.2f}\")\n",
    "print(f\"Correlación entre reseñas de profesionales y ventas: {correlation_critic_score:.2f}\")\n"
   ]
  },
  {
   "cell_type": "markdown",
   "metadata": {},
   "source": [
    "<div style=\"background-color: lightblue; padding: 10px; border-radius: 5px;\">\n",
    "La correlación entre reseñas de usuarios y ventas es -0.03, lo que indica una relación muy débil y casi nula. En cambio, la correlación entre reseñas de profesionales y ventas es 0.41, lo que sugiere una relación moderada positiva; es decir, las puntuaciones de los críticos profesionales tienden a estar asociadas con mayores ventas."
   ]
  },
  {
   "cell_type": "markdown",
   "metadata": {},
   "source": [
    "Compararemos cómo se desempeñan los mismos juegos en diferentes plataformas para identificar variaciones en sus ventas y otras métricas. Este análisis nos permitirá entender mejor cómo el rendimiento de un juego puede variar según la plataforma en la que se encuentre."
   ]
  },
  {
   "cell_type": "code",
   "execution_count": 29,
   "metadata": {},
   "outputs": [],
   "source": [
    "# Filtrar los juegos que están en múltiples plataformas\n",
    "multi_platform_games = games_data_clean.groupby('name').filter(lambda x: x['platform'].nunique() > 1)\n",
    "\n",
    "# Filtrar los datos solo para los juegos que están en PS4\n",
    "ps4_multi_platform = multi_platform_games[multi_platform_games['platform'] == 'PS4']\n"
   ]
  },
  {
   "cell_type": "code",
   "execution_count": 30,
   "metadata": {},
   "outputs": [],
   "source": [
    "# Filtrar datos para X360 y PC\n",
    "x360_data = multi_platform_games[multi_platform_games['platform'] == 'X360']\n",
    "pc_data = multi_platform_games[multi_platform_games['platform'] == 'PC']\n"
   ]
  },
  {
   "cell_type": "code",
   "execution_count": 31,
   "metadata": {},
   "outputs": [
    {
     "data": {
      "image/png": "[encoded data removed]",
      "text/plain": [
       "<Figure size 1000x600 with 4 Axes>"
      ]
     },
     "metadata": {},
     "output_type": "display_data"
    }
   ],
   "source": [
    "# Crear gráficos de dispersión para X360 y PC\n",
    "plt.figure(figsize=(10, 6))\n",
    "\n",
    "# X360\n",
    "plt.subplot(2, 2, 1)\n",
    "sns.scatterplot(x='user_score', y='total_sales', data=x360_data)\n",
    "plt.title('Reseñas de Usuarios vs Ventas X360')\n",
    "plt.xlabel('Reseñas de Usuarios')\n",
    "plt.ylabel('Ventas Totales')\n",
    "\n",
    "plt.subplot(2, 2, 2)\n",
    "sns.scatterplot(x='critic_score', y='total_sales', data=x360_data)\n",
    "plt.title('Reseñas de Profesionales vs Ventas X360')\n",
    "plt.xlabel('Reseñas de Profesionales')\n",
    "plt.ylabel('Ventas Totales')\n",
    "\n",
    "# PC\n",
    "plt.subplot(2, 2, 3)\n",
    "sns.scatterplot(x='user_score', y='total_sales', data=pc_data)\n",
    "plt.title('Reseñas de Usuarios vs Ventas PC')\n",
    "plt.xlabel('Reseñas de Usuarios')\n",
    "plt.ylabel('Ventas Totales')\n",
    "\n",
    "plt.subplot(2, 2, 4)\n",
    "sns.scatterplot(x='critic_score', y='total_sales', data=pc_data)\n",
    "plt.title('Reseñas de Críticos vs Ventas PC')\n",
    "plt.xlabel('Reseñas de Críticos')\n",
    "plt.ylabel('Ventas Totales')\n",
    "\n",
    "plt.tight_layout()\n",
    "plt.show()\n"
   ]
  },
  {
   "cell_type": "code",
   "execution_count": 32,
   "metadata": {},
   "outputs": [
    {
     "name": "stdout",
     "output_type": "stream",
     "text": [
      "Correlación en X360 (Reseñas de Usuarios vs Ventas): -0.01\n",
      "Correlación en X360 (Reseñas de Profesionales vs Ventas): 0.35\n",
      "Correlación en PC (Reseñas de Usuarios vs Ventas): 0.06\n",
      "Correlación en PC (Reseñas de Profesionales vs Ventas): 0.33\n"
     ]
    }
   ],
   "source": [
    "# Correlación para X360\n",
    "correlation_x360_user = x360_data['user_score'].corr(x360_data['total_sales'])\n",
    "correlation_x360_critic = x360_data['critic_score'].corr(x360_data['total_sales'])\n",
    "\n",
    "# Correlación para PC\n",
    "correlation_pc_user = pc_data['user_score'].corr(pc_data['total_sales'])\n",
    "correlation_pc_critic = pc_data['critic_score'].corr(pc_data['total_sales'])\n",
    "\n",
    "print(f\"Correlación en X360 (Reseñas de Usuarios vs Ventas): {correlation_x360_user:.2f}\")\n",
    "print(f\"Correlación en X360 (Reseñas de Profesionales vs Ventas): {correlation_x360_critic:.2f}\")\n",
    "print(f\"Correlación en PC (Reseñas de Usuarios vs Ventas): {correlation_pc_user:.2f}\")\n",
    "print(f\"Correlación en PC (Reseñas de Profesionales vs Ventas): {correlation_pc_critic:.2f}\")\n"
   ]
  },
  {
   "cell_type": "markdown",
   "metadata": {},
   "source": [
    "<div style=\"background-color: lightblue; padding: 10px; border-radius: 5px;\">\n",
    "Las críticas profesionales parecen tener una relación más fuerte con las ventas de juegos en comparación con las reseñas de usuarios, en ambas plataformas. Esto puede indicar que las reseñas de críticos tienen un impacto más significativo en la percepción del juego y, por lo tanto, en las decisiones de compra."
   ]
  },
  {
   "cell_type": "markdown",
   "metadata": {},
   "source": [
    "A continuación, realizaremos un análisis de los juegos según su género, con el objetivo de identificar la rentabilidad asociada a cada uno."
   ]
  },
  {
   "cell_type": "code",
   "execution_count": 33,
   "metadata": {},
   "outputs": [
    {
     "data": {
      "text/plain": [
       "Action          752\n",
       "Role-Playing    285\n",
       "Adventure       211\n",
       "Sports          208\n",
       "Shooter         187\n",
       "Misc            146\n",
       "Racing           85\n",
       "Fighting         79\n",
       "Platform         72\n",
       "Simulation       61\n",
       "Strategy         55\n",
       "Puzzle           17\n",
       "Name: genre, dtype: int64"
      ]
     },
     "execution_count": 33,
     "metadata": {},
     "output_type": "execute_result"
    }
   ],
   "source": [
    "genre_distribution = games_data_clean['genre'].value_counts()\n",
    "genre_distribution"
   ]
  },
  {
   "cell_type": "code",
   "execution_count": 34,
   "metadata": {},
   "outputs": [
    {
     "data": {
      "image/png": "[encoded data removed]",
      "text/plain": [
       "<Figure size 1000x600 with 1 Axes>"
      ]
     },
     "metadata": {},
     "output_type": "display_data"
    }
   ],
   "source": [
    "plt.figure(figsize=(10, 6))\n",
    "sns.barplot(x=genre_distribution.index, y=genre_distribution.values)\n",
    "plt.title('Distribución de Juegos por Género')\n",
    "plt.xlabel('Género')\n",
    "plt.ylabel('Número de Juegos')\n",
    "plt.xticks(rotation=45)\n",
    "plt.show()"
   ]
  },
  {
   "cell_type": "code",
   "execution_count": 35,
   "metadata": {},
   "outputs": [
    {
     "data": {
      "text/plain": [
       "genre\n",
       "Action          320.51\n",
       "Shooter         232.98\n",
       "Sports          149.93\n",
       "Role-Playing    144.86\n",
       "Misc             62.57\n",
       "Platform         41.94\n",
       "Racing           39.89\n",
       "Fighting         35.29\n",
       "Adventure        22.90\n",
       "Simulation       21.55\n",
       "Strategy         10.06\n",
       "Puzzle            3.17\n",
       "Name: total_sales, dtype: float64"
      ]
     },
     "execution_count": 35,
     "metadata": {},
     "output_type": "execute_result"
    }
   ],
   "source": [
    "#Rentabilidad por género \n",
    "genre_sales = games_data_clean.groupby('genre')['total_sales'].sum().sort_values(ascending=False)\n",
    "genre_sales"
   ]
  },
  {
   "cell_type": "code",
   "execution_count": 36,
   "metadata": {},
   "outputs": [
    {
     "data": {
      "image/png": "[encoded data removed]",
      "text/plain": [
       "<Figure size 1000x600 with 1 Axes>"
      ]
     },
     "metadata": {},
     "output_type": "display_data"
    }
   ],
   "source": [
    "plt.figure(figsize=(10, 6))\n",
    "sns.barplot(x=genre_sales.index, y=genre_sales.values)\n",
    "plt.title('Ventas Totales por Género')\n",
    "plt.xlabel('Género')\n",
    "plt.ylabel('Ventas Totales (en millones)')\n",
    "plt.xticks(rotation=45)\n",
    "plt.show()"
   ]
  },
  {
   "cell_type": "markdown",
   "metadata": {},
   "source": [
    "<div style=\"background-color: lightblue; padding: 10px; border-radius: 5px;\">\n",
    "El análisis muestra que los géneros más rentables son Action, Shooter, y Sports. Aunque hay menos juegos en Shooter y Sports, estos son altamente rentables debido a su éxito masivo. El género Action, con el mayor número de lanzamientos, sigue siendo el más rentable. En contraste, géneros como Puzzle y Adventure tienen ventas más bajas, probablemente debido a su enfoque en nichos de mercado más pequeños. En general, la rentabilidad está influenciada por la popularidad, la frecuencia de lanzamientos, y la calidad de los títulos en cada género."
   ]
  },
  {
   "cell_type": "markdown",
   "metadata": {},
   "source": [
    "Dado que hemos observado diferencias significativas, procederemos a analizar las calificaciones de los usuarios para los géneros de Acción y Deportes."
   ]
  },
  {
   "cell_type": "code",
   "execution_count": 37,
   "metadata": {},
   "outputs": [
    {
     "name": "stdout",
     "output_type": "stream",
     "text": [
      "Estadístico t: 11.475\n",
      "Valor p: 0.000\n",
      "Las calificaciones promedio de los usuarios para los géneros de Acción y Deportes son significativamente diferentes.\n"
     ]
    }
   ],
   "source": [
    "# Filtramos las calificaciones de usuarios para los géneros de Acción y Deportes\n",
    "accion_ratings = games_data_clean[games_data_clean['genre'] == 'Action']['user_score']\n",
    "deportes_ratings = games_data_clean[games_data_clean['genre'] == 'Sports']['user_score']\n",
    "\n",
    "# Realizar la prueba t de Student para muestras independientes\n",
    "t_stat, p_value = ttest_ind(accion_ratings, deportes_ratings, nan_policy='omit')\n",
    "\n",
    "# Mostrar los resultados\n",
    "print(f\"Estadístico t: {t_stat:.3f}\")\n",
    "print(f\"Valor p: {p_value:.3f}\")\n",
    "\n",
    "# Interpretación del resultado\n",
    "if p_value < 0.05:\n",
    "    print(\"Las calificaciones promedio de los usuarios para los géneros de Acción y Deportes son significativamente diferentes.\")\n",
    "else:\n",
    "    print(\"No se encontraron diferencias significativas en las calificaciones promedio de los usuarios entre los géneros de Acción y Deportes.\")\n"
   ]
  },
  {
   "cell_type": "code",
   "execution_count": 38,
   "metadata": {},
   "outputs": [
    {
     "data": {
      "image/png": "[encoded data removed]",
      "text/plain": [
       "<Figure size 400x200 with 1 Axes>"
      ]
     },
     "metadata": {},
     "output_type": "display_data"
    }
   ],
   "source": [
    "# Creamos DataFrames para cada género usando las Series existentes\n",
    "accion_df = pd.DataFrame({'genre': 'Action', 'user_score': accion_ratings})\n",
    "deportes_df = pd.DataFrame({'genre': 'Sports', 'user_score': deportes_ratings})\n",
    "\n",
    "# Concatenamos los DataFrames\n",
    "ratings_data = pd.concat([accion_df, deportes_df])\n",
    "\n",
    "# Calculamos las calificaciones promedio para los géneros\n",
    "mean_ratings = ratings_data.groupby('genre')['user_score'].mean()\n",
    "\n",
    "#Procedemos a crear la gráfica de barras\n",
    "plt.figure(figsize=(4, 2))\n",
    "sns.barplot(x=mean_ratings.index, y=mean_ratings.values, palette='pastel')\n",
    "plt.title('Calificaciones Promedio de Usuarios para Acción y Deportes')\n",
    "plt.xlabel('Género')\n",
    "plt.ylabel('Calificación Promedio')\n",
    "\n",
    "plt.show()"
   ]
  },
  {
   "cell_type": "markdown",
   "metadata": {},
   "source": [
    "<div style=\"background-color: lightblue; padding: 10px; border-radius: 5px;\">\n",
    "Este análisis sugiere que las calificaciones promedio de los usuarios para los géneros de Acción y Deportes no son iguales y que hay una diferencia clara y significativa en cómo los usuarios califican estos géneros."
   ]
  },
  {
   "cell_type": "markdown",
   "metadata": {},
   "source": [
    "Analizaremos ahora la información por regiones y plataformas principales.\n"
   ]
  },
  {
   "cell_type": "code",
   "execution_count": 39,
   "metadata": {},
   "outputs": [
    {
     "data": {
      "text/html": [
       "<div>\n",
       "<style scoped>\n",
       "    .dataframe tbody tr th:only-of-type {\n",
       "        vertical-align: middle;\n",
       "    }\n",
       "\n",
       "    .dataframe tbody tr th {\n",
       "        vertical-align: top;\n",
       "    }\n",
       "\n",
       "    .dataframe thead th {\n",
       "        text-align: right;\n",
       "    }\n",
       "</style>\n",
       "<table border=\"1\" class=\"dataframe\">\n",
       "  <thead>\n",
       "    <tr style=\"text-align: right;\">\n",
       "      <th></th>\n",
       "      <th>na_sales</th>\n",
       "      <th>eu_sales</th>\n",
       "      <th>jp_sales</th>\n",
       "    </tr>\n",
       "    <tr>\n",
       "      <th>platform</th>\n",
       "      <th></th>\n",
       "      <th></th>\n",
       "      <th></th>\n",
       "    </tr>\n",
       "  </thead>\n",
       "  <tbody>\n",
       "    <tr>\n",
       "      <th>3DS</th>\n",
       "      <td>38.20</td>\n",
       "      <td>30.96</td>\n",
       "      <td>67.81</td>\n",
       "    </tr>\n",
       "    <tr>\n",
       "      <th>PC</th>\n",
       "      <td>11.11</td>\n",
       "      <td>25.36</td>\n",
       "      <td>0.00</td>\n",
       "    </tr>\n",
       "    <tr>\n",
       "      <th>PS3</th>\n",
       "      <td>63.50</td>\n",
       "      <td>67.81</td>\n",
       "      <td>23.35</td>\n",
       "    </tr>\n",
       "    <tr>\n",
       "      <th>PS4</th>\n",
       "      <td>108.74</td>\n",
       "      <td>141.09</td>\n",
       "      <td>15.96</td>\n",
       "    </tr>\n",
       "    <tr>\n",
       "      <th>PSV</th>\n",
       "      <td>5.04</td>\n",
       "      <td>6.10</td>\n",
       "      <td>18.59</td>\n",
       "    </tr>\n",
       "    <tr>\n",
       "      <th>Wii</th>\n",
       "      <td>6.56</td>\n",
       "      <td>5.93</td>\n",
       "      <td>0.05</td>\n",
       "    </tr>\n",
       "    <tr>\n",
       "      <th>WiiU</th>\n",
       "      <td>29.21</td>\n",
       "      <td>19.85</td>\n",
       "      <td>10.88</td>\n",
       "    </tr>\n",
       "    <tr>\n",
       "      <th>X360</th>\n",
       "      <td>81.66</td>\n",
       "      <td>42.52</td>\n",
       "      <td>0.51</td>\n",
       "    </tr>\n",
       "    <tr>\n",
       "      <th>XOne</th>\n",
       "      <td>93.12</td>\n",
       "      <td>51.59</td>\n",
       "      <td>0.34</td>\n",
       "    </tr>\n",
       "  </tbody>\n",
       "</table>\n",
       "</div>"
      ],
      "text/plain": [
       "          na_sales  eu_sales  jp_sales\n",
       "platform                              \n",
       "3DS          38.20     30.96     67.81\n",
       "PC           11.11     25.36      0.00\n",
       "PS3          63.50     67.81     23.35\n",
       "PS4         108.74    141.09     15.96\n",
       "PSV           5.04      6.10     18.59\n",
       "Wii           6.56      5.93      0.05\n",
       "WiiU         29.21     19.85     10.88\n",
       "X360         81.66     42.52      0.51\n",
       "XOne         93.12     51.59      0.34"
      ]
     },
     "execution_count": 39,
     "metadata": {},
     "output_type": "execute_result"
    }
   ],
   "source": [
    "# Sumar ventas por plataforma y región\n",
    "platform_sales_region = games_data_clean.groupby(['platform'])[['na_sales', 'eu_sales', 'jp_sales']].sum()\n",
    "platform_sales_region"
   ]
  },
  {
   "cell_type": "code",
   "execution_count": 40,
   "metadata": {},
   "outputs": [
    {
     "data": {
      "image/png": "[encoded data removed]",
      "text/plain": [
       "<Figure size 1200x800 with 1 Axes>"
      ]
     },
     "metadata": {},
     "output_type": "display_data"
    }
   ],
   "source": [
    "platform_sales_region.plot(kind='bar', stacked=True, figsize=(12, 8), colormap='summer')\n",
    "\n",
    "plt.title('Ventas Totales por Plataforma en Cada Región')\n",
    "plt.xlabel('Plataforma')\n",
    "plt.ylabel('Ventas Totales (en millones)')\n",
    "plt.legend(title='Región', bbox_to_anchor=(1.05, 1), loc='upper left')\n",
    "\n",
    "\n",
    "plt.tight_layout()\n",
    "plt.show()"
   ]
  },
  {
   "cell_type": "code",
   "execution_count": 41,
   "metadata": {},
   "outputs": [],
   "source": [
    "# Crearé una función para mostrar los tops de juegos de acuerdo a diferentes características.\n",
    "\n",
    "def muestra_tops(df, caracteristica, n=5):\n",
    "    # df es un dataframe que tiene la info de cada region, donde cada region es una columna\n",
    "    # n es el numero para mostrar el top, por default 5\n",
    "    # caracteristica es un string que describe lo que se quiere mostrar\n",
    "    for region in df.columns:\n",
    "        # Ordenamos la columna de la region o quedarnos solo con los n datos mas altos\n",
    "        top_n = df[region].nlargest(n)\n",
    "        # Mostrar los n datos mas altos\n",
    "        print('Top {} de {} en {}'.format(n, caracteristica, region))\n",
    "        print(top_n)\n",
    "        print()"
   ]
  },
  {
   "cell_type": "code",
   "execution_count": 42,
   "metadata": {},
   "outputs": [],
   "source": [
    "# Crearé una función para mostrar las gráficas de los tops de juegos de acuerdo a diferentes características.\n",
    "def grafica_comparacion(df, caracteristica, n=5):\n",
    "#Genera gráficos comparativos entre diferentes regiones.\n",
    "#Parámetros:df: DataFrame que contiene la información de cada región, donde cada región es una columna.\n",
    "#caracteristica: String que describe lo que se quiere mostrar.\n",
    "# n: Número de elementos en el top, por defecto es 5.\n",
    "\n",
    "    for region in df.columns:\n",
    "        # Ordenamos la columna de la región y nos quedamos solo con los n datos más altos\n",
    "        top_n = df[region].nlargest(n)\n",
    "        \n",
    "        # Crear un gráfico de barras\n",
    "        plt.figure(figsize=(6, 2))\n",
    "        plt.bar(top_n.index, top_n.values, color='skyblue')\n",
    "        \n",
    "        # Añadir títulos y etiquetas\n",
    "        plt.title(f'Top {n} de {caracteristica} en {region}')\n",
    "        plt.xlabel(f'{caracteristica.split()[0]}')\n",
    "        plt.ylabel('Ventas')\n",
    "        \n",
    "        # Mostrar el gráfico\n",
    "        plt.show()\n"
   ]
  },
  {
   "cell_type": "code",
   "execution_count": 43,
   "metadata": {},
   "outputs": [
    {
     "name": "stdout",
     "output_type": "stream",
     "text": [
      "Top 5 de plataformas en na_sales\n",
      "platform\n",
      "PS4     108.74\n",
      "XOne     93.12\n",
      "X360     81.66\n",
      "PS3      63.50\n",
      "3DS      38.20\n",
      "Name: na_sales, dtype: float64\n",
      "\n",
      "Top 5 de plataformas en eu_sales\n",
      "platform\n",
      "PS4     141.09\n",
      "PS3      67.81\n",
      "XOne     51.59\n",
      "X360     42.52\n",
      "3DS      30.96\n",
      "Name: eu_sales, dtype: float64\n",
      "\n",
      "Top 5 de plataformas en jp_sales\n",
      "platform\n",
      "3DS     67.81\n",
      "PS3     23.35\n",
      "PSV     18.59\n",
      "PS4     15.96\n",
      "WiiU    10.88\n",
      "Name: jp_sales, dtype: float64\n",
      "\n"
     ]
    }
   ],
   "source": [
    "# Identificamos las cinco principales plataformas para cada región\n",
    "muestra_tops(platform_sales_region, 'plataformas')"
   ]
  },
  {
   "cell_type": "code",
   "execution_count": 44,
   "metadata": {},
   "outputs": [
    {
     "data": {
      "image/png": "[encoded data removed]",
      "text/plain": [
       "<Figure size 600x200 with 1 Axes>"
      ]
     },
     "metadata": {},
     "output_type": "display_data"
    },
    {
     "data": {
      "image/png": "[encoded data removed]",
      "text/plain": [
       "<Figure size 600x200 with 1 Axes>"
      ]
     },
     "metadata": {},
     "output_type": "display_data"
    },
    {
     "data": {
      "image/png": "[encoded data removed]",
      "text/plain": [
       "<Figure size 600x200 with 1 Axes>"
      ]
     },
     "metadata": {},
     "output_type": "display_data"
    }
   ],
   "source": [
    "grafica_comparacion(platform_sales_region, 'Plataformas mas vendidas')"
   ]
  },
  {
   "cell_type": "code",
   "execution_count": 45,
   "metadata": {},
   "outputs": [
    {
     "name": "stdout",
     "output_type": "stream",
     "text": [
      "Top 5 de géneros en na_sales\n",
      "genre\n",
      "Action          125.83\n",
      "Shooter         109.74\n",
      "Sports           65.27\n",
      "Role-Playing     46.40\n",
      "Misc             27.46\n",
      "Name: na_sales, dtype: float64\n",
      "\n",
      "Top 5 de géneros en eu_sales\n",
      "genre\n",
      "Action          117.87\n",
      "Shooter          87.86\n",
      "Sports           60.34\n",
      "Role-Playing     36.97\n",
      "Racing           20.19\n",
      "Name: eu_sales, dtype: float64\n",
      "\n",
      "Top 5 de géneros en jp_sales\n",
      "genre\n",
      "Role-Playing    50.01\n",
      "Action          39.65\n",
      "Misc             9.03\n",
      "Fighting         7.63\n",
      "Shooter          6.61\n",
      "Name: jp_sales, dtype: float64\n",
      "\n"
     ]
    }
   ],
   "source": [
    "# Sumar ventas por género y región\n",
    "genre_sales_region = games_data_clean.groupby(['genre'])[['na_sales', 'eu_sales', 'jp_sales']].sum()\n",
    "\n",
    "# Identificar los cinco principales géneros para cada región\n",
    "muestra_tops(genre_sales_region, 'géneros')\n"
   ]
  },
  {
   "cell_type": "code",
   "execution_count": 46,
   "metadata": {},
   "outputs": [
    {
     "data": {
      "image/png": "[encoded data removed]",
      "text/plain": [
       "<Figure size 600x200 with 1 Axes>"
      ]
     },
     "metadata": {},
     "output_type": "display_data"
    },
    {
     "data": {
      "image/png": "[encoded data removed]",
      "text/plain": [
       "<Figure size 600x200 with 1 Axes>"
      ]
     },
     "metadata": {},
     "output_type": "display_data"
    },
    {
     "data": {
      "image/png": "[encoded data removed]",
      "text/plain": [
       "<Figure size 600x200 with 1 Axes>"
      ]
     },
     "metadata": {},
     "output_type": "display_data"
    }
   ],
   "source": [
    "grafica_comparacion(genre_sales_region, 'Géneros más vendidos')"
   ]
  },
  {
   "cell_type": "code",
   "execution_count": 47,
   "metadata": {},
   "outputs": [
    {
     "name": "stdout",
     "output_type": "stream",
     "text": [
      "Top 5 de clasificación en na_sales\n",
      "rating\n",
      "M       165.21\n",
      "E        78.94\n",
      "E10+     54.02\n",
      "T        49.79\n",
      "Name: na_sales, dtype: float64\n",
      "\n",
      "Top 5 de clasificación en eu_sales\n",
      "rating\n",
      "M       145.32\n",
      "E        82.80\n",
      "E10+     42.53\n",
      "T        41.95\n",
      "Name: eu_sales, dtype: float64\n",
      "\n",
      "Top 5 de clasificación en jp_sales\n",
      "rating\n",
      "T       20.44\n",
      "E       15.00\n",
      "M       14.11\n",
      "E10+     5.89\n",
      "Name: jp_sales, dtype: float64\n",
      "\n"
     ]
    }
   ],
   "source": [
    "# Sumar ventas por clasificación y región\n",
    "rating_sales_region = games_data_clean.groupby('rating')[['na_sales', 'eu_sales', 'jp_sales']].sum()\n",
    "\n",
    "# Calcular el total de ventas por clasificación y región\n",
    "muestra_tops(rating_sales_region, 'clasificación')"
   ]
  },
  {
   "cell_type": "code",
   "execution_count": 48,
   "metadata": {},
   "outputs": [
    {
     "data": {
      "image/png": "[encoded data removed]",
      "text/plain": [
       "<Figure size 600x200 with 1 Axes>"
      ]
     },
     "metadata": {},
     "output_type": "display_data"
    },
    {
     "data": {
      "image/png": "[encoded data removed]",
      "text/plain": [
       "<Figure size 600x200 with 1 Axes>"
      ]
     },
     "metadata": {},
     "output_type": "display_data"
    },
    {
     "data": {
      "image/png": "[encoded data removed]",
      "text/plain": [
       "<Figure size 600x200 with 1 Axes>"
      ]
     },
     "metadata": {},
     "output_type": "display_data"
    }
   ],
   "source": [
    "grafica_comparacion(rating_sales_region, 'Clasificaciones más vendidas', n=3)"
   ]
  },
  {
   "cell_type": "markdown",
   "metadata": {},
   "source": [
    "<div style=\"background-color: lightblue; padding: 10px; border-radius: 5px;\">\n",
    "En Norteamérica y Europa, la PS4 es la consola más vendida y el género de acción con clasificación \"Mature\" (M) es el favorito. En Japón, la 3DS domina, con los juegos de rol (RPG) y la clasificación \"Teen\" (T) siendo los más populares. Estas diferencias reflejan variaciones culturales y preferencias regionales."
   ]
  },
  {
   "cell_type": "markdown",
   "metadata": {},
   "source": [
    "<div class=\"alert alert-block alert-success\">\n",
    "<b>Comentario del revisor:</b> <a class=\"tocSkip\"></a>\n",
    "\n",
    "Excelente! Con este análisis por región ayuda a complementar el análisis general anterior y a hacer zoom a los resultados por cada una de las regiones.   \n",
    "\n",
    "</div>"
   ]
  },
  {
   "cell_type": "markdown",
   "metadata": {},
   "source": [
    "Formulación  de hipótesis."
   ]
  },
  {
   "cell_type": "markdown",
   "metadata": {},
   "source": [
    "Antes de realizar la prueba t de Student para verificar si las medias son iguales, es necesario llevar a cabo la prueba de Levene para determinar si las varianzas de ambas muestras son homogéneas, ya que este es un supuesto crucial para la validez de la prueba t de Student."
   ]
  },
  {
   "cell_type": "code",
   "execution_count": null,
   "metadata": {},
   "outputs": [],
   "source": [
    "# Filtramos las calificaciones de los usuarios para Xbox One y PC\n",
    "xboxone_ratings = games_data_clean[games_data_clean['platform'] == 'XOne']['user_score'].dropna()\n",
    "pc_ratings = games_data_clean[games_data_clean['platform'] == 'PC']['user_score'].dropna()"
   ]
  },
  {
   "cell_type": "code",
   "execution_count": 53,
   "metadata": {},
   "outputs": [
    {
     "name": "stdout",
     "output_type": "stream",
     "text": [
      "Estadístico de Levene: 8.44812\n",
      "P-value: 0.00390\n",
      "Rechazamos la hipótesis nula. Las varianzas de las calificaciones de Xbox One y PC son diferentes.\n"
     ]
    }
   ],
   "source": [
    "# Realizamos la prueba de Levene para las calificaciones de Xbox One y PC\n",
    "stat, p_value = levene(xboxone_ratings, pc_ratings)\n",
    "\n",
    "# Mostramos los resultados\n",
    "print(f\"Estadístico de Levene: {stat:.5f}\")\n",
    "print(f\"P-value: {p_value:.5f}\")\n",
    "\n",
    "# Interpretación básica\n",
    "alpha = 0.05\n",
    "if p_value < alpha:\n",
    "    print(\"Rechazamos la hipótesis nula. Las varianzas de las calificaciones de Xbox One y PC son diferentes.\")\n",
    "else:\n",
    "    print(\"No rechazamos la hipótesis nula. Las varianzas de las calificaciones de Xbox One y PC son iguales.\")\n"
   ]
  },
  {
   "cell_type": "markdown",
   "metadata": {},
   "source": [
    "Para probar las hipótesis se utilizará la prueba t de Welch. Esta prueba es apropiada cuando queremos comparar las medias de dos grupos diferentes y determinar si existe una diferencia estadísticamente significativa entre ellas cuando la varianza entre ambas muestras es diferente. Se utilizó un nivel de significancia α = 0.05, que es comúnmente aceptado en estudios estadísticos. \n",
    "\n",
    "Hipótesis 1: Comparación de las calificaciones promedio de los usuarios para Xbox One y PC.\n",
    "\n",
    "Hipótesis nula (H₀): Las calificaciones promedio de los usuarios para las plataformas Xbox One y PC son iguales.\n",
    " \n",
    "Hipótesis alternativa (H₁): Las calificaciones promedio de los usuarios para las plataformas Xbox One y PC son diferentes.\n"
   ]
  },
  {
   "cell_type": "code",
   "execution_count": 54,
   "metadata": {},
   "outputs": [
    {
     "name": "stdout",
     "output_type": "stream",
     "text": [
      "P-value: 0.14760 - No rechazamos la hipótesis nula (H₀). Las calificaciones promedio de los usuarios para Xbox One y PC son iguales. No aceptamos la hipótesis alternativa (H₁).\n"
     ]
    }
   ],
   "source": [
    "# Realizamos la prueba t de Welch\n",
    "t_stat, p_value = ttest_ind(xboxone_ratings, pc_ratings, equal_var=False)\n",
    "\n",
    "alpha = 0.05\n",
    "# Interpretamos los resultados\n",
    "if p_value < alpha:\n",
    "    print(f\"P-value: {p_value:.5f} - Rechazamos la hipótesis nula (H₀). Las calificaciones promedio de los usuarios para Xbox One y PC son diferentes. Aceptamos la hipótesis alternativa (H₁).\")\n",
    "else:\n",
    "    print(f\"P-value: {p_value:.5f} - No rechazamos la hipótesis nula (H₀). Las calificaciones promedio de los usuarios para Xbox One y PC son iguales. No aceptamos la hipótesis alternativa (H₁).\")"
   ]
  },
  {
   "cell_type": "markdown",
   "metadata": {},
   "source": [
    "<div style=\"background-color: lightblue; padding: 10px; border-radius: 5px;\">\n",
    "El valor p de 0.14760 indica que no hay evidencia suficiente para decir que las calificaciones promedio de Xbox One y PC son diferentes. Por lo tanto, asumimos que las calificaciones son similares para ambas consolas."
   ]
  },
  {
   "cell_type": "markdown",
   "metadata": {},
   "source": [
    "Hipótesis 2: Comparación de las calificaciones promedio de los usuarios para los géneros de Acción y Deportes\n",
    "\n",
    "\n",
    "Hipótesis nula (H₀): Las calificaciones promedio de los usuarios para los géneros de Acción y Deportes son iguales.\n",
    "\n",
    "Hipótesis alternativa (H₁): Las calificaciones promedio de los usuarios para los géneros de Acción y Deportes son diferentes."
   ]
  },
  {
   "cell_type": "code",
   "execution_count": null,
   "metadata": {},
   "outputs": [],
   "source": [
    "# Filtramos las calificaciones de los usuarios para los géneros Acción y Deportes \n",
    "accion_ratings = games_data_clean[games_data_clean['genre'] == 'Action']['user_score'].dropna()\n",
    "deportes_ratings = games_data_clean[games_data_clean['genre'] == 'Sports']['user_score'].dropna()"
   ]
  },
  {
   "cell_type": "code",
   "execution_count": 55,
   "metadata": {},
   "outputs": [
    {
     "name": "stdout",
     "output_type": "stream",
     "text": [
      "Estadístico de Levene: 26.00693\n",
      "P-value: 0.00000\n",
      "Rechazamos la hipótesis nula. Las varianzas de las calificaciones de acción y sport son diferentes.\n"
     ]
    }
   ],
   "source": [
    "# Realizamos la prueba de Levene para analizar la varianza\n",
    "stat, p_value = levene(accion_ratings, deportes_ratings)\n",
    "\n",
    "print(f\"Estadístico de Levene: {stat:.5f}\")\n",
    "print(f\"P-value: {p_value:.5f}\")\n",
    "\n",
    "# Interpretación básica\n",
    "alpha = 0.05\n",
    "if p_value < alpha:\n",
    "    print(\"Rechazamos la hipótesis nula. Las varianzas de las calificaciones de acción y sport son diferentes.\")\n",
    "else:\n",
    "    print(\"No rechazamos la hipótesis nula. Las varianzas de las calificaciones de acción y sport son iguales.\")"
   ]
  },
  {
   "cell_type": "code",
   "execution_count": 56,
   "metadata": {},
   "outputs": [
    {
     "name": "stdout",
     "output_type": "stream",
     "text": [
      "P-value: 0.00000 - Rechazamos la hipótesis nula (H₀). Las calificaciones promedio de los usuarios para los géneros de Acción y Deportes son diferentes. Aceptamos la hipótesis alternativa (H₁).\n"
     ]
    }
   ],
   "source": [
    "# Realizamos la prueba t de Welch.\n",
    "t_stat_genre, p_value_genre = ttest_ind(accion_ratings, deportes_ratings,equal_var=False)\n",
    "alpha = 0.05\n",
    "if p_value_genre < alpha:\n",
    "    print(f\"P-value: {p_value_genre:.5f} - Rechazamos la hipótesis nula (H₀). Las calificaciones promedio de los usuarios para los géneros de Acción y Deportes son diferentes. Aceptamos la hipótesis alternativa (H₁).\")\n",
    "else:\n",
    "    print(f\"P-value: {p_value_genre:.5f} - No rechazamos la hipótesis nula (H₀). Las calificaciones promedio de los usuarios para los géneros de Acción y Deportes son iguales. No aceptamos la hipótesis alternativa (H₁).\")\n"
   ]
  },
  {
   "cell_type": "markdown",
   "metadata": {},
   "source": [
    "<div style=\"background-color: lightblue; padding: 10px; border-radius: 5px;\">\n",
    "    \n",
    "El valor p de 0.00000 muestra que las calificaciones promedio para los géneros de Acción y Deportes son diferentes. Por lo tanto, aceptamos que hay una diferencia significativa entre ellos."
   ]
  },
  {
   "cell_type": "markdown",
   "metadata": {},
   "source": [
    " <div class=\"alert alert-block alert-warning\">\n",
    "<b>Comentario revisor</b> <a class=\"tocSkip\"></a>\n",
    "\n",
    "Para estas pruebas te recomiendo hacer una prueba de  Levene  para mostrar si las varianzas son iguales y agregarlo dentro de la función. Actualmente lo colocar como equal_var=True. Para esto, primero debes calcular las varianzas para cada uno de las plataformas y en un segundo tiempo debes de hacer uso de la siguiente función: \n",
    "    \n",
    "    levene(xbox_one_data['user_score'], pc_data['user_score'])\n",
    "    \n",
    "Adoptaremos un nivel de significancia de 0.05; si el valor p resultante es mayor a 0.05, no podemos rechazar la hipótesis nula, y si es menor a 0.05, rechazamos la hipótesis nula, indicando que las varianzas no son iguales. \n",
    "    \n",
    "Solamente recuerda que la prueba de levene no es sustituto a la prueba de st.ttest_ind, más bien es complemento para saber que colocar dentro del elemento \"equal_var\". En este caso como rechazamos la hipótesis de varianzas iguales debemos de colocar False. Es por eso que para terminar la prueba debes de realizar la prueba de st.ttest_ind considernado el resultado de la prueba realizada de levene    \n",
    "</div>"
   ]
  },
  {
   "cell_type": "markdown",
   "metadata": {},
   "source": [
    "<div class=\"alert alert-block alert-info\">\n",
    "Se realizó la prueba de Levene como se sugirió. Debido a los resultados obtenidos, se optó por utilizar la prueba t de Welch, que es adecuada cuando las varianzas no son iguales. Sin embargo, en este caso los resultados fueron consistentes con aquellos obtenidos al asumir varianzas iguales.   \n"
   ]
  },
  {
   "cell_type": "markdown",
   "metadata": {},
   "source": [
    "<div class=\"alert alert-block alert-success\">\n",
    "<b>Comentario del revisor:</b> <a class=\"tocSkip\"></a>\n",
    "    \n",
    "Gran trabajo con los ajustes!\n",
    "\n",
    "</div>"
   ]
  },
  {
   "cell_type": "markdown",
   "metadata": {},
   "source": [
    "# Conclusiones y Recomendaciones "
   ]
  },
  {
   "cell_type": "markdown",
   "metadata": {},
   "source": [
    "El análisis de los datos nos ha permitido identificar patrones clave que son esenciales para detectar juegos prometedores y planificar campañas publicitarias más efectivas para el próximo año. A continuación, se presentan las conclusiones y recomendaciones estratégicas basadas en este análisis:\n",
    "\n",
    "Impacto de las Calificaciones en las Ventas: Las calificaciones de los críticos tienen una correlación significativa con las ventas, especialmente en plataformas populares como PlayStation 4. Aunque las calificaciones de los usuarios también influyen, el impacto de las críticas especializadas es más pronunciado. Estrategia: Ice debe enfocar sus esfuerzos en promover títulos que reciban críticas positivas de especialistas. Organizar eventos de pre-lanzamiento y colaboraciones con influencers para asegurar reseñas tempranas puede generar expectativas y validar la calidad del juego.\n",
    "\n",
    "Diferencias entre Plataformas: Aunque las calificaciones promedio de los usuarios para Xbox One y PC son similares, las ventas en Xbox One son considerablemente superiores. Sin embargo, PlayStation 4 ha demostrado ser la plataforma más rentable. Estrategia: Ice debería adaptar sus campañas publicitarias para resaltar los puntos fuertes de cada plataforma, centrando los esfuerzos en aquellas con mayor éxito en ventas, como Xbox One y PlayStation 4, para maximizar las ventas aprovechando las diferencias en el comportamiento de los consumidores.\n",
    "\n",
    "Distribución por Género y Rentabilidad: Los géneros de Acción y Shooter son los más rentables, con una notable diferencia en ventas comparado con géneros como Puzles y Simulación. Aunque hay menos juegos en el género Shooter, este sigue siendo el segundo más rentable. Estrategia: Ice debe concentrar sus campañas globales en los géneros de Acción y Shooter, destacando su atractivo masivo. Para géneros de nicho, desarrollar campañas especializadas que lleguen a su audiencia específica maximizará el retorno sobre la inversión en marketing.\n",
    "\n",
    "Perfil Regional de Usuarios: Se observaron variaciones significativas en las preferencias regionales. En América del Norte y Europa, las consolas tradicionales como Xbox One y PlayStation 4 son las más populares, mientras que en Japón, las consolas portátiles como la 3DS tienen mayor éxito. Además, en América del Norte y Europa, el género más vendido es Acción, mientras que en Japón es Role Playing. Las clasificaciones ESRB también afectan de manera diferente en cada región. Estrategia: Ice debe regionalizar sus campañas publicitarias, enfocando los recursos en las plataformas y géneros más populares en cada área. En América del Norte, destacar las consolas tradicionales, y en Japón, promover las consolas portátiles. También es importante considerar el impacto de las clasificaciones ESRB en la estrategia de marketing para cada región.\n",
    "\n",
    "Proyección: Con estos hallazgos, Ice puede optimizar su enfoque para identificar y promocionar juegos con el mayor potencial de éxito. Ajustando las campañas publicitarias según las características de cada plataforma, género y región, Ice está bien posicionada para aumentar sus ventas y fortalecer su liderazgo en el mercado global de videojuegos.\n"
   ]
  },
  {
   "cell_type": "markdown",
   "metadata": {},
   "source": [
    "\n",
    "<div class=\"alert alert-block alert-warning\">\n",
    "<b>Comentario revisor</b> <a class=\"tocSkip\"></a>\n",
    "\n",
    "En general creo que hiciste un muy buen trabajo con el proyecto, pudiste limpiar y trabajar las bases de datos de beuna manera. Además, el análisis explorario de datos fue completo al mostrar resultados relevantes que pueden ser de mucha utilidad para la toma de decisiones y desarrollaste las pruebas de hipótesis de una buena manera. No obstante, recuerda que siempre podemos mejorar y te menciono algunos puntos que debes considerar:\n",
    "\n",
    "* Verificar que cuando llenamos variables con valores nulos los estamos comletando con valores que no sesgan nuestros resultados\n",
    "\n",
    "*  Considerar eliminar registros atipicos que puedan sesgar nuestros resultados. \n",
    "    \n",
    "*  Considerar desarrollar un análisis para comprobar los supuestos de la prueba de hipótesis (varianzas iguales)\n",
    "    \n",
    "</div>"
   ]
  },
  {
   "cell_type": "markdown",
   "metadata": {},
   "source": [
    "<div class=\"alert alert-block alert-info\">\n",
    "Se llevaron a cabo las modificaciones sugeridas."
   ]
  },
  {
   "cell_type": "markdown",
   "metadata": {},
   "source": [
    "<div class=\"alert alert-block alert-success\">\n",
    "<b>Comentario del revisor:</b> <a class=\"tocSkip\"></a>\n",
    "    \n",
    "Gran trabajo con los ajustes! Que sigas disfrutando los siguientes cursos!\n",
    "\n",
    "</div>"
   ]
  }
 ],
 "metadata": {
  "ExecuteTimeLog": [
   {
    "duration": 2765,
    "start_time": "2024-08-29T02:49:47.468Z"
   },
   {
    "duration": 46,
    "start_time": "2024-08-29T02:49:50.242Z"
   },
   {
    "duration": 12,
    "start_time": "2024-08-29T02:50:20.108Z"
   },
   {
    "duration": 16,
    "start_time": "2024-08-29T02:50:37.184Z"
   },
   {
    "duration": 6,
    "start_time": "2024-08-29T02:52:52.784Z"
   },
   {
    "duration": 10,
    "start_time": "2024-08-29T02:52:59.762Z"
   },
   {
    "duration": 2,
    "start_time": "2024-08-29T02:54:10.971Z"
   },
   {
    "duration": 281,
    "start_time": "2024-08-29T02:54:23.851Z"
   },
   {
    "duration": 18,
    "start_time": "2024-08-29T02:56:04.640Z"
   },
   {
    "duration": 14,
    "start_time": "2024-08-29T02:58:13.561Z"
   },
   {
    "duration": 13,
    "start_time": "2024-08-29T02:58:26.571Z"
   },
   {
    "duration": 5,
    "start_time": "2024-08-29T03:06:19.197Z"
   },
   {
    "duration": 2487,
    "start_time": "2024-08-30T01:01:18.793Z"
   },
   {
    "duration": 42,
    "start_time": "2024-08-30T01:01:21.282Z"
   },
   {
    "duration": 12,
    "start_time": "2024-08-30T01:01:23.103Z"
   },
   {
    "duration": 13,
    "start_time": "2024-08-30T01:01:25.136Z"
   },
   {
    "duration": 8,
    "start_time": "2024-08-30T01:01:27.457Z"
   },
   {
    "duration": 6,
    "start_time": "2024-08-30T01:01:29.617Z"
   },
   {
    "duration": 219,
    "start_time": "2024-08-30T01:03:00.252Z"
   },
   {
    "duration": 3,
    "start_time": "2024-08-30T01:03:20.034Z"
   },
   {
    "duration": 24,
    "start_time": "2024-08-30T01:03:20.942Z"
   },
   {
    "duration": 11,
    "start_time": "2024-08-30T01:03:21.560Z"
   },
   {
    "duration": 10,
    "start_time": "2024-08-30T01:03:23.309Z"
   },
   {
    "duration": 21,
    "start_time": "2024-08-30T01:03:24.972Z"
   },
   {
    "duration": 6,
    "start_time": "2024-08-30T01:06:17.861Z"
   },
   {
    "duration": 6,
    "start_time": "2024-08-30T01:06:20.769Z"
   },
   {
    "duration": 8,
    "start_time": "2024-08-30T01:06:34.745Z"
   },
   {
    "duration": 17,
    "start_time": "2024-08-30T01:08:20.738Z"
   },
   {
    "duration": 3,
    "start_time": "2024-08-30T01:08:39.093Z"
   },
   {
    "duration": 16,
    "start_time": "2024-08-30T01:08:52.089Z"
   },
   {
    "duration": 6,
    "start_time": "2024-08-30T01:11:39.798Z"
   },
   {
    "duration": 4,
    "start_time": "2024-08-30T01:12:45.484Z"
   },
   {
    "duration": 17,
    "start_time": "2024-08-30T01:12:54.917Z"
   },
   {
    "duration": 12,
    "start_time": "2024-08-30T01:13:16.545Z"
   },
   {
    "duration": 21,
    "start_time": "2024-08-30T01:15:14.287Z"
   },
   {
    "duration": 4,
    "start_time": "2024-08-30T01:20:16.398Z"
   },
   {
    "duration": 6,
    "start_time": "2024-08-30T01:20:32.374Z"
   },
   {
    "duration": 5,
    "start_time": "2024-08-30T01:22:01.888Z"
   },
   {
    "duration": 16,
    "start_time": "2024-08-30T01:22:09.259Z"
   },
   {
    "duration": 6,
    "start_time": "2024-08-30T01:22:20.296Z"
   },
   {
    "duration": 5,
    "start_time": "2024-08-30T01:24:19.110Z"
   },
   {
    "duration": 5,
    "start_time": "2024-08-30T01:30:48.503Z"
   },
   {
    "duration": 8,
    "start_time": "2024-08-30T01:31:00.531Z"
   },
   {
    "duration": 13,
    "start_time": "2024-08-30T01:33:13.663Z"
   },
   {
    "duration": 12,
    "start_time": "2024-08-30T01:35:27.807Z"
   },
   {
    "duration": 7,
    "start_time": "2024-08-30T01:38:52.573Z"
   },
   {
    "duration": 9,
    "start_time": "2024-08-30T01:40:25.971Z"
   },
   {
    "duration": 5,
    "start_time": "2024-08-30T01:42:55.826Z"
   },
   {
    "duration": 8,
    "start_time": "2024-08-30T01:43:15.631Z"
   },
   {
    "duration": 9,
    "start_time": "2024-08-30T01:43:57.786Z"
   },
   {
    "duration": 9,
    "start_time": "2024-08-30T01:46:49.520Z"
   },
   {
    "duration": 6,
    "start_time": "2024-08-30T01:49:14.154Z"
   },
   {
    "duration": 9,
    "start_time": "2024-08-30T01:49:32.666Z"
   },
   {
    "duration": 15,
    "start_time": "2024-08-30T02:32:28.952Z"
   },
   {
    "duration": 5,
    "start_time": "2024-08-30T02:35:16.896Z"
   },
   {
    "duration": 4,
    "start_time": "2024-08-30T02:36:14.372Z"
   },
   {
    "duration": 13,
    "start_time": "2024-08-30T02:36:22.542Z"
   },
   {
    "duration": 14,
    "start_time": "2024-08-30T02:36:40.403Z"
   },
   {
    "duration": 3,
    "start_time": "2024-08-30T02:37:52.495Z"
   },
   {
    "duration": 23,
    "start_time": "2024-08-30T02:37:53.527Z"
   },
   {
    "duration": 11,
    "start_time": "2024-08-30T02:37:54.085Z"
   },
   {
    "duration": 10,
    "start_time": "2024-08-30T02:37:55.765Z"
   },
   {
    "duration": 20,
    "start_time": "2024-08-30T02:37:57.260Z"
   },
   {
    "duration": 8,
    "start_time": "2024-08-30T02:37:58.762Z"
   },
   {
    "duration": 16,
    "start_time": "2024-08-30T02:38:00.521Z"
   },
   {
    "duration": 12,
    "start_time": "2024-08-30T02:38:01.996Z"
   },
   {
    "duration": 16,
    "start_time": "2024-08-30T02:38:03.646Z"
   },
   {
    "duration": 7,
    "start_time": "2024-08-30T02:38:05.598Z"
   },
   {
    "duration": 5,
    "start_time": "2024-08-30T02:38:07.026Z"
   },
   {
    "duration": 8,
    "start_time": "2024-08-30T02:38:09.560Z"
   },
   {
    "duration": 14,
    "start_time": "2024-08-30T02:38:11.383Z"
   },
   {
    "duration": 11,
    "start_time": "2024-08-30T02:38:13.857Z"
   },
   {
    "duration": 158,
    "start_time": "2024-08-30T02:38:17.045Z"
   },
   {
    "duration": 112,
    "start_time": "2024-08-30T02:38:51.908Z"
   },
   {
    "duration": 188,
    "start_time": "2024-08-30T02:44:03.697Z"
   },
   {
    "duration": 121,
    "start_time": "2024-08-30T02:45:49.827Z"
   },
   {
    "duration": 199,
    "start_time": "2024-08-30T02:45:57.560Z"
   },
   {
    "duration": 6,
    "start_time": "2024-08-30T02:57:12.263Z"
   },
   {
    "duration": 9,
    "start_time": "2024-08-30T02:57:21.360Z"
   },
   {
    "duration": 9,
    "start_time": "2024-08-30T02:57:45.045Z"
   },
   {
    "duration": 9,
    "start_time": "2024-08-30T02:57:56.281Z"
   },
   {
    "duration": 4,
    "start_time": "2024-08-30T03:08:25.703Z"
   },
   {
    "duration": 6,
    "start_time": "2024-08-30T03:10:09.709Z"
   },
   {
    "duration": 9,
    "start_time": "2024-08-30T03:11:08.356Z"
   },
   {
    "duration": 8,
    "start_time": "2024-08-30T03:12:01.209Z"
   },
   {
    "duration": 8,
    "start_time": "2024-08-30T03:12:06.414Z"
   },
   {
    "duration": 9,
    "start_time": "2024-08-30T03:12:29.824Z"
   },
   {
    "duration": 163,
    "start_time": "2024-08-30T18:49:02.920Z"
   },
   {
    "duration": 13,
    "start_time": "2024-08-30T18:49:29.351Z"
   },
   {
    "duration": 13,
    "start_time": "2024-08-30T18:49:33.809Z"
   },
   {
    "duration": 11,
    "start_time": "2024-08-30T18:49:36.615Z"
   },
   {
    "duration": 2432,
    "start_time": "2024-08-30T18:49:46.296Z"
   },
   {
    "duration": 42,
    "start_time": "2024-08-30T18:49:48.730Z"
   },
   {
    "duration": 13,
    "start_time": "2024-08-30T18:49:48.773Z"
   },
   {
    "duration": 15,
    "start_time": "2024-08-30T18:49:48.789Z"
   },
   {
    "duration": 22,
    "start_time": "2024-08-30T18:49:48.805Z"
   },
   {
    "duration": 6,
    "start_time": "2024-08-30T18:49:48.829Z"
   },
   {
    "duration": 15,
    "start_time": "2024-08-30T18:49:48.837Z"
   },
   {
    "duration": 10,
    "start_time": "2024-08-30T18:49:48.854Z"
   },
   {
    "duration": 44,
    "start_time": "2024-08-30T18:49:48.865Z"
   },
   {
    "duration": 7,
    "start_time": "2024-08-30T18:49:48.913Z"
   },
   {
    "duration": 4,
    "start_time": "2024-08-30T18:49:48.921Z"
   },
   {
    "duration": 6,
    "start_time": "2024-08-30T18:49:48.927Z"
   },
   {
    "duration": 11,
    "start_time": "2024-08-30T18:49:48.935Z"
   },
   {
    "duration": 9,
    "start_time": "2024-08-30T18:49:48.948Z"
   },
   {
    "duration": 241,
    "start_time": "2024-08-30T18:49:48.958Z"
   },
   {
    "duration": 9,
    "start_time": "2024-08-30T18:49:49.204Z"
   },
   {
    "duration": 9,
    "start_time": "2024-08-30T18:49:49.215Z"
   },
   {
    "duration": 3,
    "start_time": "2024-08-30T18:49:49.226Z"
   },
   {
    "duration": 12,
    "start_time": "2024-08-30T18:49:49.231Z"
   },
   {
    "duration": 3,
    "start_time": "2024-08-30T18:50:00.886Z"
   },
   {
    "duration": 9,
    "start_time": "2024-08-30T18:50:16.635Z"
   },
   {
    "duration": 158,
    "start_time": "2024-08-30T18:58:17.838Z"
   },
   {
    "duration": 176,
    "start_time": "2024-08-30T19:01:36.323Z"
   },
   {
    "duration": 168,
    "start_time": "2024-08-30T19:02:19.218Z"
   },
   {
    "duration": 6,
    "start_time": "2024-08-30T19:10:35.669Z"
   },
   {
    "duration": 13,
    "start_time": "2024-08-30T19:13:25.527Z"
   },
   {
    "duration": 17,
    "start_time": "2024-08-30T19:13:38.113Z"
   },
   {
    "duration": 292,
    "start_time": "2024-08-30T19:18:08.034Z"
   },
   {
    "duration": 183,
    "start_time": "2024-08-30T21:59:22.724Z"
   },
   {
    "duration": 12,
    "start_time": "2024-08-30T22:01:56.531Z"
   },
   {
    "duration": 12,
    "start_time": "2024-08-30T22:02:20.622Z"
   },
   {
    "duration": 12,
    "start_time": "2024-08-30T22:02:54.981Z"
   },
   {
    "duration": 11,
    "start_time": "2024-08-30T22:02:56.827Z"
   },
   {
    "duration": 2529,
    "start_time": "2024-08-30T22:03:03.151Z"
   },
   {
    "duration": 39,
    "start_time": "2024-08-30T22:03:05.682Z"
   },
   {
    "duration": 12,
    "start_time": "2024-08-30T22:03:05.723Z"
   },
   {
    "duration": 13,
    "start_time": "2024-08-30T22:03:05.736Z"
   },
   {
    "duration": 24,
    "start_time": "2024-08-30T22:03:05.752Z"
   },
   {
    "duration": 32,
    "start_time": "2024-08-30T22:03:05.778Z"
   },
   {
    "duration": 15,
    "start_time": "2024-08-30T22:03:05.812Z"
   },
   {
    "duration": 11,
    "start_time": "2024-08-30T22:03:05.829Z"
   },
   {
    "duration": 16,
    "start_time": "2024-08-30T22:03:05.842Z"
   },
   {
    "duration": 9,
    "start_time": "2024-08-30T22:03:05.860Z"
   },
   {
    "duration": 5,
    "start_time": "2024-08-30T22:03:05.870Z"
   },
   {
    "duration": 7,
    "start_time": "2024-08-30T22:03:05.909Z"
   },
   {
    "duration": 12,
    "start_time": "2024-08-30T22:03:05.917Z"
   },
   {
    "duration": 10,
    "start_time": "2024-08-30T22:03:05.933Z"
   },
   {
    "duration": 230,
    "start_time": "2024-08-30T22:03:05.944Z"
   },
   {
    "duration": 10,
    "start_time": "2024-08-30T22:03:06.176Z"
   },
   {
    "duration": 23,
    "start_time": "2024-08-30T22:03:06.187Z"
   },
   {
    "duration": 10,
    "start_time": "2024-08-30T22:03:06.212Z"
   },
   {
    "duration": 189,
    "start_time": "2024-08-30T22:03:06.223Z"
   },
   {
    "duration": 5,
    "start_time": "2024-08-30T22:03:06.414Z"
   },
   {
    "duration": 19,
    "start_time": "2024-08-30T22:03:06.421Z"
   },
   {
    "duration": 308,
    "start_time": "2024-08-30T22:03:06.441Z"
   },
   {
    "duration": 6,
    "start_time": "2024-08-30T22:03:06.751Z"
   },
   {
    "duration": 13,
    "start_time": "2024-08-30T22:03:06.758Z"
   },
   {
    "duration": 5,
    "start_time": "2024-08-30T22:03:13.065Z"
   },
   {
    "duration": 9,
    "start_time": "2024-08-30T22:03:33.889Z"
   },
   {
    "duration": 203,
    "start_time": "2024-08-30T22:04:51.698Z"
   },
   {
    "duration": 269,
    "start_time": "2024-08-30T22:05:31.590Z"
   },
   {
    "duration": 4,
    "start_time": "2024-08-30T22:08:17.431Z"
   },
   {
    "duration": 17,
    "start_time": "2024-08-30T22:11:17.420Z"
   },
   {
    "duration": 12,
    "start_time": "2024-08-30T22:11:36.663Z"
   },
   {
    "duration": 123,
    "start_time": "2024-08-30T22:11:51.766Z"
   },
   {
    "duration": 111,
    "start_time": "2024-08-30T22:12:45.363Z"
   },
   {
    "duration": 256,
    "start_time": "2024-08-30T22:13:01.804Z"
   },
   {
    "duration": 190,
    "start_time": "2024-08-30T22:13:18.546Z"
   },
   {
    "duration": 5,
    "start_time": "2024-08-30T22:14:20.528Z"
   },
   {
    "duration": 265,
    "start_time": "2024-08-30T22:20:20.431Z"
   },
   {
    "duration": 4,
    "start_time": "2024-08-30T22:20:50.434Z"
   },
   {
    "duration": 476,
    "start_time": "2024-08-30T22:21:15.661Z"
   },
   {
    "duration": 6,
    "start_time": "2024-08-30T22:21:57.643Z"
   },
   {
    "duration": 353,
    "start_time": "2024-08-30T22:23:44.735Z"
   },
   {
    "duration": 4,
    "start_time": "2024-08-30T22:27:07.413Z"
   },
   {
    "duration": 5,
    "start_time": "2024-08-30T22:27:14.710Z"
   },
   {
    "duration": 189,
    "start_time": "2024-08-30T22:27:37.099Z"
   },
   {
    "duration": 4,
    "start_time": "2024-08-30T22:28:58.712Z"
   },
   {
    "duration": 6,
    "start_time": "2024-08-30T22:29:05.430Z"
   },
   {
    "duration": 157,
    "start_time": "2024-08-30T22:29:40.631Z"
   },
   {
    "duration": 5,
    "start_time": "2024-08-30T22:34:22.069Z"
   },
   {
    "duration": 10,
    "start_time": "2024-08-30T22:34:30.055Z"
   },
   {
    "duration": 6,
    "start_time": "2024-08-30T22:36:35.368Z"
   },
   {
    "duration": 9,
    "start_time": "2024-08-30T22:37:21.319Z"
   },
   {
    "duration": 82,
    "start_time": "2024-08-30T22:38:12.170Z"
   },
   {
    "duration": 2512,
    "start_time": "2024-08-31T18:56:37.873Z"
   },
   {
    "duration": 218,
    "start_time": "2024-08-31T18:57:08.797Z"
   },
   {
    "duration": 805,
    "start_time": "2024-08-31T18:57:19.899Z"
   },
   {
    "duration": 39,
    "start_time": "2024-08-31T18:57:20.706Z"
   },
   {
    "duration": 15,
    "start_time": "2024-08-31T18:57:20.746Z"
   },
   {
    "duration": 15,
    "start_time": "2024-08-31T18:57:20.763Z"
   },
   {
    "duration": 22,
    "start_time": "2024-08-31T18:57:20.780Z"
   },
   {
    "duration": 7,
    "start_time": "2024-08-31T18:57:20.804Z"
   },
   {
    "duration": 16,
    "start_time": "2024-08-31T18:57:20.813Z"
   },
   {
    "duration": 11,
    "start_time": "2024-08-31T18:57:20.831Z"
   },
   {
    "duration": 37,
    "start_time": "2024-08-31T18:57:20.843Z"
   },
   {
    "duration": 7,
    "start_time": "2024-08-31T18:57:20.884Z"
   },
   {
    "duration": 3,
    "start_time": "2024-08-31T18:57:20.893Z"
   },
   {
    "duration": 7,
    "start_time": "2024-08-31T18:57:20.898Z"
   },
   {
    "duration": 13,
    "start_time": "2024-08-31T18:57:20.906Z"
   },
   {
    "duration": 9,
    "start_time": "2024-08-31T18:57:20.921Z"
   },
   {
    "duration": 258,
    "start_time": "2024-08-31T18:57:20.932Z"
   },
   {
    "duration": 10,
    "start_time": "2024-08-31T18:57:21.192Z"
   },
   {
    "duration": 10,
    "start_time": "2024-08-31T18:57:21.204Z"
   },
   {
    "duration": 9,
    "start_time": "2024-08-31T18:57:21.216Z"
   },
   {
    "duration": 205,
    "start_time": "2024-08-31T18:57:21.226Z"
   },
   {
    "duration": 5,
    "start_time": "2024-08-31T18:57:21.433Z"
   },
   {
    "duration": 31,
    "start_time": "2024-08-31T18:57:21.440Z"
   },
   {
    "duration": 366,
    "start_time": "2024-08-31T18:57:21.472Z"
   },
   {
    "duration": 224,
    "start_time": "2024-08-31T18:57:21.842Z"
   },
   {
    "duration": 0,
    "start_time": "2024-08-31T18:57:22.071Z"
   },
   {
    "duration": 0,
    "start_time": "2024-08-31T18:57:22.072Z"
   },
   {
    "duration": 0,
    "start_time": "2024-08-31T18:57:22.073Z"
   },
   {
    "duration": 0,
    "start_time": "2024-08-31T18:57:22.074Z"
   },
   {
    "duration": 0,
    "start_time": "2024-08-31T18:57:22.075Z"
   },
   {
    "duration": 0,
    "start_time": "2024-08-31T18:57:22.075Z"
   },
   {
    "duration": 0,
    "start_time": "2024-08-31T18:57:22.076Z"
   },
   {
    "duration": 0,
    "start_time": "2024-08-31T18:57:22.077Z"
   },
   {
    "duration": 0,
    "start_time": "2024-08-31T18:57:22.078Z"
   },
   {
    "duration": 0,
    "start_time": "2024-08-31T18:57:22.079Z"
   },
   {
    "duration": 0,
    "start_time": "2024-08-31T18:57:22.080Z"
   },
   {
    "duration": 0,
    "start_time": "2024-08-31T18:57:22.081Z"
   },
   {
    "duration": 0,
    "start_time": "2024-08-31T18:57:22.082Z"
   },
   {
    "duration": 0,
    "start_time": "2024-08-31T18:57:22.084Z"
   },
   {
    "duration": 0,
    "start_time": "2024-08-31T18:57:22.085Z"
   },
   {
    "duration": 0,
    "start_time": "2024-08-31T18:57:22.086Z"
   },
   {
    "duration": 0,
    "start_time": "2024-08-31T18:57:22.088Z"
   },
   {
    "duration": 6,
    "start_time": "2024-08-31T18:58:19.971Z"
   },
   {
    "duration": 7,
    "start_time": "2024-08-31T19:03:02.010Z"
   },
   {
    "duration": 7,
    "start_time": "2024-08-31T19:11:42.786Z"
   },
   {
    "duration": 13,
    "start_time": "2024-08-31T19:13:21.978Z"
   },
   {
    "duration": 6,
    "start_time": "2024-08-31T19:14:05.758Z"
   },
   {
    "duration": 7,
    "start_time": "2024-08-31T19:14:24.812Z"
   },
   {
    "duration": 7,
    "start_time": "2024-08-31T19:14:49.528Z"
   },
   {
    "duration": 154,
    "start_time": "2024-09-03T15:30:34.376Z"
   },
   {
    "duration": 2502,
    "start_time": "2024-09-03T15:30:41.600Z"
   },
   {
    "duration": 42,
    "start_time": "2024-09-03T15:30:44.105Z"
   },
   {
    "duration": 12,
    "start_time": "2024-09-03T15:30:44.149Z"
   },
   {
    "duration": 13,
    "start_time": "2024-09-03T15:30:46.426Z"
   },
   {
    "duration": 21,
    "start_time": "2024-09-03T15:30:47.845Z"
   },
   {
    "duration": 8,
    "start_time": "2024-09-03T15:30:49.663Z"
   },
   {
    "duration": 19,
    "start_time": "2024-09-03T15:30:51.699Z"
   },
   {
    "duration": 12,
    "start_time": "2024-09-03T15:33:55.477Z"
   },
   {
    "duration": 8,
    "start_time": "2024-09-03T16:49:58.550Z"
   },
   {
    "duration": 5,
    "start_time": "2024-09-03T16:51:07.591Z"
   },
   {
    "duration": 7,
    "start_time": "2024-09-03T16:58:13.848Z"
   },
   {
    "duration": 14,
    "start_time": "2024-09-03T16:58:58.734Z"
   },
   {
    "duration": 15,
    "start_time": "2024-09-03T17:00:57.630Z"
   },
   {
    "duration": 10,
    "start_time": "2024-09-03T17:04:52.089Z"
   },
   {
    "duration": 12,
    "start_time": "2024-09-03T17:08:34.742Z"
   },
   {
    "duration": 8,
    "start_time": "2024-09-03T17:09:58.184Z"
   },
   {
    "duration": 10,
    "start_time": "2024-09-03T17:11:41.418Z"
   },
   {
    "duration": 8,
    "start_time": "2024-09-03T17:12:07.842Z"
   },
   {
    "duration": 10,
    "start_time": "2024-09-03T17:12:28.756Z"
   },
   {
    "duration": 8,
    "start_time": "2024-09-03T17:12:37.138Z"
   },
   {
    "duration": 7,
    "start_time": "2024-09-03T17:12:44.194Z"
   },
   {
    "duration": 8,
    "start_time": "2024-09-03T17:14:20.896Z"
   },
   {
    "duration": 8,
    "start_time": "2024-09-03T17:15:10.145Z"
   },
   {
    "duration": 6,
    "start_time": "2024-09-03T17:52:02.896Z"
   },
   {
    "duration": 18,
    "start_time": "2024-09-03T17:54:55.497Z"
   },
   {
    "duration": 291,
    "start_time": "2024-09-03T17:55:50.711Z"
   },
   {
    "duration": 77,
    "start_time": "2024-09-03T17:55:53.839Z"
   },
   {
    "duration": 218,
    "start_time": "2024-09-03T17:56:24.284Z"
   },
   {
    "duration": 206,
    "start_time": "2024-09-03T17:58:06.555Z"
   },
   {
    "duration": 204,
    "start_time": "2024-09-03T17:59:43.863Z"
   },
   {
    "duration": 11,
    "start_time": "2024-09-03T18:00:14.731Z"
   },
   {
    "duration": 333,
    "start_time": "2024-09-03T18:00:18.027Z"
   },
   {
    "duration": 5,
    "start_time": "2024-09-03T18:00:22.295Z"
   },
   {
    "duration": 277,
    "start_time": "2024-09-03T18:00:24.547Z"
   },
   {
    "duration": 3,
    "start_time": "2024-09-03T18:00:27.548Z"
   },
   {
    "duration": 458,
    "start_time": "2024-09-03T18:00:40.882Z"
   },
   {
    "duration": 5,
    "start_time": "2024-09-03T18:00:46.229Z"
   },
   {
    "duration": 5,
    "start_time": "2024-09-03T18:00:48.757Z"
   },
   {
    "duration": 233,
    "start_time": "2024-09-03T18:00:50.392Z"
   },
   {
    "duration": 12,
    "start_time": "2024-09-03T18:09:02.003Z"
   },
   {
    "duration": 13,
    "start_time": "2024-09-03T18:09:39.674Z"
   },
   {
    "duration": 12,
    "start_time": "2024-09-03T18:09:51.108Z"
   },
   {
    "duration": 341,
    "start_time": "2024-09-03T18:10:04.713Z"
   },
   {
    "duration": 252,
    "start_time": "2024-09-03T18:19:34.462Z"
   },
   {
    "duration": 4,
    "start_time": "2024-09-03T18:19:37.428Z"
   },
   {
    "duration": 4,
    "start_time": "2024-09-03T18:20:08.371Z"
   },
   {
    "duration": 487,
    "start_time": "2024-09-03T18:20:09.127Z"
   },
   {
    "duration": 523,
    "start_time": "2024-09-03T18:24:44.204Z"
   },
   {
    "duration": 155,
    "start_time": "2024-09-03T18:27:25.046Z"
   },
   {
    "duration": 199,
    "start_time": "2024-09-03T18:31:51.267Z"
   },
   {
    "duration": 501,
    "start_time": "2024-09-03T18:34:31.221Z"
   },
   {
    "duration": 364,
    "start_time": "2024-09-03T18:39:07.807Z"
   },
   {
    "duration": 277,
    "start_time": "2024-09-03T18:40:29.611Z"
   },
   {
    "duration": 390,
    "start_time": "2024-09-03T18:40:41.651Z"
   },
   {
    "duration": 475,
    "start_time": "2024-09-03T18:47:18.789Z"
   },
   {
    "duration": 306,
    "start_time": "2024-09-03T18:55:02.630Z"
   },
   {
    "duration": 505,
    "start_time": "2024-09-03T18:58:30.165Z"
   },
   {
    "duration": 523,
    "start_time": "2024-09-03T18:59:35.793Z"
   },
   {
    "duration": 547,
    "start_time": "2024-09-03T19:01:31.454Z"
   },
   {
    "duration": 619,
    "start_time": "2024-09-03T19:03:33.534Z"
   },
   {
    "duration": 455,
    "start_time": "2024-09-03T19:03:44.787Z"
   },
   {
    "duration": 573,
    "start_time": "2024-09-03T19:03:54.780Z"
   },
   {
    "duration": 597,
    "start_time": "2024-09-03T19:04:07.960Z"
   },
   {
    "duration": 469,
    "start_time": "2024-09-03T19:04:20.784Z"
   },
   {
    "duration": 520,
    "start_time": "2024-09-03T19:11:12.596Z"
   },
   {
    "duration": 6,
    "start_time": "2024-09-03T19:57:27.105Z"
   },
   {
    "duration": 250,
    "start_time": "2024-09-03T19:57:44.532Z"
   },
   {
    "duration": 269,
    "start_time": "2024-09-03T20:12:19.603Z"
   },
   {
    "duration": 17,
    "start_time": "2024-09-03T20:12:57.400Z"
   },
   {
    "duration": 8,
    "start_time": "2024-09-03T20:15:44.483Z"
   },
   {
    "duration": 173,
    "start_time": "2024-09-03T20:19:12.360Z"
   },
   {
    "duration": 97,
    "start_time": "2024-09-03T20:22:20.580Z"
   },
   {
    "duration": 173,
    "start_time": "2024-09-03T20:27:33.020Z"
   },
   {
    "duration": 98,
    "start_time": "2024-09-03T20:29:11.470Z"
   },
   {
    "duration": 98,
    "start_time": "2024-09-03T20:31:23.492Z"
   },
   {
    "duration": 106,
    "start_time": "2024-09-03T20:37:00.160Z"
   },
   {
    "duration": 115,
    "start_time": "2024-09-03T20:37:11.619Z"
   },
   {
    "duration": 101,
    "start_time": "2024-09-03T20:37:20.249Z"
   },
   {
    "duration": 100,
    "start_time": "2024-09-03T20:37:35.576Z"
   },
   {
    "duration": 10,
    "start_time": "2024-09-03T20:39:29.773Z"
   },
   {
    "duration": 9,
    "start_time": "2024-09-03T20:39:54.074Z"
   },
   {
    "duration": 8,
    "start_time": "2024-09-03T20:40:09.655Z"
   },
   {
    "duration": 10,
    "start_time": "2024-09-03T20:40:14.808Z"
   },
   {
    "duration": 340,
    "start_time": "2024-09-03T20:43:02.889Z"
   },
   {
    "duration": 488,
    "start_time": "2024-09-03T20:44:12.022Z"
   },
   {
    "duration": 325,
    "start_time": "2024-09-03T20:44:44.288Z"
   },
   {
    "duration": 311,
    "start_time": "2024-09-03T20:49:24.861Z"
   },
   {
    "duration": 11,
    "start_time": "2024-09-03T20:52:11.135Z"
   },
   {
    "duration": 320,
    "start_time": "2024-09-03T20:52:19.201Z"
   },
   {
    "duration": 201,
    "start_time": "2024-09-03T20:53:28.406Z"
   },
   {
    "duration": 11,
    "start_time": "2024-09-03T20:53:49.089Z"
   },
   {
    "duration": 328,
    "start_time": "2024-09-03T20:53:51.791Z"
   },
   {
    "duration": 42,
    "start_time": "2024-09-03T20:53:54.545Z"
   },
   {
    "duration": 6,
    "start_time": "2024-09-03T20:55:38.925Z"
   },
   {
    "duration": 6,
    "start_time": "2024-09-03T20:56:25.626Z"
   },
   {
    "duration": 10,
    "start_time": "2024-09-03T21:02:29.079Z"
   },
   {
    "duration": 298,
    "start_time": "2024-09-03T21:02:37.324Z"
   },
   {
    "duration": 6,
    "start_time": "2024-09-03T21:14:19.486Z"
   },
   {
    "duration": 7,
    "start_time": "2024-09-03T21:14:30.625Z"
   },
   {
    "duration": 3,
    "start_time": "2024-09-03T21:40:41.677Z"
   },
   {
    "duration": 3,
    "start_time": "2024-09-03T21:41:53.932Z"
   },
   {
    "duration": 4,
    "start_time": "2024-09-03T21:41:59.834Z"
   },
   {
    "duration": 6,
    "start_time": "2024-09-03T21:42:29.256Z"
   },
   {
    "duration": 5,
    "start_time": "2024-09-03T21:42:49.914Z"
   },
   {
    "duration": 8,
    "start_time": "2024-09-03T21:44:18.340Z"
   },
   {
    "duration": 8,
    "start_time": "2024-09-03T21:44:47.399Z"
   },
   {
    "duration": 8,
    "start_time": "2024-09-03T21:45:42.067Z"
   },
   {
    "duration": 8,
    "start_time": "2024-09-03T21:45:53.306Z"
   },
   {
    "duration": 8,
    "start_time": "2024-09-03T21:46:17.407Z"
   },
   {
    "duration": 7,
    "start_time": "2024-09-03T21:47:18.951Z"
   },
   {
    "duration": 4,
    "start_time": "2024-09-03T22:28:24.504Z"
   },
   {
    "duration": 448,
    "start_time": "2024-09-03T22:29:47.059Z"
   },
   {
    "duration": 5,
    "start_time": "2024-09-03T22:31:42.454Z"
   },
   {
    "duration": 5,
    "start_time": "2024-09-03T22:31:50.509Z"
   },
   {
    "duration": 283,
    "start_time": "2024-09-03T22:31:55.048Z"
   },
   {
    "duration": 8,
    "start_time": "2024-09-03T22:32:49.230Z"
   },
   {
    "duration": 294,
    "start_time": "2024-09-03T22:34:01.324Z"
   },
   {
    "duration": 296,
    "start_time": "2024-09-03T22:35:26.612Z"
   },
   {
    "duration": 5,
    "start_time": "2024-09-03T22:37:50.061Z"
   },
   {
    "duration": 241,
    "start_time": "2024-09-03T22:37:53.845Z"
   },
   {
    "duration": 6,
    "start_time": "2024-09-03T22:38:24.086Z"
   },
   {
    "duration": 258,
    "start_time": "2024-09-03T22:38:27.609Z"
   },
   {
    "duration": 224,
    "start_time": "2024-09-03T22:38:33.243Z"
   },
   {
    "duration": 217,
    "start_time": "2024-09-03T22:38:39.955Z"
   },
   {
    "duration": 5,
    "start_time": "2024-09-03T22:40:26.068Z"
   },
   {
    "duration": 769,
    "start_time": "2024-09-03T22:40:30.858Z"
   },
   {
    "duration": 5,
    "start_time": "2024-09-03T22:40:55.754Z"
   },
   {
    "duration": 245,
    "start_time": "2024-09-03T22:40:59.938Z"
   },
   {
    "duration": 237,
    "start_time": "2024-09-03T22:41:04.134Z"
   },
   {
    "duration": 237,
    "start_time": "2024-09-03T22:41:08.023Z"
   },
   {
    "duration": 266,
    "start_time": "2024-09-03T22:43:14.691Z"
   },
   {
    "duration": 242,
    "start_time": "2024-09-03T22:44:09.036Z"
   },
   {
    "duration": 10,
    "start_time": "2024-09-03T23:04:01.254Z"
   },
   {
    "duration": 14,
    "start_time": "2024-09-03T23:05:09.631Z"
   },
   {
    "duration": 5,
    "start_time": "2024-09-03T23:05:14.461Z"
   },
   {
    "duration": 13,
    "start_time": "2024-09-03T23:05:53.747Z"
   },
   {
    "duration": 5,
    "start_time": "2024-09-03T23:06:11.127Z"
   },
   {
    "duration": 4,
    "start_time": "2024-09-03T23:06:41.788Z"
   },
   {
    "duration": 94,
    "start_time": "2024-09-03T23:08:03.536Z"
   },
   {
    "duration": 196,
    "start_time": "2024-09-04T01:44:48.342Z"
   },
   {
    "duration": 15,
    "start_time": "2024-09-04T01:45:01.183Z"
   },
   {
    "duration": 15,
    "start_time": "2024-09-04T01:45:08.708Z"
   },
   {
    "duration": 16,
    "start_time": "2024-09-04T01:45:20.080Z"
   },
   {
    "duration": 3029,
    "start_time": "2024-09-04T01:45:35.137Z"
   },
   {
    "duration": 53,
    "start_time": "2024-09-04T01:45:38.171Z"
   },
   {
    "duration": 28,
    "start_time": "2024-09-04T01:45:38.227Z"
   },
   {
    "duration": 17,
    "start_time": "2024-09-04T01:45:38.262Z"
   },
   {
    "duration": 21,
    "start_time": "2024-09-04T01:45:38.280Z"
   },
   {
    "duration": 7,
    "start_time": "2024-09-04T01:45:38.303Z"
   },
   {
    "duration": 26,
    "start_time": "2024-09-04T01:45:38.312Z"
   },
   {
    "duration": 26,
    "start_time": "2024-09-04T01:45:38.340Z"
   },
   {
    "duration": 18,
    "start_time": "2024-09-04T01:45:38.368Z"
   },
   {
    "duration": 8,
    "start_time": "2024-09-04T01:45:38.390Z"
   },
   {
    "duration": 4,
    "start_time": "2024-09-04T01:45:38.400Z"
   },
   {
    "duration": 7,
    "start_time": "2024-09-04T01:45:38.405Z"
   },
   {
    "duration": 30,
    "start_time": "2024-09-04T01:45:38.436Z"
   },
   {
    "duration": 12,
    "start_time": "2024-09-04T01:45:38.468Z"
   },
   {
    "duration": 227,
    "start_time": "2024-09-04T01:45:38.482Z"
   },
   {
    "duration": 9,
    "start_time": "2024-09-04T01:45:38.711Z"
   },
   {
    "duration": 18,
    "start_time": "2024-09-04T01:45:38.731Z"
   },
   {
    "duration": 20,
    "start_time": "2024-09-04T01:45:38.754Z"
   },
   {
    "duration": 207,
    "start_time": "2024-09-04T01:45:38.778Z"
   },
   {
    "duration": 5,
    "start_time": "2024-09-04T01:45:38.987Z"
   },
   {
    "duration": 17,
    "start_time": "2024-09-04T01:45:38.994Z"
   },
   {
    "duration": 341,
    "start_time": "2024-09-04T01:45:39.013Z"
   },
   {
    "duration": 237,
    "start_time": "2024-09-04T01:45:39.356Z"
   },
   {
    "duration": 13,
    "start_time": "2024-09-04T01:45:39.595Z"
   },
   {
    "duration": 508,
    "start_time": "2024-09-04T01:45:39.611Z"
   },
   {
    "duration": 4,
    "start_time": "2024-09-04T01:45:40.121Z"
   },
   {
    "duration": 315,
    "start_time": "2024-09-04T01:45:40.127Z"
   },
   {
    "duration": 4,
    "start_time": "2024-09-04T01:45:40.458Z"
   },
   {
    "duration": 556,
    "start_time": "2024-09-04T01:45:40.464Z"
   },
   {
    "duration": 21,
    "start_time": "2024-09-04T01:45:41.021Z"
   },
   {
    "duration": 6,
    "start_time": "2024-09-04T01:45:41.056Z"
   },
   {
    "duration": 204,
    "start_time": "2024-09-04T01:45:41.064Z"
   },
   {
    "duration": 7,
    "start_time": "2024-09-04T01:45:41.269Z"
   },
   {
    "duration": 191,
    "start_time": "2024-09-04T01:45:41.277Z"
   },
   {
    "duration": 9,
    "start_time": "2024-09-04T01:45:41.470Z"
   },
   {
    "duration": 127,
    "start_time": "2024-09-04T01:45:41.480Z"
   },
   {
    "duration": 10,
    "start_time": "2024-09-04T01:45:41.609Z"
   },
   {
    "duration": 362,
    "start_time": "2024-09-04T01:45:41.620Z"
   },
   {
    "duration": 4,
    "start_time": "2024-09-04T01:45:41.984Z"
   },
   {
    "duration": 6,
    "start_time": "2024-09-04T01:45:41.989Z"
   },
   {
    "duration": 135,
    "start_time": "2024-09-04T01:45:41.997Z"
   },
   {
    "duration": 22,
    "start_time": "2024-09-04T01:45:42.136Z"
   },
   {
    "duration": 11,
    "start_time": "2024-09-04T01:45:42.168Z"
   },
   {
    "duration": 489,
    "start_time": "2024-09-04T01:45:42.181Z"
   },
   {
    "duration": 0,
    "start_time": "2024-09-04T01:45:42.673Z"
   },
   {
    "duration": 0,
    "start_time": "2024-09-04T01:45:42.674Z"
   },
   {
    "duration": 0,
    "start_time": "2024-09-04T01:45:42.675Z"
   },
   {
    "duration": 0,
    "start_time": "2024-09-04T01:45:42.677Z"
   },
   {
    "duration": 0,
    "start_time": "2024-09-04T01:45:42.678Z"
   },
   {
    "duration": 0,
    "start_time": "2024-09-04T01:45:42.679Z"
   },
   {
    "duration": 0,
    "start_time": "2024-09-04T01:45:42.680Z"
   },
   {
    "duration": 4,
    "start_time": "2024-09-04T01:51:42.068Z"
   },
   {
    "duration": 386,
    "start_time": "2024-09-04T01:52:38.873Z"
   },
   {
    "duration": 4,
    "start_time": "2024-09-04T01:54:23.573Z"
   },
   {
    "duration": 357,
    "start_time": "2024-09-04T01:54:43.772Z"
   },
   {
    "duration": 4,
    "start_time": "2024-09-04T01:55:39.597Z"
   },
   {
    "duration": 342,
    "start_time": "2024-09-04T01:55:44.857Z"
   },
   {
    "duration": 8,
    "start_time": "2024-09-04T01:56:27.514Z"
   },
   {
    "duration": 14,
    "start_time": "2024-09-04T01:56:35.743Z"
   },
   {
    "duration": 13,
    "start_time": "2024-09-04T01:56:43.622Z"
   },
   {
    "duration": 249,
    "start_time": "2024-09-04T01:56:51.352Z"
   },
   {
    "duration": 261,
    "start_time": "2024-09-04T01:59:14.751Z"
   },
   {
    "duration": 285,
    "start_time": "2024-09-04T02:00:25.869Z"
   },
   {
    "duration": 316,
    "start_time": "2024-09-04T02:01:51.827Z"
   },
   {
    "duration": 3,
    "start_time": "2024-09-04T02:11:24.301Z"
   },
   {
    "duration": 709,
    "start_time": "2024-09-04T02:11:27.565Z"
   },
   {
    "duration": 4,
    "start_time": "2024-09-04T02:11:59.893Z"
   },
   {
    "duration": 366,
    "start_time": "2024-09-04T02:12:02.843Z"
   },
   {
    "duration": 21,
    "start_time": "2024-09-04T02:14:49.838Z"
   },
   {
    "duration": 296,
    "start_time": "2024-09-04T02:14:57.769Z"
   },
   {
    "duration": 5,
    "start_time": "2024-09-04T02:15:28.102Z"
   },
   {
    "duration": 272,
    "start_time": "2024-09-04T02:15:32.991Z"
   },
   {
    "duration": 6,
    "start_time": "2024-09-04T02:23:32.602Z"
   },
   {
    "duration": 3,
    "start_time": "2024-09-04T02:24:10.808Z"
   },
   {
    "duration": 273,
    "start_time": "2024-09-04T02:24:15.497Z"
   },
   {
    "duration": 298,
    "start_time": "2024-09-04T02:24:50.697Z"
   },
   {
    "duration": 267,
    "start_time": "2024-09-04T02:25:07.660Z"
   },
   {
    "duration": 265,
    "start_time": "2024-09-04T02:26:17.585Z"
   },
   {
    "duration": 249,
    "start_time": "2024-09-04T02:27:02.579Z"
   },
   {
    "duration": 294,
    "start_time": "2024-09-04T02:27:59.748Z"
   },
   {
    "duration": 5,
    "start_time": "2024-09-04T02:28:47.964Z"
   },
   {
    "duration": 422,
    "start_time": "2024-09-04T02:28:50.144Z"
   },
   {
    "duration": 3,
    "start_time": "2024-09-04T02:28:59.916Z"
   },
   {
    "duration": 280,
    "start_time": "2024-09-04T02:29:02.875Z"
   },
   {
    "duration": 270,
    "start_time": "2024-09-04T02:29:13.994Z"
   },
   {
    "duration": 265,
    "start_time": "2024-09-04T02:29:26.217Z"
   },
   {
    "duration": 4,
    "start_time": "2024-09-04T02:31:43.476Z"
   },
   {
    "duration": 268,
    "start_time": "2024-09-04T02:32:13.156Z"
   },
   {
    "duration": 271,
    "start_time": "2024-09-04T02:32:54.138Z"
   },
   {
    "duration": 331,
    "start_time": "2024-09-04T02:33:04.193Z"
   },
   {
    "duration": 258,
    "start_time": "2024-09-04T02:33:14.045Z"
   },
   {
    "duration": 7,
    "start_time": "2024-09-04T03:01:54.071Z"
   },
   {
    "duration": 7,
    "start_time": "2024-09-04T03:10:52.759Z"
   },
   {
    "duration": 89,
    "start_time": "2024-09-04T04:13:13.675Z"
   },
   {
    "duration": 77,
    "start_time": "2024-09-04T04:13:26.238Z"
   },
   {
    "duration": 3,
    "start_time": "2024-09-04T04:17:40.639Z"
   },
   {
    "duration": 853,
    "start_time": "2024-09-04T04:17:48.985Z"
   },
   {
    "duration": 26,
    "start_time": "2024-09-04T04:17:49.840Z"
   },
   {
    "duration": 13,
    "start_time": "2024-09-04T04:17:49.867Z"
   },
   {
    "duration": 13,
    "start_time": "2024-09-04T04:17:49.882Z"
   },
   {
    "duration": 41,
    "start_time": "2024-09-04T04:17:49.896Z"
   },
   {
    "duration": 7,
    "start_time": "2024-09-04T04:17:49.940Z"
   },
   {
    "duration": 15,
    "start_time": "2024-09-04T04:17:49.948Z"
   },
   {
    "duration": 11,
    "start_time": "2024-09-04T04:17:49.965Z"
   },
   {
    "duration": 15,
    "start_time": "2024-09-04T04:17:49.978Z"
   },
   {
    "duration": 37,
    "start_time": "2024-09-04T04:17:49.997Z"
   },
   {
    "duration": 4,
    "start_time": "2024-09-04T04:17:50.036Z"
   },
   {
    "duration": 7,
    "start_time": "2024-09-04T04:17:50.042Z"
   },
   {
    "duration": 13,
    "start_time": "2024-09-04T04:17:50.051Z"
   },
   {
    "duration": 11,
    "start_time": "2024-09-04T04:17:50.065Z"
   },
   {
    "duration": 240,
    "start_time": "2024-09-04T04:17:50.078Z"
   },
   {
    "duration": 13,
    "start_time": "2024-09-04T04:17:50.321Z"
   },
   {
    "duration": 9,
    "start_time": "2024-09-04T04:17:50.336Z"
   },
   {
    "duration": 10,
    "start_time": "2024-09-04T04:17:50.347Z"
   },
   {
    "duration": 202,
    "start_time": "2024-09-04T04:17:50.359Z"
   },
   {
    "duration": 5,
    "start_time": "2024-09-04T04:17:50.563Z"
   },
   {
    "duration": 18,
    "start_time": "2024-09-04T04:17:50.570Z"
   },
   {
    "duration": 362,
    "start_time": "2024-09-04T04:17:50.590Z"
   },
   {
    "duration": 215,
    "start_time": "2024-09-04T04:17:50.954Z"
   },
   {
    "duration": 13,
    "start_time": "2024-09-04T04:17:51.170Z"
   },
   {
    "duration": 392,
    "start_time": "2024-09-04T04:17:51.185Z"
   },
   {
    "duration": 5,
    "start_time": "2024-09-04T04:17:51.579Z"
   },
   {
    "duration": 274,
    "start_time": "2024-09-04T04:17:51.586Z"
   },
   {
    "duration": 5,
    "start_time": "2024-09-04T04:17:51.865Z"
   },
   {
    "duration": 517,
    "start_time": "2024-09-04T04:17:51.871Z"
   },
   {
    "duration": 6,
    "start_time": "2024-09-04T04:17:52.389Z"
   },
   {
    "duration": 6,
    "start_time": "2024-09-04T04:17:52.396Z"
   },
   {
    "duration": 195,
    "start_time": "2024-09-04T04:17:52.404Z"
   },
   {
    "duration": 7,
    "start_time": "2024-09-04T04:17:52.601Z"
   },
   {
    "duration": 179,
    "start_time": "2024-09-04T04:17:52.610Z"
   },
   {
    "duration": 7,
    "start_time": "2024-09-04T04:17:52.792Z"
   },
   {
    "duration": 92,
    "start_time": "2024-09-04T04:17:52.800Z"
   },
   {
    "duration": 11,
    "start_time": "2024-09-04T04:17:52.893Z"
   },
   {
    "duration": 356,
    "start_time": "2024-09-04T04:17:52.905Z"
   },
   {
    "duration": 4,
    "start_time": "2024-09-04T04:17:53.262Z"
   },
   {
    "duration": 5,
    "start_time": "2024-09-04T04:17:53.268Z"
   },
   {
    "duration": 7,
    "start_time": "2024-09-04T04:17:53.274Z"
   },
   {
    "duration": 325,
    "start_time": "2024-09-04T04:17:53.282Z"
   },
   {
    "duration": 8,
    "start_time": "2024-09-04T04:17:53.609Z"
   },
   {
    "duration": 234,
    "start_time": "2024-09-04T04:17:53.631Z"
   },
   {
    "duration": 8,
    "start_time": "2024-09-04T04:17:53.867Z"
   },
   {
    "duration": 223,
    "start_time": "2024-09-04T04:17:53.877Z"
   },
   {
    "duration": 6,
    "start_time": "2024-09-04T04:17:54.103Z"
   },
   {
    "duration": 6,
    "start_time": "2024-09-04T04:17:54.110Z"
   },
   {
    "duration": 898,
    "start_time": "2024-09-04T04:18:25.441Z"
   },
   {
    "duration": 30,
    "start_time": "2024-09-04T04:18:26.342Z"
   },
   {
    "duration": 16,
    "start_time": "2024-09-04T04:18:26.374Z"
   },
   {
    "duration": 17,
    "start_time": "2024-09-04T04:18:26.392Z"
   },
   {
    "duration": 44,
    "start_time": "2024-09-04T04:18:26.413Z"
   },
   {
    "duration": 11,
    "start_time": "2024-09-04T04:18:26.459Z"
   },
   {
    "duration": 15,
    "start_time": "2024-09-04T04:18:26.472Z"
   },
   {
    "duration": 12,
    "start_time": "2024-09-04T04:18:26.489Z"
   },
   {
    "duration": 52,
    "start_time": "2024-09-04T04:18:26.502Z"
   },
   {
    "duration": 11,
    "start_time": "2024-09-04T04:18:26.556Z"
   },
   {
    "duration": 5,
    "start_time": "2024-09-04T04:18:26.569Z"
   },
   {
    "duration": 9,
    "start_time": "2024-09-04T04:18:26.576Z"
   },
   {
    "duration": 13,
    "start_time": "2024-09-04T04:18:26.587Z"
   },
   {
    "duration": 15,
    "start_time": "2024-09-04T04:18:26.633Z"
   },
   {
    "duration": 314,
    "start_time": "2024-09-04T04:18:26.650Z"
   },
   {
    "duration": 15,
    "start_time": "2024-09-04T04:18:26.966Z"
   },
   {
    "duration": 12,
    "start_time": "2024-09-04T04:18:26.984Z"
   },
   {
    "duration": 12,
    "start_time": "2024-09-04T04:18:26.998Z"
   },
   {
    "duration": 191,
    "start_time": "2024-09-04T04:18:27.012Z"
   },
   {
    "duration": 7,
    "start_time": "2024-09-04T04:18:27.205Z"
   },
   {
    "duration": 27,
    "start_time": "2024-09-04T04:18:27.213Z"
   },
   {
    "duration": 434,
    "start_time": "2024-09-04T04:18:27.242Z"
   },
   {
    "duration": 298,
    "start_time": "2024-09-04T04:18:27.678Z"
   },
   {
    "duration": 17,
    "start_time": "2024-09-04T04:18:27.978Z"
   },
   {
    "duration": 404,
    "start_time": "2024-09-04T04:18:27.997Z"
   },
   {
    "duration": 4,
    "start_time": "2024-09-04T04:18:28.403Z"
   },
   {
    "duration": 281,
    "start_time": "2024-09-04T04:18:28.408Z"
   },
   {
    "duration": 4,
    "start_time": "2024-09-04T04:18:28.690Z"
   },
   {
    "duration": 508,
    "start_time": "2024-09-04T04:18:28.696Z"
   },
   {
    "duration": 5,
    "start_time": "2024-09-04T04:18:29.206Z"
   },
   {
    "duration": 6,
    "start_time": "2024-09-04T04:18:29.213Z"
   },
   {
    "duration": 174,
    "start_time": "2024-09-04T04:18:29.232Z"
   },
   {
    "duration": 6,
    "start_time": "2024-09-04T04:18:29.408Z"
   },
   {
    "duration": 178,
    "start_time": "2024-09-04T04:18:29.416Z"
   },
   {
    "duration": 8,
    "start_time": "2024-09-04T04:18:29.596Z"
   },
   {
    "duration": 91,
    "start_time": "2024-09-04T04:18:29.606Z"
   },
   {
    "duration": 10,
    "start_time": "2024-09-04T04:18:29.699Z"
   },
   {
    "duration": 351,
    "start_time": "2024-09-04T04:18:29.711Z"
   },
   {
    "duration": 3,
    "start_time": "2024-09-04T04:18:30.064Z"
   },
   {
    "duration": 4,
    "start_time": "2024-09-04T04:18:30.069Z"
   },
   {
    "duration": 5,
    "start_time": "2024-09-04T04:18:30.077Z"
   },
   {
    "duration": 353,
    "start_time": "2024-09-04T04:18:30.084Z"
   },
   {
    "duration": 8,
    "start_time": "2024-09-04T04:18:30.439Z"
   },
   {
    "duration": 241,
    "start_time": "2024-09-04T04:18:30.448Z"
   },
   {
    "duration": 8,
    "start_time": "2024-09-04T04:18:30.690Z"
   },
   {
    "duration": 231,
    "start_time": "2024-09-04T04:18:30.700Z"
   },
   {
    "duration": 6,
    "start_time": "2024-09-04T04:18:30.933Z"
   },
   {
    "duration": 7,
    "start_time": "2024-09-04T04:18:30.942Z"
   },
   {
    "duration": 296,
    "start_time": "2024-09-04T04:19:55.459Z"
   },
   {
    "duration": 328,
    "start_time": "2024-09-04T04:20:13.926Z"
   },
   {
    "duration": 188,
    "start_time": "2024-09-06T18:27:10.986Z"
   },
   {
    "duration": 11,
    "start_time": "2024-09-06T18:27:15.873Z"
   },
   {
    "duration": 3053,
    "start_time": "2024-09-06T18:27:21.606Z"
   },
   {
    "duration": 41,
    "start_time": "2024-09-06T18:27:24.661Z"
   },
   {
    "duration": 13,
    "start_time": "2024-09-06T18:27:24.704Z"
   },
   {
    "duration": 25,
    "start_time": "2024-09-06T18:27:24.720Z"
   },
   {
    "duration": 35,
    "start_time": "2024-09-06T18:27:24.746Z"
   },
   {
    "duration": 7,
    "start_time": "2024-09-06T18:27:24.783Z"
   },
   {
    "duration": 15,
    "start_time": "2024-09-06T18:27:24.791Z"
   },
   {
    "duration": 31,
    "start_time": "2024-09-06T18:27:24.808Z"
   },
   {
    "duration": 18,
    "start_time": "2024-09-06T18:27:24.845Z"
   },
   {
    "duration": 7,
    "start_time": "2024-09-06T18:27:24.866Z"
   },
   {
    "duration": 4,
    "start_time": "2024-09-06T18:27:24.875Z"
   },
   {
    "duration": 6,
    "start_time": "2024-09-06T18:27:24.881Z"
   },
   {
    "duration": 12,
    "start_time": "2024-09-06T18:27:24.889Z"
   },
   {
    "duration": 47,
    "start_time": "2024-09-06T18:27:24.903Z"
   },
   {
    "duration": 243,
    "start_time": "2024-09-06T18:27:24.952Z"
   },
   {
    "duration": 9,
    "start_time": "2024-09-06T18:27:25.196Z"
   },
   {
    "duration": 9,
    "start_time": "2024-09-06T18:27:25.207Z"
   },
   {
    "duration": 36,
    "start_time": "2024-09-06T18:27:25.218Z"
   },
   {
    "duration": 206,
    "start_time": "2024-09-06T18:27:25.256Z"
   },
   {
    "duration": 5,
    "start_time": "2024-09-06T18:27:25.463Z"
   },
   {
    "duration": 17,
    "start_time": "2024-09-06T18:27:25.470Z"
   },
   {
    "duration": 332,
    "start_time": "2024-09-06T18:27:25.488Z"
   },
   {
    "duration": 260,
    "start_time": "2024-09-06T18:27:25.822Z"
   },
   {
    "duration": 9,
    "start_time": "2024-09-06T18:27:26.083Z"
   },
   {
    "duration": 11,
    "start_time": "2024-09-06T18:27:26.094Z"
   },
   {
    "duration": 385,
    "start_time": "2024-09-06T18:27:26.107Z"
   },
   {
    "duration": 4,
    "start_time": "2024-09-06T18:27:26.494Z"
   },
   {
    "duration": 351,
    "start_time": "2024-09-06T18:27:26.503Z"
   },
   {
    "duration": 3,
    "start_time": "2024-09-06T18:27:26.857Z"
   },
   {
    "duration": 558,
    "start_time": "2024-09-06T18:27:26.862Z"
   },
   {
    "duration": 13,
    "start_time": "2024-09-06T18:27:27.422Z"
   },
   {
    "duration": 4,
    "start_time": "2024-09-06T18:27:27.452Z"
   },
   {
    "duration": 204,
    "start_time": "2024-09-06T18:27:27.458Z"
   },
   {
    "duration": 7,
    "start_time": "2024-09-06T18:27:27.664Z"
   },
   {
    "duration": 187,
    "start_time": "2024-09-06T18:27:27.672Z"
   },
   {
    "duration": 11,
    "start_time": "2024-09-06T18:27:27.861Z"
   },
   {
    "duration": 94,
    "start_time": "2024-09-06T18:27:27.874Z"
   },
   {
    "duration": 10,
    "start_time": "2024-09-06T18:27:27.971Z"
   },
   {
    "duration": 375,
    "start_time": "2024-09-06T18:27:27.983Z"
   },
   {
    "duration": 3,
    "start_time": "2024-09-06T18:27:28.360Z"
   },
   {
    "duration": 4,
    "start_time": "2024-09-06T18:27:28.365Z"
   },
   {
    "duration": 5,
    "start_time": "2024-09-06T18:27:28.371Z"
   },
   {
    "duration": 291,
    "start_time": "2024-09-06T18:27:28.377Z"
   },
   {
    "duration": 7,
    "start_time": "2024-09-06T18:27:28.670Z"
   },
   {
    "duration": 341,
    "start_time": "2024-09-06T18:27:28.679Z"
   },
   {
    "duration": 31,
    "start_time": "2024-09-06T18:27:29.021Z"
   },
   {
    "duration": 253,
    "start_time": "2024-09-06T18:27:29.053Z"
   },
   {
    "duration": 6,
    "start_time": "2024-09-06T18:27:29.307Z"
   },
   {
    "duration": 24,
    "start_time": "2024-09-06T18:27:29.315Z"
   },
   {
    "duration": 27,
    "start_time": "2024-09-06T18:29:56.829Z"
   },
   {
    "duration": 28,
    "start_time": "2024-09-06T18:30:24.422Z"
   },
   {
    "duration": 11,
    "start_time": "2024-09-06T18:31:03.050Z"
   },
   {
    "duration": 16,
    "start_time": "2024-09-06T18:35:15.357Z"
   },
   {
    "duration": 153,
    "start_time": "2024-09-06T18:38:59.217Z"
   },
   {
    "duration": 17,
    "start_time": "2024-09-06T18:44:52.349Z"
   },
   {
    "duration": 4,
    "start_time": "2024-09-06T18:45:05.509Z"
   },
   {
    "duration": 17,
    "start_time": "2024-09-06T18:45:15.556Z"
   },
   {
    "duration": 12,
    "start_time": "2024-09-06T18:45:21.685Z"
   },
   {
    "duration": 917,
    "start_time": "2024-09-06T18:47:13.348Z"
   },
   {
    "duration": 25,
    "start_time": "2024-09-06T18:47:14.267Z"
   },
   {
    "duration": 12,
    "start_time": "2024-09-06T18:47:14.293Z"
   },
   {
    "duration": 12,
    "start_time": "2024-09-06T18:47:14.307Z"
   },
   {
    "duration": 36,
    "start_time": "2024-09-06T18:47:14.322Z"
   },
   {
    "duration": 7,
    "start_time": "2024-09-06T18:47:14.360Z"
   },
   {
    "duration": 15,
    "start_time": "2024-09-06T18:47:14.368Z"
   },
   {
    "duration": 10,
    "start_time": "2024-09-06T18:47:14.385Z"
   },
   {
    "duration": 34,
    "start_time": "2024-09-06T18:47:14.397Z"
   },
   {
    "duration": 14,
    "start_time": "2024-09-06T18:47:14.433Z"
   },
   {
    "duration": 6,
    "start_time": "2024-09-06T18:47:14.452Z"
   },
   {
    "duration": 6,
    "start_time": "2024-09-06T18:47:14.460Z"
   },
   {
    "duration": 12,
    "start_time": "2024-09-06T18:47:14.468Z"
   },
   {
    "duration": 10,
    "start_time": "2024-09-06T18:47:14.484Z"
   },
   {
    "duration": 280,
    "start_time": "2024-09-06T18:47:14.495Z"
   },
   {
    "duration": 9,
    "start_time": "2024-09-06T18:47:14.777Z"
   },
   {
    "duration": 9,
    "start_time": "2024-09-06T18:47:14.787Z"
   },
   {
    "duration": 52,
    "start_time": "2024-09-06T18:47:14.797Z"
   },
   {
    "duration": 208,
    "start_time": "2024-09-06T18:47:14.851Z"
   },
   {
    "duration": 6,
    "start_time": "2024-09-06T18:47:15.061Z"
   },
   {
    "duration": 19,
    "start_time": "2024-09-06T18:47:15.070Z"
   },
   {
    "duration": 410,
    "start_time": "2024-09-06T18:47:15.091Z"
   },
   {
    "duration": 262,
    "start_time": "2024-09-06T18:47:15.503Z"
   },
   {
    "duration": 12,
    "start_time": "2024-09-06T18:47:15.766Z"
   },
   {
    "duration": 12,
    "start_time": "2024-09-06T18:47:15.780Z"
   },
   {
    "duration": 12,
    "start_time": "2024-09-06T18:47:15.793Z"
   },
   {
    "duration": 370,
    "start_time": "2024-09-06T18:47:15.808Z"
   },
   {
    "duration": 4,
    "start_time": "2024-09-06T18:47:16.180Z"
   },
   {
    "duration": 304,
    "start_time": "2024-09-06T18:47:16.185Z"
   },
   {
    "duration": 3,
    "start_time": "2024-09-06T18:47:16.491Z"
   },
   {
    "duration": 573,
    "start_time": "2024-09-06T18:47:16.496Z"
   },
   {
    "duration": 6,
    "start_time": "2024-09-06T18:47:17.070Z"
   },
   {
    "duration": 6,
    "start_time": "2024-09-06T18:47:17.077Z"
   },
   {
    "duration": 187,
    "start_time": "2024-09-06T18:47:17.084Z"
   },
   {
    "duration": 7,
    "start_time": "2024-09-06T18:47:17.273Z"
   },
   {
    "duration": 207,
    "start_time": "2024-09-06T18:47:17.281Z"
   },
   {
    "duration": 7,
    "start_time": "2024-09-06T18:47:17.490Z"
   },
   {
    "duration": 101,
    "start_time": "2024-09-06T18:47:17.498Z"
   },
   {
    "duration": 12,
    "start_time": "2024-09-06T18:47:17.601Z"
   },
   {
    "duration": 359,
    "start_time": "2024-09-06T18:47:17.615Z"
   },
   {
    "duration": 4,
    "start_time": "2024-09-06T18:47:17.980Z"
   },
   {
    "duration": 5,
    "start_time": "2024-09-06T18:47:17.987Z"
   },
   {
    "duration": 6,
    "start_time": "2024-09-06T18:47:17.994Z"
   },
   {
    "duration": 375,
    "start_time": "2024-09-06T18:47:18.002Z"
   },
   {
    "duration": 8,
    "start_time": "2024-09-06T18:47:18.378Z"
   },
   {
    "duration": 276,
    "start_time": "2024-09-06T18:47:18.388Z"
   },
   {
    "duration": 8,
    "start_time": "2024-09-06T18:47:18.665Z"
   },
   {
    "duration": 252,
    "start_time": "2024-09-06T18:47:18.675Z"
   },
   {
    "duration": 11,
    "start_time": "2024-09-06T18:47:18.932Z"
   },
   {
    "duration": 12,
    "start_time": "2024-09-06T18:47:18.945Z"
   },
   {
    "duration": 3,
    "start_time": "2024-09-06T19:25:49.160Z"
   },
   {
    "duration": 273,
    "start_time": "2024-09-06T19:26:35.792Z"
   },
   {
    "duration": 4,
    "start_time": "2024-09-06T19:28:13.914Z"
   },
   {
    "duration": 4,
    "start_time": "2024-09-06T19:54:54.835Z"
   },
   {
    "duration": 5,
    "start_time": "2024-09-06T20:00:26.721Z"
   },
   {
    "duration": 4,
    "start_time": "2024-09-06T20:01:51.342Z"
   }
  ],
  "kernelspec": {
   "display_name": "Python 3 (ipykernel)",
   "language": "python",
   "name": "python3"
  },
  "language_info": {
   "codemirror_mode": {
    "name": "ipython",
    "version": 3
   },
   "file_extension": ".py",
   "mimetype": "text/x-python",
   "name": "python",
   "nbconvert_exporter": "python",
   "pygments_lexer": "ipython3",
   "version": "3.12.4"
  },
  "toc": {
   "base_numbering": 1,
   "nav_menu": {},
   "number_sections": true,
   "sideBar": true,
   "skip_h1_title": true,
   "title_cell": "Table of Contents",
   "title_sidebar": "Contents",
   "toc_cell": false,
   "toc_position": {},
   "toc_section_display": true,
   "toc_window_display": false
  }
 },
 "nbformat": 4,
 "nbformat_minor": 4
}
